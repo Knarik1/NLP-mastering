{
 "cells": [
  {
   "cell_type": "markdown",
   "metadata": {},
   "source": [
    "\n",
    "<pre>\n",
    "<b>Contents</b>\n",
    "1. Using a Tagger\n",
    "2. Tagged Corpora\n",
    "    Representing Tagged Tokens\n",
    "    Reading Tagged Corpora\n",
    "    A Universal Part-of-Speech Tagset\n",
    "    Nouns\n",
    "    Verbs\n",
    "    Adjectives and Adverbs\n",
    "    Unsimplified Tags\n",
    "    Exploring Tagged Corpora\n",
    "3. Mapping Words to Properties Using Python Dictionaries\n",
    "    Indexing Lists vs Dictionaries\n",
    "    Dictionaries in Python\n",
    "    Defining Dictionaries\n",
    "    Default Dictionaries\n",
    "    Incrementally Updating a Dictionary\n",
    "    Complex Keys and Values\n",
    "    Inverting a Dictionary\n",
    "4. Automatic Tagging\n",
    "    The Default Tagger\n",
    "    The Regular Expression Tagger\n",
    "    The Lookup Tagger\n",
    "    Evaluation\n",
    "5. N-Gram Tagging\n",
    "    Unigram Tagging\n",
    "    Separating the Training and Testing Data\n",
    "    General N-Gram Tagging\n",
    "    Combining Taggers\n",
    "    Tagging Unknown Words\n",
    "    Storing Taggers\n",
    "    Performance Limitations\n",
    "6. Transformation-Based Tagging\n",
    "7. How to Determine the Category of a Word\n",
    "    Morphological Clues\n",
    "    Syntactic Clues\n",
    "    Semantic Clues\n",
    "    New Words\n",
    "    Morphology in Part of Speech Tagsets\n",
    "        </pre>"
   ]
  },
  {
   "cell_type": "markdown",
   "metadata": {},
   "source": [
    "## Using a Tagger"
   ]
  },
  {
   "cell_type": "code",
   "execution_count": 1,
   "metadata": {},
   "outputs": [],
   "source": [
    "import nltk"
   ]
  },
  {
   "cell_type": "code",
   "execution_count": 7,
   "metadata": {},
   "outputs": [
    {
     "data": {
      "text/plain": [
       "[('And', 'CC'),\n",
       " ('now', 'RB'),\n",
       " ('for', 'IN'),\n",
       " ('something', 'NN'),\n",
       " ('completely', 'RB'),\n",
       " ('different', 'JJ')]"
      ]
     },
     "execution_count": 7,
     "metadata": {},
     "output_type": "execute_result"
    }
   ],
   "source": [
    "tokens1 = nltk.word_tokenize(\"And now for something completely different\")\n",
    "nltk.pos_tag(tokens1)"
   ]
  },
  {
   "cell_type": "code",
   "execution_count": 8,
   "metadata": {},
   "outputs": [
    {
     "data": {
      "text/plain": [
       "[('They', 'PRP'),\n",
       " ('refuse', 'VBP'),\n",
       " ('to', 'TO'),\n",
       " ('permit', 'VB'),\n",
       " ('us', 'PRP'),\n",
       " ('to', 'TO'),\n",
       " ('obtain', 'VB'),\n",
       " ('the', 'DT'),\n",
       " ('refuse', 'NN'),\n",
       " ('permit', 'NN')]"
      ]
     },
     "execution_count": 8,
     "metadata": {},
     "output_type": "execute_result"
    }
   ],
   "source": [
    "tokens2 = nltk.word_tokenize(\"They refuse to permit us to obtain the refuse permit\")\n",
    "nltk.pos_tag(tokens2)"
   ]
  },
  {
   "cell_type": "code",
   "execution_count": 9,
   "metadata": {},
   "outputs": [],
   "source": [
    "brown_w = nltk.Text(word.lower() for word in nltk.corpus.brown.words())"
   ]
  },
  {
   "cell_type": "code",
   "execution_count": 10,
   "metadata": {},
   "outputs": [
    {
     "name": "stdout",
     "output_type": "stream",
     "text": [
      "man time day year car moment world house family child country boy\n",
      "state job place way war girl work word\n"
     ]
    }
   ],
   "source": [
    "brown_w.similar('woman')"
   ]
  },
  {
   "cell_type": "markdown",
   "metadata": {},
   "source": [
    "## Tagged Corpora"
   ]
  },
  {
   "cell_type": "markdown",
   "metadata": {},
   "source": [
    "### Representing Tagged Tokens\n"
   ]
  },
  {
   "cell_type": "code",
   "execution_count": 11,
   "metadata": {},
   "outputs": [
    {
     "data": {
      "text/plain": [
       "('fly', 'VB')"
      ]
     },
     "execution_count": 11,
     "metadata": {},
     "output_type": "execute_result"
    }
   ],
   "source": [
    "tagged_token = nltk.tag.str2tuple('fly/VB')\n",
    "tagged_token"
   ]
  },
  {
   "cell_type": "code",
   "execution_count": 12,
   "metadata": {},
   "outputs": [],
   "source": [
    "sent = '''\n",
    "... The/AT grand/JJ jury/NN commented/VBD on/IN a/AT number/NN of/IN\n",
    "... other/AP topics/NNS ,/, AMONG/IN them/PPO the/AT Atlanta/NP and/CC\n",
    "... Fulton/NP-tl County/NN-tl purchasing/VBG departments/NNS which/WDT it/PPS\n",
    "... said/VBD ``/`` ARE/BER well/QL operated/VBN and/CC follow/VB generally/RB\n",
    "... accepted/VBN practices/NNS which/WDT inure/VB to/IN the/AT best/JJT\n",
    "... interest/NN of/IN both/ABX governments/NNS ''/'' ./.\n",
    "... '''"
   ]
  },
  {
   "cell_type": "code",
   "execution_count": 13,
   "metadata": {},
   "outputs": [
    {
     "data": {
      "text/plain": [
       "\"\\nThe/AT grand/JJ jury/NN commented/VBD on/IN a/AT number/NN of/IN\\nother/AP topics/NNS ,/, AMONG/IN them/PPO the/AT Atlanta/NP and/CC\\nFulton/NP-tl County/NN-tl purchasing/VBG departments/NNS which/WDT it/PPS\\nsaid/VBD ``/`` ARE/BER well/QL operated/VBN and/CC follow/VB generally/RB\\naccepted/VBN practices/NNS which/WDT inure/VB to/IN the/AT best/JJT\\ninterest/NN of/IN both/ABX governments/NNS ''/'' ./.\\n\""
      ]
     },
     "execution_count": 13,
     "metadata": {},
     "output_type": "execute_result"
    }
   ],
   "source": [
    "sent"
   ]
  },
  {
   "cell_type": "code",
   "execution_count": 15,
   "metadata": {},
   "outputs": [
    {
     "data": {
      "text/plain": [
       "[('The', 'AT'),\n",
       " ('grand', 'JJ'),\n",
       " ('jury', 'NN'),\n",
       " ('commented', 'VBD'),\n",
       " ('on', 'IN')]"
      ]
     },
     "execution_count": 15,
     "metadata": {},
     "output_type": "execute_result"
    }
   ],
   "source": [
    "[nltk.tag.str2tuple(w) for w in nltk.word_tokenize(sent)][:5]"
   ]
  },
  {
   "cell_type": "markdown",
   "metadata": {},
   "source": [
    "### Reading Tagged Corpora"
   ]
  },
  {
   "cell_type": "code",
   "execution_count": 20,
   "metadata": {},
   "outputs": [
    {
     "data": {
      "text/plain": [
       "[('The', 'DET'),\n",
       " ('Fulton', 'NOUN'),\n",
       " ('County', 'NOUN'),\n",
       " ('Grand', 'ADJ'),\n",
       " ('Jury', 'NOUN')]"
      ]
     },
     "execution_count": 20,
     "metadata": {},
     "output_type": "execute_result"
    }
   ],
   "source": [
    " nltk.corpus.brown.tagged_words(tagset='universal')[:5]"
   ]
  },
  {
   "cell_type": "code",
   "execution_count": 21,
   "metadata": {},
   "outputs": [
    {
     "data": {
      "text/plain": [
       "[('The', 'AT'),\n",
       " ('Fulton', 'NP-TL'),\n",
       " ('County', 'NN-TL'),\n",
       " ('Grand', 'JJ-TL'),\n",
       " ('Jury', 'NN-TL')]"
      ]
     },
     "execution_count": 21,
     "metadata": {},
     "output_type": "execute_result"
    }
   ],
   "source": [
    " nltk.corpus.brown.tagged_words()[:5]"
   ]
  },
  {
   "cell_type": "code",
   "execution_count": 24,
   "metadata": {},
   "outputs": [
    {
     "data": {
      "text/plain": [
       "['The', 'Fulton', 'County', 'Grand', 'Jury']"
      ]
     },
     "execution_count": 24,
     "metadata": {},
     "output_type": "execute_result"
    }
   ],
   "source": [
    "nltk.corpus.brown.words()[:5]"
   ]
  },
  {
   "cell_type": "code",
   "execution_count": 26,
   "metadata": {},
   "outputs": [
    {
     "data": {
      "text/plain": [
       "[('now', 'ADV'),\n",
       " ('im', 'PRON'),\n",
       " ('left', 'VERB'),\n",
       " ('with', 'ADP'),\n",
       " ('this', 'DET')]"
      ]
     },
     "execution_count": 26,
     "metadata": {},
     "output_type": "execute_result"
    }
   ],
   "source": [
    "nltk.corpus.nps_chat.tagged_words(tagset='universal')[:5]"
   ]
  },
  {
   "cell_type": "markdown",
   "metadata": {},
   "source": [
    "### A Universal Part-of-Speech Tagset"
   ]
  },
  {
   "cell_type": "code",
   "execution_count": 29,
   "metadata": {},
   "outputs": [
    {
     "data": {
      "text/plain": [
       "[('The', 'DET'),\n",
       " ('Fulton', 'NOUN'),\n",
       " ('County', 'NOUN'),\n",
       " ('Grand', 'ADJ'),\n",
       " ('Jury', 'NOUN')]"
      ]
     },
     "execution_count": 29,
     "metadata": {},
     "output_type": "execute_result"
    }
   ],
   "source": [
    "brown_news_tagged = nltk.corpus.brown.tagged_words(categories='news', tagset='universal')\n",
    "brown_news_tagged[:5]"
   ]
  },
  {
   "cell_type": "code",
   "execution_count": 30,
   "metadata": {},
   "outputs": [
    {
     "data": {
      "text/plain": [
       "[('NOUN', 30654),\n",
       " ('VERB', 14399),\n",
       " ('ADP', 12355),\n",
       " ('.', 11928),\n",
       " ('DET', 11389),\n",
       " ('ADJ', 6706),\n",
       " ('ADV', 3349),\n",
       " ('CONJ', 2717),\n",
       " ('PRON', 2535),\n",
       " ('PRT', 2264),\n",
       " ('NUM', 2166),\n",
       " ('X', 92)]"
      ]
     },
     "execution_count": 30,
     "metadata": {},
     "output_type": "execute_result"
    }
   ],
   "source": [
    "freqdist = nltk.FreqDist(t for w,t in brown_news_tagged)\n",
    "freqdist.most_common()"
   ]
  },
  {
   "cell_type": "code",
   "execution_count": 34,
   "metadata": {},
   "outputs": [
    {
     "data": {
      "image/png": "[encoded data removed]",
      "text/plain": [
       "<Figure size 432x288 with 1 Axes>"
      ]
     },
     "metadata": {
      "needs_background": "light"
     },
     "output_type": "display_data"
    }
   ],
   "source": [
    "freqdist.plot(cumulative=True);"
   ]
  },
  {
   "cell_type": "code",
   "execution_count": 35,
   "metadata": {},
   "outputs": [
    {
     "data": {
      "image/png": "[encoded data removed]",
      "text/plain": [
       "<Figure size 432x288 with 1 Axes>"
      ]
     },
     "metadata": {
      "needs_background": "light"
     },
     "output_type": "display_data"
    }
   ],
   "source": [
    "freqdist.plot(cumulative=False);"
   ]
  },
  {
   "cell_type": "code",
   "execution_count": 53,
   "metadata": {},
   "outputs": [
    {
     "data": {
      "text/plain": [
       "[(('The', 'DET'), ('Fulton', 'NOUN')),\n",
       " (('Fulton', 'NOUN'), ('County', 'NOUN')),\n",
       " (('County', 'NOUN'), ('Grand', 'ADJ'))]"
      ]
     },
     "execution_count": 53,
     "metadata": {},
     "output_type": "execute_result"
    }
   ],
   "source": [
    "bigrams = list(nltk.bigrams(brown_news_tagged))\n",
    "bigrams[:3]"
   ]
  },
  {
   "cell_type": "code",
   "execution_count": 60,
   "metadata": {},
   "outputs": [
    {
     "data": {
      "text/plain": [
       "[('NOUN', 7959), ('DET', 7373), ('ADJ', 4761), ('ADP', 3781), ('.', 2796)]"
      ]
     },
     "execution_count": 60,
     "metadata": {},
     "output_type": "execute_result"
    }
   ],
   "source": [
    "before_n = nltk.FreqDist(t1[1] for t1,t2 in bigrams if t2[1] == 'NOUN')\n",
    "before_n.most_common(5)"
   ]
  },
  {
   "cell_type": "code",
   "execution_count": 62,
   "metadata": {},
   "outputs": [
    {
     "data": {
      "image/png": "[encoded data removed]",
      "text/plain": [
       "<Figure size 432x288 with 1 Axes>"
      ]
     },
     "metadata": {
      "needs_background": "light"
     },
     "output_type": "display_data"
    }
   ],
   "source": [
    "before_n.plot();"
   ]
  },
  {
   "cell_type": "code",
   "execution_count": 63,
   "metadata": {},
   "outputs": [
    {
     "data": {
      "text/plain": [
       "[('is', 732),\n",
       " ('was', 717),\n",
       " ('be', 526),\n",
       " ('said', 402),\n",
       " ('will', 388),\n",
       " ('are', 328),\n",
       " ('has', 300),\n",
       " ('had', 279),\n",
       " ('have', 265),\n",
       " ('were', 252)]"
      ]
     },
     "execution_count": 63,
     "metadata": {},
     "output_type": "execute_result"
    }
   ],
   "source": [
    "# most common verbs\n",
    "verbs_freqdist = nltk.FreqDist(w[0] for w in brown_news_tagged if w[1] == 'VERB')\n",
    "verbs_freqdist.most_common(10)"
   ]
  },
  {
   "cell_type": "code",
   "execution_count": 68,
   "metadata": {},
   "outputs": [
    {
     "data": {
      "text/plain": [
       "FreqDist({'NOUN': 5, 'VERB': 2})"
      ]
     },
     "execution_count": 68,
     "metadata": {},
     "output_type": "execute_result"
    }
   ],
   "source": [
    "cond_freqdist = nltk.ConditionalFreqDist(brown_news_tagged)\n",
    "cond_freqdist['fly']"
   ]
  },
  {
   "cell_type": "code",
   "execution_count": 69,
   "metadata": {},
   "outputs": [],
   "source": [
    "#reverse now tags are conditions and words are the events\n",
    "wsj = nltk.corpus.treebank.tagged_words()\n",
    "rev_cond_freqdist = nltk.ConditionalFreqDist((t,w) for w,t in wsj)"
   ]
  },
  {
   "cell_type": "code",
   "execution_count": 72,
   "metadata": {},
   "outputs": [
    {
     "data": {
      "text/plain": [
       "['been', 'expected', 'made', 'compared', 'based', 'used']"
      ]
     },
     "execution_count": 72,
     "metadata": {},
     "output_type": "execute_result"
    }
   ],
   "source": [
    "list(rev_cond_freqdist['VBN'])[:6]"
   ]
  },
  {
   "cell_type": "code",
   "execution_count": 73,
   "metadata": {
    "scrolled": true
   },
   "outputs": [
    {
     "data": {
      "text/plain": [
       "['NNP',\n",
       " ',',\n",
       " 'CD',\n",
       " 'NNS',\n",
       " 'JJ',\n",
       " 'MD',\n",
       " 'VB',\n",
       " 'DT',\n",
       " 'NN',\n",
       " 'IN',\n",
       " '.',\n",
       " 'VBZ',\n",
       " 'VBG',\n",
       " 'CC',\n",
       " 'VBD',\n",
       " 'VBN',\n",
       " '-NONE-',\n",
       " 'RB',\n",
       " 'TO',\n",
       " 'PRP',\n",
       " 'RBR',\n",
       " 'WDT',\n",
       " 'VBP',\n",
       " 'RP',\n",
       " 'PRP$',\n",
       " 'JJS',\n",
       " 'POS',\n",
       " '``',\n",
       " 'EX',\n",
       " \"''\",\n",
       " 'WP',\n",
       " ':',\n",
       " 'JJR',\n",
       " 'WRB',\n",
       " '$',\n",
       " 'NNPS',\n",
       " 'WP$',\n",
       " '-LRB-',\n",
       " '-RRB-',\n",
       " 'PDT',\n",
       " 'RBS',\n",
       " 'FW',\n",
       " 'UH',\n",
       " 'SYM',\n",
       " 'LS',\n",
       " '#']"
      ]
     },
     "execution_count": 73,
     "metadata": {},
     "output_type": "execute_result"
    }
   ],
   "source": [
    "rev_cond_freqdist.conditions()"
   ]
  },
  {
   "cell_type": "code",
   "execution_count": 74,
   "metadata": {},
   "outputs": [],
   "source": [
    "def findtags(tag_prefix, tagged_text):\n",
    "    cfd = nltk.ConditionalFreqDist((tag, word) for (word, tag) in tagged_text\n",
    "                                  if tag.startswith(tag_prefix))\n",
    "    return dict((tag, cfd[tag].most_common(5)) for tag in cfd.conditions())"
   ]
  },
  {
   "cell_type": "code",
   "execution_count": 75,
   "metadata": {},
   "outputs": [],
   "source": [
    "tagdict = findtags('NN', nltk.corpus.brown.tagged_words(categories='news'))"
   ]
  },
  {
   "cell_type": "code",
   "execution_count": 76,
   "metadata": {},
   "outputs": [
    {
     "data": {
      "text/plain": [
       "{'NN-TL': [('President', 88),\n",
       "  ('House', 68),\n",
       "  ('State', 59),\n",
       "  ('University', 42),\n",
       "  ('City', 41)],\n",
       " 'NN': [('year', 137), ('time', 97), ('state', 88), ('week', 85), ('man', 72)],\n",
       " 'NNS': [('years', 101),\n",
       "  ('members', 69),\n",
       "  ('people', 52),\n",
       "  ('sales', 51),\n",
       "  ('men', 46)],\n",
       " 'NN-HL': [('sp.', 2),\n",
       "  ('problem', 2),\n",
       "  ('Question', 2),\n",
       "  ('cut', 2),\n",
       "  ('party', 2)],\n",
       " 'NN$-TL': [(\"President's\", 11),\n",
       "  (\"Administration's\", 3),\n",
       "  (\"Army's\", 3),\n",
       "  (\"League's\", 3),\n",
       "  (\"University's\", 3)],\n",
       " 'NN$': [(\"year's\", 13),\n",
       "  (\"world's\", 8),\n",
       "  (\"state's\", 7),\n",
       "  (\"nation's\", 6),\n",
       "  (\"city's\", 6)],\n",
       " 'NNS-HL': [('Wards', 1),\n",
       "  ('deputies', 1),\n",
       "  ('bonds', 1),\n",
       "  ('aspects', 1),\n",
       "  ('Decisions', 1)],\n",
       " 'NNS-TL': [('States', 38),\n",
       "  ('Nations', 11),\n",
       "  ('Masters', 10),\n",
       "  ('Communists', 9),\n",
       "  ('Rules', 9)],\n",
       " 'NNS$': [(\"children's\", 7),\n",
       "  (\"women's\", 5),\n",
       "  (\"men's\", 3),\n",
       "  (\"janitors'\", 3),\n",
       "  (\"taxpayers'\", 2)],\n",
       " 'NNS$-TL': [(\"Women's\", 4),\n",
       "  (\"States'\", 3),\n",
       "  (\"Giants'\", 2),\n",
       "  (\"Princes'\", 1),\n",
       "  (\"Bombers'\", 1)],\n",
       " 'NN-TL-HL': [('Fort', 2),\n",
       "  ('Mayor', 1),\n",
       "  ('Commissioner', 1),\n",
       "  ('City', 1),\n",
       "  ('Oak', 1)],\n",
       " 'NNS-TL-HL': [('Nations', 1)],\n",
       " 'NN$-HL': [(\"Golf's\", 1), (\"Navy's\", 1)],\n",
       " 'NNS$-HL': [(\"Dealers'\", 1), (\"Idols'\", 1)],\n",
       " 'NN-NC': [('ova', 1), ('eva', 1), ('aya', 1)]}"
      ]
     },
     "execution_count": 76,
     "metadata": {},
     "output_type": "execute_result"
    }
   ],
   "source": [
    "tagdict"
   ]
  },
  {
   "cell_type": "code",
   "execution_count": 81,
   "metadata": {},
   "outputs": [
    {
     "data": {
      "text/plain": [
       "[('1', '.'), ('.', 'Introduction'), ('Introduction', 'It'), ('It', 'has')]"
      ]
     },
     "execution_count": 81,
     "metadata": {},
     "output_type": "execute_result"
    }
   ],
   "source": [
    "# want to see how 'often' is used in text, to see the words that follow often\n",
    "brown_learned_text = nltk.corpus.brown.words(categories='learned')\n",
    "learned_bigrams = list(nltk.bigrams(brown_learned_text))\n",
    "learned_bigrams[:4]"
   ]
  },
  {
   "cell_type": "code",
   "execution_count": 88,
   "metadata": {},
   "outputs": [
    {
     "data": {
      "text/plain": [
       "[',', '.', 'accomplished', 'analytically', 'appear', 'apt']"
      ]
     },
     "execution_count": 88,
     "metadata": {},
     "output_type": "execute_result"
    }
   ],
   "source": [
    "sorted(set(w for o,w in learned_bigrams if o=='often'))[:6]"
   ]
  },
  {
   "cell_type": "code",
   "execution_count": 90,
   "metadata": {},
   "outputs": [
    {
     "data": {
      "text/plain": [
       "[(('1', 'NUM'), ('.', '.')), (('.', '.'), ('Introduction', 'NOUN'))]"
      ]
     },
     "execution_count": 90,
     "metadata": {},
     "output_type": "execute_result"
    }
   ],
   "source": [
    "brown_learned_text_tagged = nltk.corpus.brown.tagged_words(categories='learned', tagset='universal')\n",
    "often_tagged_bigram = list(nltk.bigrams(brown_learned_text_tagged))\n",
    "often_tagged_bigram[:2]"
   ]
  },
  {
   "cell_type": "code",
   "execution_count": 91,
   "metadata": {},
   "outputs": [
    {
     "data": {
      "text/plain": [
       "[('VERB', 37), ('ADV', 8), ('ADP', 7), ('ADJ', 6), ('.', 4), ('PRT', 2)]"
      ]
     },
     "execution_count": 91,
     "metadata": {},
     "output_type": "execute_result"
    }
   ],
   "source": [
    "after_often_freq = nltk.FreqDist(w2[1] for w1,w2 in often_tagged_bigram if w1[0] == 'often')\n",
    "after_often_freq.most_common()"
   ]
  },
  {
   "cell_type": "code",
   "execution_count": 92,
   "metadata": {},
   "outputs": [
    {
     "name": "stdout",
     "output_type": "stream",
     "text": [
      "VERB  ADV  ADP  ADJ    .  PRT \n",
      "  37    8    7    6    4    2 \n"
     ]
    }
   ],
   "source": [
    "after_often_freq.tabulate()"
   ]
  },
  {
   "cell_type": "code",
   "execution_count": 95,
   "metadata": {},
   "outputs": [
    {
     "data": {
      "text/plain": [
       "[('The', 'DET'),\n",
       " ('Fulton', 'NOUN'),\n",
       " ('County', 'NOUN'),\n",
       " ('Grand', 'ADJ'),\n",
       " ('Jury', 'NOUN'),\n",
       " ('said', 'VERB'),\n",
       " ('Friday', 'NOUN'),\n",
       " ('an', 'DET'),\n",
       " ('investigation', 'NOUN'),\n",
       " ('of', 'ADP'),\n",
       " (\"Atlanta's\", 'NOUN'),\n",
       " ('recent', 'ADJ'),\n",
       " ('primary', 'NOUN'),\n",
       " ('election', 'NOUN'),\n",
       " ('produced', 'VERB'),\n",
       " ('``', '.'),\n",
       " ('no', 'DET'),\n",
       " ('evidence', 'NOUN'),\n",
       " (\"''\", '.'),\n",
       " ('that', 'ADP'),\n",
       " ('any', 'DET'),\n",
       " ('irregularities', 'NOUN'),\n",
       " ('took', 'VERB'),\n",
       " ('place', 'NOUN'),\n",
       " ('.', '.')]"
      ]
     },
     "execution_count": 95,
     "metadata": {},
     "output_type": "execute_result"
    }
   ],
   "source": [
    "sent_brown = nltk.corpus.brown.tagged_sents(tagset='universal')\n",
    "sent_brown[0]"
   ]
  },
  {
   "cell_type": "code",
   "execution_count": 116,
   "metadata": {},
   "outputs": [],
   "source": [
    "def process(sentence):\n",
    "    trigrams = list(nltk.trigrams(sentence))\n",
    "    for (w1,t1), (w2,t2), (w3,t3) in trigrams:\n",
    "        if (t1.startswith('V') and t2 == 'TO'): \n",
    "            print(w1, w2, w3) "
   ]
  },
  {
   "cell_type": "code",
   "execution_count": 117,
   "metadata": {},
   "outputs": [],
   "source": [
    "for tagged_sent in sent_brown:\n",
    "    process(tagged_sent)"
   ]
  },
  {
   "cell_type": "markdown",
   "metadata": {},
   "source": [
    "## Mapping Words to Properties Using Python Dictionaries\n"
   ]
  },
  {
   "cell_type": "code",
   "execution_count": 3,
   "metadata": {},
   "outputs": [],
   "source": [
    "pos = {}"
   ]
  },
  {
   "cell_type": "code",
   "execution_count": 4,
   "metadata": {},
   "outputs": [],
   "source": [
    "pos['colorless'] = 'ADJ'\n",
    "pos['sleep'] = 'V'"
   ]
  },
  {
   "cell_type": "code",
   "execution_count": 5,
   "metadata": {},
   "outputs": [
    {
     "data": {
      "text/plain": [
       "{'colorless': 'ADJ', 'sleep': 'V'}"
      ]
     },
     "execution_count": 5,
     "metadata": {},
     "output_type": "execute_result"
    }
   ],
   "source": [
    "pos"
   ]
  },
  {
   "cell_type": "code",
   "execution_count": 6,
   "metadata": {},
   "outputs": [
    {
     "data": {
      "text/plain": [
       "2"
      ]
     },
     "execution_count": 6,
     "metadata": {},
     "output_type": "execute_result"
    }
   ],
   "source": [
    "len(pos)"
   ]
  },
  {
   "cell_type": "code",
   "execution_count": 7,
   "metadata": {},
   "outputs": [
    {
     "data": {
      "text/plain": [
       "['colorless', 'sleep']"
      ]
     },
     "execution_count": 7,
     "metadata": {},
     "output_type": "execute_result"
    }
   ],
   "source": [
    "list(pos)"
   ]
  },
  {
   "cell_type": "code",
   "execution_count": 8,
   "metadata": {},
   "outputs": [
    {
     "data": {
      "text/plain": [
       "['colorless', 'sleep']"
      ]
     },
     "execution_count": 8,
     "metadata": {},
     "output_type": "execute_result"
    }
   ],
   "source": [
    "[w for w in pos]"
   ]
  },
  {
   "cell_type": "code",
   "execution_count": 9,
   "metadata": {},
   "outputs": [
    {
     "data": {
      "text/plain": [
       "dict_keys(['colorless', 'sleep'])"
      ]
     },
     "execution_count": 9,
     "metadata": {},
     "output_type": "execute_result"
    }
   ],
   "source": [
    "pos.keys()"
   ]
  },
  {
   "cell_type": "code",
   "execution_count": 10,
   "metadata": {},
   "outputs": [
    {
     "data": {
      "text/plain": [
       "dict_items([('colorless', 'ADJ'), ('sleep', 'V')])"
      ]
     },
     "execution_count": 10,
     "metadata": {},
     "output_type": "execute_result"
    }
   ],
   "source": [
    "pos.items()"
   ]
  },
  {
   "cell_type": "code",
   "execution_count": 11,
   "metadata": {},
   "outputs": [
    {
     "data": {
      "text/plain": [
       "dict_values(['ADJ', 'V'])"
      ]
     },
     "execution_count": 11,
     "metadata": {},
     "output_type": "execute_result"
    }
   ],
   "source": [
    "pos.values()"
   ]
  },
  {
   "cell_type": "code",
   "execution_count": 16,
   "metadata": {},
   "outputs": [
    {
     "data": {
      "text/plain": [
       "['ADJ', 'V']"
      ]
     },
     "execution_count": 16,
     "metadata": {},
     "output_type": "execute_result"
    }
   ],
   "source": [
    "vals = list(pos.values())\n",
    "vals"
   ]
  },
  {
   "cell_type": "code",
   "execution_count": 17,
   "metadata": {},
   "outputs": [
    {
     "data": {
      "text/plain": [
       "['ADJ', 'V']"
      ]
     },
     "execution_count": 17,
     "metadata": {},
     "output_type": "execute_result"
    }
   ],
   "source": [
    "[v for v in vals]"
   ]
  },
  {
   "cell_type": "markdown",
   "metadata": {},
   "source": [
    "### Default Dictionaries"
   ]
  },
  {
   "cell_type": "code",
   "execution_count": 18,
   "metadata": {},
   "outputs": [],
   "source": [
    "from collections import defaultdict"
   ]
  },
  {
   "cell_type": "code",
   "execution_count": 19,
   "metadata": {},
   "outputs": [],
   "source": [
    "d1 = defaultdict(int)"
   ]
  },
  {
   "cell_type": "code",
   "execution_count": 20,
   "metadata": {},
   "outputs": [],
   "source": [
    "d1['colorless'] = 4"
   ]
  },
  {
   "cell_type": "code",
   "execution_count": 21,
   "metadata": {},
   "outputs": [
    {
     "data": {
      "text/plain": [
       "0"
      ]
     },
     "execution_count": 21,
     "metadata": {},
     "output_type": "execute_result"
    }
   ],
   "source": [
    "d1['ideas']"
   ]
  },
  {
   "cell_type": "code",
   "execution_count": 22,
   "metadata": {},
   "outputs": [],
   "source": [
    "d2 = defaultdict(lambda: 'VERB')"
   ]
  },
  {
   "cell_type": "code",
   "execution_count": 23,
   "metadata": {},
   "outputs": [],
   "source": [
    "d2['colorless'] = 9"
   ]
  },
  {
   "cell_type": "code",
   "execution_count": 24,
   "metadata": {},
   "outputs": [
    {
     "data": {
      "text/plain": [
       "defaultdict(<function __main__.<lambda>()>, {'colorless': 9})"
      ]
     },
     "execution_count": 24,
     "metadata": {},
     "output_type": "execute_result"
    }
   ],
   "source": [
    "d2"
   ]
  },
  {
   "cell_type": "code",
   "execution_count": 25,
   "metadata": {},
   "outputs": [
    {
     "data": {
      "text/plain": [
       "'VERB'"
      ]
     },
     "execution_count": 25,
     "metadata": {},
     "output_type": "execute_result"
    }
   ],
   "source": [
    "d2['ideas']"
   ]
  },
  {
   "cell_type": "code",
   "execution_count": 26,
   "metadata": {},
   "outputs": [
    {
     "data": {
      "text/plain": [
       "['[', 'Alice', \"'\", 's', 'Adventures', 'in', ...]"
      ]
     },
     "execution_count": 26,
     "metadata": {},
     "output_type": "execute_result"
    }
   ],
   "source": [
    "alice = nltk.corpus.gutenberg.words('carroll-alice.txt')\n",
    "alice"
   ]
  },
  {
   "cell_type": "code",
   "execution_count": 28,
   "metadata": {},
   "outputs": [
    {
     "data": {
      "text/plain": [
       "3016"
      ]
     },
     "execution_count": 28,
     "metadata": {},
     "output_type": "execute_result"
    }
   ],
   "source": [
    "vocab = nltk.FreqDist(alice)\n",
    "len(vocab)"
   ]
  },
  {
   "cell_type": "code",
   "execution_count": 29,
   "metadata": {},
   "outputs": [],
   "source": [
    "v1000 = [w for (w,_) in vocab.most_common(1000)]"
   ]
  },
  {
   "cell_type": "code",
   "execution_count": 31,
   "metadata": {},
   "outputs": [],
   "source": [
    "mapping = defaultdict(lambda: 'UNK')"
   ]
  },
  {
   "cell_type": "code",
   "execution_count": 32,
   "metadata": {},
   "outputs": [],
   "source": [
    "for w in v1000:\n",
    "    mapping[w] = w"
   ]
  },
  {
   "cell_type": "code",
   "execution_count": 34,
   "metadata": {},
   "outputs": [
    {
     "data": {
      "text/plain": [
       "'UNK'"
      ]
     },
     "execution_count": 34,
     "metadata": {},
     "output_type": "execute_result"
    }
   ],
   "source": [
    "mapping['oo']"
   ]
  },
  {
   "cell_type": "code",
   "execution_count": 36,
   "metadata": {},
   "outputs": [],
   "source": [
    "alice2 = [mapping[w] for w in alice]"
   ]
  },
  {
   "cell_type": "code",
   "execution_count": 38,
   "metadata": {},
   "outputs": [
    {
     "data": {
      "text/plain": [
       "['[',\n",
       " 'Alice',\n",
       " \"'\",\n",
       " 's',\n",
       " 'Adventures',\n",
       " 'in',\n",
       " 'Wonderland',\n",
       " 'by',\n",
       " 'UNK',\n",
       " 'UNK',\n",
       " 'UNK',\n",
       " 'UNK',\n",
       " 'CHAPTER',\n",
       " 'I',\n",
       " '.',\n",
       " 'Down',\n",
       " 'the',\n",
       " 'Rabbit',\n",
       " '-',\n",
       " 'UNK']"
      ]
     },
     "execution_count": 38,
     "metadata": {},
     "output_type": "execute_result"
    }
   ],
   "source": [
    "alice2[:20]"
   ]
  },
  {
   "cell_type": "markdown",
   "metadata": {},
   "source": [
    "### Incrementally Updating a Dictionary"
   ]
  },
  {
   "cell_type": "code",
   "execution_count": 39,
   "metadata": {},
   "outputs": [],
   "source": [
    "counts = defaultdict(int)\n",
    "from nltk.corpus import brown\n"
   ]
  },
  {
   "cell_type": "code",
   "execution_count": 41,
   "metadata": {},
   "outputs": [],
   "source": [
    "for (word, tag) in brown.tagged_words(categories='news', tagset='universal'):\n",
    "    counts[tag]+=1"
   ]
  },
  {
   "cell_type": "code",
   "execution_count": 42,
   "metadata": {},
   "outputs": [
    {
     "data": {
      "text/plain": [
       "defaultdict(int,\n",
       "            {'DET': 11389,\n",
       "             'NOUN': 30654,\n",
       "             'ADJ': 6706,\n",
       "             'VERB': 14399,\n",
       "             'ADP': 12355,\n",
       "             '.': 11928,\n",
       "             'ADV': 3349,\n",
       "             'CONJ': 2717,\n",
       "             'PRT': 2264,\n",
       "             'PRON': 2535,\n",
       "             'NUM': 2166,\n",
       "             'X': 92})"
      ]
     },
     "execution_count": 42,
     "metadata": {},
     "output_type": "execute_result"
    }
   ],
   "source": [
    "counts"
   ]
  },
  {
   "cell_type": "code",
   "execution_count": 44,
   "metadata": {},
   "outputs": [],
   "source": [
    "counts2 = nltk.FreqDist(t for (w,t) in brown.tagged_words(categories='news', tagset='universal'))"
   ]
  },
  {
   "cell_type": "code",
   "execution_count": 47,
   "metadata": {},
   "outputs": [
    {
     "data": {
      "text/plain": [
       "FreqDist({'NOUN': 30654, 'VERB': 14399, 'ADP': 12355, '.': 11928, 'DET': 11389, 'ADJ': 6706, 'ADV': 3349, 'CONJ': 2717, 'PRON': 2535, 'PRT': 2264, ...})"
      ]
     },
     "execution_count": 47,
     "metadata": {},
     "output_type": "execute_result"
    }
   ],
   "source": [
    "counts2"
   ]
  },
  {
   "cell_type": "code",
   "execution_count": 48,
   "metadata": {},
   "outputs": [],
   "source": [
    "last_letters = defaultdict(list)\n",
    "c_words = nltk.corpus.words.words('en')"
   ]
  },
  {
   "cell_type": "code",
   "execution_count": 49,
   "metadata": {},
   "outputs": [],
   "source": [
    "let_dict = defaultdict(list)"
   ]
  },
  {
   "cell_type": "code",
   "execution_count": 50,
   "metadata": {},
   "outputs": [],
   "source": [
    "for w in c_words:\n",
    "    key_name = w[-2:]\n",
    "    let_dict[key_name].append(w)"
   ]
  },
  {
   "cell_type": "code",
   "execution_count": 52,
   "metadata": {},
   "outputs": [
    {
     "data": {
      "text/plain": [
       "['aal',\n",
       " 'Aaronical',\n",
       " 'abactinal',\n",
       " 'abaxial',\n",
       " 'abbatial',\n",
       " 'abbatical',\n",
       " 'abdal',\n",
       " 'abdominal',\n",
       " 'abdominogenital',\n",
       " 'abdominovaginal',\n",
       " 'abdominovesical',\n",
       " 'aberrational',\n",
       " 'abettal',\n",
       " 'abidal',\n",
       " 'abiogenetical',\n",
       " 'abiological',\n",
       " 'ablatival',\n",
       " 'ableptical',\n",
       " 'abnerval',\n",
       " 'abneural',\n",
       " 'abnormal',\n",
       " 'aboral',\n",
       " 'aboriginal',\n",
       " 'abortional',\n",
       " 'abranchial',\n",
       " 'absinthial',\n",
       " 'abstinential',\n",
       " 'abstractional',\n",
       " 'abterminal',\n",
       " 'abuttal',\n",
       " 'abysmal',\n",
       " 'abyssal',\n",
       " 'academial',\n",
       " 'academical',\n",
       " 'acalycal',\n",
       " 'acanonical',\n",
       " 'acanthial',\n",
       " 'acanthological',\n",
       " 'acapnial',\n",
       " 'acaricidal',\n",
       " 'acategorical',\n",
       " 'acaudal',\n",
       " 'accentual',\n",
       " 'accessional',\n",
       " 'accessorial',\n",
       " 'accidental',\n",
       " 'accidential',\n",
       " 'accipitral',\n",
       " 'acclinal',\n",
       " 'accommodational',\n",
       " 'accompanimental',\n",
       " 'accrementitial',\n",
       " 'accretal',\n",
       " 'accrual',\n",
       " 'accultural',\n",
       " 'accusal',\n",
       " 'accusatival',\n",
       " 'accusatorial',\n",
       " 'acephal',\n",
       " 'acetal',\n",
       " 'acetochloral',\n",
       " 'acetometrical',\n",
       " 'achenial',\n",
       " 'Acherontical',\n",
       " 'achordal',\n",
       " 'achronical',\n",
       " 'acidimetrical',\n",
       " 'Acieral',\n",
       " 'aclinal',\n",
       " 'acnodal',\n",
       " 'aconital',\n",
       " 'acoustical',\n",
       " 'acousticolateral',\n",
       " 'acquittal',\n",
       " 'acranial',\n",
       " 'acritical',\n",
       " 'acrobatical',\n",
       " 'acromial',\n",
       " 'acromiohumeral',\n",
       " 'acromiosternal',\n",
       " 'acronical',\n",
       " 'acropetal',\n",
       " 'acrostical',\n",
       " 'acrostichal',\n",
       " 'acrotarsial',\n",
       " 'acroterial',\n",
       " 'actinal',\n",
       " 'actinometrical',\n",
       " 'actinostomal',\n",
       " 'actinozoal',\n",
       " 'actional',\n",
       " 'activital',\n",
       " 'actual',\n",
       " 'actuarial',\n",
       " 'acutilingual',\n",
       " 'acyrological',\n",
       " 'adagial',\n",
       " 'adambulacral',\n",
       " 'Adamical',\n",
       " 'Adamitical',\n",
       " 'adaptational',\n",
       " 'adaptional',\n",
       " 'adaptorial',\n",
       " 'adaxial',\n",
       " 'additional',\n",
       " 'adenographical',\n",
       " 'adenoidal',\n",
       " 'adenological',\n",
       " 'adenomeningeal',\n",
       " 'adenoneural',\n",
       " 'adenopharyngeal',\n",
       " 'adhesional',\n",
       " 'adiaphoral',\n",
       " 'adiathermal',\n",
       " 'adiposogenital',\n",
       " 'adital',\n",
       " 'adjectional',\n",
       " 'adjectival',\n",
       " 'adjournal',\n",
       " 'admedial',\n",
       " 'administerial',\n",
       " 'administrational',\n",
       " 'admiral',\n",
       " 'admonitorial',\n",
       " 'adnerval',\n",
       " 'adneural',\n",
       " 'adnexal',\n",
       " 'adnominal',\n",
       " 'adoptional',\n",
       " 'adoral',\n",
       " 'adradial',\n",
       " 'adrectal',\n",
       " 'adrenal',\n",
       " 'adrenocortical',\n",
       " 'adrostral',\n",
       " 'adterminal',\n",
       " 'adulticidal',\n",
       " 'adumbral',\n",
       " 'advential',\n",
       " 'adventual',\n",
       " 'adverbial',\n",
       " 'advisal',\n",
       " 'aecial',\n",
       " 'aecidial',\n",
       " 'aeonial',\n",
       " 'aequoreal',\n",
       " 'aerial',\n",
       " 'aerical',\n",
       " 'aerobiological',\n",
       " 'aerodynamical',\n",
       " 'aerographical',\n",
       " 'aerological',\n",
       " 'aeromechanical',\n",
       " 'aeronautical',\n",
       " 'aerophysical',\n",
       " 'aerostatical',\n",
       " 'aerotechnical',\n",
       " 'aesthetical',\n",
       " 'afetal',\n",
       " 'affectional',\n",
       " 'affinal',\n",
       " 'affixal',\n",
       " 'aftermeal',\n",
       " 'aftertrial',\n",
       " 'afunctional',\n",
       " 'agal',\n",
       " 'agarwal',\n",
       " 'agathokakological',\n",
       " 'agential',\n",
       " 'agentival',\n",
       " 'ageometrical',\n",
       " 'aggradational',\n",
       " 'agitational',\n",
       " 'agitatorial',\n",
       " 'aglossal',\n",
       " 'agnomical',\n",
       " 'agnominal',\n",
       " 'agonal',\n",
       " 'agral',\n",
       " 'agrammatical',\n",
       " 'agrestal',\n",
       " 'agrestial',\n",
       " 'agricultural',\n",
       " 'agriological',\n",
       " 'agrobiological',\n",
       " 'agrogeological',\n",
       " 'agrological',\n",
       " 'agronomial',\n",
       " 'agronomical',\n",
       " 'agrosteral',\n",
       " 'agrostographical',\n",
       " 'agrostological',\n",
       " 'ahwal',\n",
       " 'aionial',\n",
       " 'Akal',\n",
       " 'al',\n",
       " 'albinal',\n",
       " 'albuminoidal',\n",
       " 'alchemical',\n",
       " 'alchemistical',\n",
       " 'alcoholometrical',\n",
       " 'aldermanical',\n",
       " 'alecithal',\n",
       " 'alemmal',\n",
       " 'alexipharmical',\n",
       " 'alexiterical',\n",
       " 'algaeological',\n",
       " 'algal',\n",
       " 'algebraical',\n",
       " 'algological',\n",
       " 'algometrical',\n",
       " 'alictisal',\n",
       " 'aliethmoidal',\n",
       " 'alimental',\n",
       " 'alinasal',\n",
       " 'aliseptal',\n",
       " 'alismal',\n",
       " 'alisphenoidal',\n",
       " 'aliturgical',\n",
       " 'alkahestical',\n",
       " 'alkalimetrical',\n",
       " 'alkaloidal',\n",
       " 'allantoidal',\n",
       " 'allegorical',\n",
       " 'allheal',\n",
       " 'alliteral',\n",
       " 'alliterational',\n",
       " 'allochiral',\n",
       " 'alloquial',\n",
       " 'allotropical',\n",
       " 'allotypical',\n",
       " 'alluvial',\n",
       " 'alodial',\n",
       " 'aloetical',\n",
       " 'alogical',\n",
       " 'alpestral',\n",
       " 'alphabetical',\n",
       " 'altimetrical',\n",
       " 'altitudinal',\n",
       " 'altricial',\n",
       " 'alumnal',\n",
       " 'alveolodental',\n",
       " 'alveololabial',\n",
       " 'alveololingual',\n",
       " 'alveolonasal',\n",
       " 'alveolosubnasal',\n",
       " 'Alvissmal',\n",
       " 'amacrinal',\n",
       " 'amaroidal',\n",
       " 'amatorial',\n",
       " 'ambassadorial',\n",
       " 'ambidextral',\n",
       " 'ambilateral',\n",
       " 'ambital',\n",
       " 'amblygonal',\n",
       " 'ambomalleal',\n",
       " 'ambosexual',\n",
       " 'ambrosial',\n",
       " 'ambulacral',\n",
       " 'ambulatorial',\n",
       " 'amburbial',\n",
       " 'amenorrheal',\n",
       " 'amental',\n",
       " 'amethodical',\n",
       " 'amianthoidal',\n",
       " 'amical',\n",
       " 'amidoacetal',\n",
       " 'amidosulphonal',\n",
       " 'aminoacetal',\n",
       " 'ammonal',\n",
       " 'ammoniacal',\n",
       " 'ammonical',\n",
       " 'amniochorial',\n",
       " 'amomal',\n",
       " 'amoral',\n",
       " 'amphiarthrodial',\n",
       " 'amphibial',\n",
       " 'amphibiological',\n",
       " 'amphibological',\n",
       " 'amphicribral',\n",
       " 'amphimictical',\n",
       " 'amphipodal',\n",
       " 'amphirhinal',\n",
       " 'amphitheatral',\n",
       " 'amphitheatrical',\n",
       " 'amphithecial',\n",
       " 'amphitokal',\n",
       " 'amphitropal',\n",
       " 'amphivasal',\n",
       " 'amphoral',\n",
       " 'amputational',\n",
       " 'amygdal',\n",
       " 'amygdaloidal',\n",
       " 'amyloidal',\n",
       " 'Amytal',\n",
       " 'Anabaptistical',\n",
       " 'anachronical',\n",
       " 'anachronismatical',\n",
       " 'anachronistical',\n",
       " 'anaclinal',\n",
       " 'anaetiological',\n",
       " 'anaglyphical',\n",
       " 'anaglyptical',\n",
       " 'anagogical',\n",
       " 'anagrammatical',\n",
       " 'anal',\n",
       " 'analeptical',\n",
       " 'analogical',\n",
       " 'analphabetical',\n",
       " 'analytical',\n",
       " 'anapaestical',\n",
       " 'anaphoral',\n",
       " 'anaphorical',\n",
       " 'anapophysial',\n",
       " 'anaptyctical',\n",
       " 'anarchal',\n",
       " 'anarchial',\n",
       " 'anarchical',\n",
       " 'anaretical',\n",
       " 'anathematical',\n",
       " 'anatomical',\n",
       " 'anatomicobiological',\n",
       " 'anatomicochirurgical',\n",
       " 'anatomicomedical',\n",
       " 'anatomicopathological',\n",
       " 'anatomicophysiological',\n",
       " 'anatomicosurgical',\n",
       " 'anatomopathological',\n",
       " 'anatropal',\n",
       " 'anaxial',\n",
       " 'ancestorial',\n",
       " 'ancestral',\n",
       " 'ancestrial',\n",
       " 'anchimonomineral',\n",
       " 'anchoretical',\n",
       " 'anchoritical',\n",
       " 'ancipital',\n",
       " 'anconal',\n",
       " 'anconeal',\n",
       " 'ancoral',\n",
       " 'androecial',\n",
       " 'androgonial',\n",
       " 'androgynal',\n",
       " 'androidal',\n",
       " 'anecdotal',\n",
       " 'anecdotical',\n",
       " 'anemological',\n",
       " 'anemometrical',\n",
       " 'anemonal',\n",
       " 'anetiological',\n",
       " 'aneurysmal',\n",
       " 'Angelical',\n",
       " 'angelical',\n",
       " 'angelological',\n",
       " 'anginal',\n",
       " 'angiospermal',\n",
       " 'anguineal',\n",
       " 'angulosplenial',\n",
       " 'angustiseptal',\n",
       " 'anhedral',\n",
       " 'anidiomatical',\n",
       " 'animadversional',\n",
       " 'animal',\n",
       " 'animastical',\n",
       " 'anisal',\n",
       " 'anisocercal',\n",
       " 'anisopleural',\n",
       " 'anisopodal',\n",
       " 'anisotropal',\n",
       " 'anisotropical',\n",
       " 'annal',\n",
       " 'anneal',\n",
       " 'annexal',\n",
       " 'annexational',\n",
       " 'annual',\n",
       " 'anococcygeal',\n",
       " 'anodal',\n",
       " 'anogenital',\n",
       " 'anomalistical',\n",
       " 'anomorhomboidal',\n",
       " 'anomural',\n",
       " 'anoperineal',\n",
       " 'anorectal',\n",
       " 'anormal',\n",
       " 'anorthographical',\n",
       " 'anospinal',\n",
       " 'anovesical',\n",
       " 'antagonistical',\n",
       " 'antal',\n",
       " 'antambulacral',\n",
       " 'antarchistical',\n",
       " 'antarctical',\n",
       " 'anteal',\n",
       " 'antebaptismal',\n",
       " 'antebrachial',\n",
       " 'antebridal',\n",
       " 'antecaecal',\n",
       " 'antecedental',\n",
       " 'anteclassical',\n",
       " 'anteconsonantal',\n",
       " 'antecoxal',\n",
       " 'antecubital',\n",
       " 'antediluvial',\n",
       " 'antedorsal',\n",
       " 'antefixal',\n",
       " 'antefurcal',\n",
       " 'anteinitial',\n",
       " 'antelegal',\n",
       " 'antemarginal',\n",
       " 'antemarital',\n",
       " 'antemedial',\n",
       " 'antemillennial',\n",
       " 'antemortal',\n",
       " 'antemural',\n",
       " 'antenarial',\n",
       " 'antenatal',\n",
       " 'antenatalitial',\n",
       " 'antennal',\n",
       " 'antenodal',\n",
       " 'anteorbital',\n",
       " 'antepalatal',\n",
       " 'antepaschal',\n",
       " 'antepatriarchal',\n",
       " 'antepectoral',\n",
       " 'anteprandial',\n",
       " 'antepredicamental',\n",
       " 'antereformational',\n",
       " 'anterevolutional',\n",
       " 'anterodorsal',\n",
       " 'anteroexternal',\n",
       " 'anterofrontal',\n",
       " 'anterointernal',\n",
       " 'anterolateral',\n",
       " 'anteromedial',\n",
       " 'anteroparietal',\n",
       " 'anteropygal',\n",
       " 'anterospinal',\n",
       " 'anteroventral',\n",
       " 'antesternal',\n",
       " 'anthecological',\n",
       " 'antheral',\n",
       " 'antheridial',\n",
       " 'antherozoidal',\n",
       " 'antherozooidal',\n",
       " 'anthoecological',\n",
       " 'anthological',\n",
       " 'anthrohopobiological',\n",
       " 'anthropical',\n",
       " 'anthropogeographical',\n",
       " 'anthropoidal',\n",
       " 'anthropological',\n",
       " 'anthropometrical',\n",
       " 'anthropomorphical',\n",
       " 'anthropomorphitical',\n",
       " 'anthropomorphological',\n",
       " 'anthroponomical',\n",
       " 'anthropophagical',\n",
       " 'anthroposophical',\n",
       " 'anthropoteleological',\n",
       " 'anthropotomical',\n",
       " 'antiastronomical',\n",
       " 'antibacterial',\n",
       " 'antibridal',\n",
       " 'antical',\n",
       " 'anticapital',\n",
       " 'anticatarrhal',\n",
       " 'anticeremonial',\n",
       " 'antichronical',\n",
       " 'anticlassical',\n",
       " 'anticlerical',\n",
       " 'anticlinal',\n",
       " 'anticommercial',\n",
       " 'anticonstitutional',\n",
       " 'anticonventional',\n",
       " 'antidemocratical',\n",
       " 'antidotal',\n",
       " 'antidotical',\n",
       " 'antidromal',\n",
       " 'antiecclesiastical',\n",
       " 'antieducational',\n",
       " 'antiempirical',\n",
       " 'antiepiscopal',\n",
       " 'antiepithelial',\n",
       " 'antievangelical',\n",
       " 'antifederal',\n",
       " 'antifeudal',\n",
       " 'antifrictional',\n",
       " 'antigrammatical',\n",
       " 'antigravitational',\n",
       " 'antihemorrheidal',\n",
       " 'antihierarchical',\n",
       " 'antiliberal',\n",
       " 'antiliturgical',\n",
       " 'antilogical',\n",
       " 'antimagistratical',\n",
       " 'antimalarial',\n",
       " 'antimaniacal',\n",
       " 'antimatrimonial',\n",
       " 'antimedical',\n",
       " 'antimedieval',\n",
       " 'antimetrical',\n",
       " 'antiministerial',\n",
       " 'antimonarchial',\n",
       " 'antimonarchical',\n",
       " 'antimonial',\n",
       " 'antimoral',\n",
       " 'antimusical',\n",
       " 'antimythical',\n",
       " 'antinational',\n",
       " 'antinatural',\n",
       " 'antineutral',\n",
       " 'antinial',\n",
       " 'antinomical',\n",
       " 'antinormal',\n",
       " 'antipapal',\n",
       " 'antipapistical',\n",
       " 'antiparalytical',\n",
       " 'antiparliamental',\n",
       " 'antipathetical',\n",
       " 'antipatriarchal',\n",
       " 'antipedal',\n",
       " 'antiperistatical',\n",
       " 'antipestilential',\n",
       " 'antiphilosophical',\n",
       " 'antiphonal',\n",
       " 'antiphonical',\n",
       " 'antiphrastical',\n",
       " 'antiphthisical',\n",
       " 'antiphysical',\n",
       " 'antipodal',\n",
       " 'antipolitical',\n",
       " 'antiprotozoal',\n",
       " 'antiprudential',\n",
       " 'antiradical',\n",
       " 'antirational',\n",
       " 'antiritual',\n",
       " 'antiroyal',\n",
       " 'antisacerdotal',\n",
       " 'antiscorbutical',\n",
       " 'antiseptical',\n",
       " 'antisimoniacal',\n",
       " 'antisiphonal',\n",
       " 'antiskeptical',\n",
       " 'antisocial',\n",
       " 'antispiritual',\n",
       " 'antistreptococcal',\n",
       " 'antistrophal',\n",
       " 'antisudoral',\n",
       " 'antisymmetrical',\n",
       " 'antitheistical',\n",
       " 'antitheological',\n",
       " 'antithetical',\n",
       " 'antitobacconal',\n",
       " 'antitraditional',\n",
       " 'antitragal',\n",
       " 'antitropal',\n",
       " 'antitropical',\n",
       " 'antitypal',\n",
       " 'antitypical',\n",
       " 'antivenereal',\n",
       " 'antiviral',\n",
       " 'antonomastical',\n",
       " 'antorbital',\n",
       " 'antral',\n",
       " 'antronasal',\n",
       " 'aortal',\n",
       " 'aorticorenal',\n",
       " 'apagogical',\n",
       " 'apartmental',\n",
       " 'apathetical',\n",
       " 'apathistical',\n",
       " 'apertural',\n",
       " 'aphakial',\n",
       " 'aphicidal',\n",
       " 'aphodal',\n",
       " 'aphorismical',\n",
       " 'aphrodisiacal',\n",
       " 'aphthongal',\n",
       " 'apical',\n",
       " 'apicultural',\n",
       " 'apioidal',\n",
       " 'aplacental',\n",
       " 'apneal',\n",
       " 'apocalyptical',\n",
       " 'apocryphal',\n",
       " 'apodal',\n",
       " 'apodemal',\n",
       " 'apodematal',\n",
       " 'apodictical',\n",
       " 'apogeal',\n",
       " 'apographal',\n",
       " 'apohyal',\n",
       " 'apologal',\n",
       " 'apologetical',\n",
       " 'apomictical',\n",
       " 'apophyseal',\n",
       " 'apoplasmodial',\n",
       " 'apoplectical',\n",
       " 'aporetical',\n",
       " 'apostatical',\n",
       " 'apostolical',\n",
       " 'apostrophal',\n",
       " 'apotelesmatical',\n",
       " 'apothecal',\n",
       " 'apothecial',\n",
       " 'apothegmatical',\n",
       " 'apotracheal',\n",
       " 'apozemical',\n",
       " 'apparitional',\n",
       " 'appeal',\n",
       " 'appellational',\n",
       " 'appendical',\n",
       " 'appendicial',\n",
       " 'appetitional',\n",
       " 'appositional',\n",
       " 'appraisal',\n",
       " 'appreciational',\n",
       " 'appressorial',\n",
       " 'approval',\n",
       " 'approximal',\n",
       " 'apsidal',\n",
       " 'apsychical',\n",
       " 'Aptal',\n",
       " 'apteral',\n",
       " 'apterial',\n",
       " 'apterygial',\n",
       " 'aptitudinal',\n",
       " 'apyrexial',\n",
       " 'aquacultural',\n",
       " 'aquarial',\n",
       " 'aquatical',\n",
       " 'aqueoglacial',\n",
       " 'aqueomercurial',\n",
       " 'aquicultural',\n",
       " 'aquincubital',\n",
       " 'aquintocubital',\n",
       " 'arachnidial',\n",
       " 'arachnoidal',\n",
       " 'arachnological',\n",
       " 'arbitral',\n",
       " 'arbitrational',\n",
       " 'arboral',\n",
       " 'arboreal',\n",
       " 'arborical',\n",
       " 'arboricultural',\n",
       " 'arcanal',\n",
       " 'archaeographical',\n",
       " 'archaeological',\n",
       " 'archaical',\n",
       " 'archangelical',\n",
       " 'archcriminal',\n",
       " 'archducal',\n",
       " 'archeal',\n",
       " 'archegonial',\n",
       " 'archesporial',\n",
       " 'archetypal',\n",
       " 'archetypical',\n",
       " 'archgomeral',\n",
       " 'archibenthal',\n",
       " 'archidiaconal',\n",
       " 'archiepiscopal',\n",
       " 'archiheretical',\n",
       " 'archimperial',\n",
       " 'archipallial',\n",
       " 'archiprelatical',\n",
       " 'archipterygial',\n",
       " 'archisymbolical',\n",
       " 'architectural',\n",
       " 'architraval',\n",
       " 'archival',\n",
       " 'archmarshal',\n",
       " 'archprelatical',\n",
       " 'archradical',\n",
       " 'archrascal',\n",
       " 'Arctogaeal',\n",
       " 'arcual',\n",
       " 'areal',\n",
       " 'areographical',\n",
       " 'areological',\n",
       " 'areometrical',\n",
       " 'argal',\n",
       " 'argental',\n",
       " 'argumental',\n",
       " 'Arianistical',\n",
       " 'aristocratical',\n",
       " 'aristodemocratical',\n",
       " 'aristological',\n",
       " 'arithmetical',\n",
       " 'armigeral',\n",
       " 'armorial',\n",
       " 'arousal',\n",
       " 'arrayal',\n",
       " 'arrhenal',\n",
       " 'arrhizal',\n",
       " 'arrhythmical',\n",
       " 'arrival',\n",
       " 'arsenal',\n",
       " 'arsenical',\n",
       " 'artal',\n",
       " 'arterial',\n",
       " 'arteriococcygeal',\n",
       " 'arteriorenal',\n",
       " 'arthral',\n",
       " 'arthritical',\n",
       " 'arthrodial',\n",
       " 'arthropodal',\n",
       " 'artificial',\n",
       " 'artistical',\n",
       " 'arval',\n",
       " 'arytenoidal',\n",
       " 'asbestoidal',\n",
       " 'ascaricidal',\n",
       " 'ascensional',\n",
       " 'ascetical',\n",
       " 'ascitical',\n",
       " 'ascogonial',\n",
       " 'ascomycetal',\n",
       " 'asexual',\n",
       " 'Asiatical',\n",
       " 'asocial',\n",
       " 'aspectual',\n",
       " 'asphyxial',\n",
       " 'asqueal',\n",
       " 'assertional',\n",
       " 'assertorial',\n",
       " 'assertorical',\n",
       " 'assessorial',\n",
       " 'assidual',\n",
       " 'associational',\n",
       " 'assonantal',\n",
       " 'Assyriological',\n",
       " 'asterial',\n",
       " 'asterismal',\n",
       " 'asternal',\n",
       " 'asteroidal',\n",
       " 'asthenical',\n",
       " 'asthmatical',\n",
       " 'astigmatical',\n",
       " 'astomatal',\n",
       " 'astragal',\n",
       " 'astragalocalcaneal',\n",
       " 'astragalocentral',\n",
       " 'astragalotibial',\n",
       " 'astral',\n",
       " 'astrochronological',\n",
       " 'astrolabical',\n",
       " 'astrological',\n",
       " 'astrometeorological',\n",
       " 'astrometrical',\n",
       " 'astronomical',\n",
       " 'astrophotometrical',\n",
       " 'astrophysical',\n",
       " 'astrospectral',\n",
       " 'asyllabical',\n",
       " 'asymbolical',\n",
       " 'asymmetrical',\n",
       " 'asymptotical',\n",
       " 'atabal',\n",
       " 'Ataigal',\n",
       " 'Ataiyal',\n",
       " 'atechnical',\n",
       " 'ateleological',\n",
       " 'atemporal',\n",
       " 'atheistical',\n",
       " 'atheological',\n",
       " 'athletical',\n",
       " 'atlantal',\n",
       " 'atlantoaxial',\n",
       " 'atmological',\n",
       " 'atmospherical',\n",
       " 'atmosteal',\n",
       " 'atokal',\n",
       " 'atomical',\n",
       " 'atomistical',\n",
       " 'atonal',\n",
       " 'atramental',\n",
       " 'atrial',\n",
       " 'atrioporal',\n",
       " 'atrochal',\n",
       " 'atropal',\n",
       " 'attentional',\n",
       " 'atterminal',\n",
       " 'Attical',\n",
       " 'attitudinal',\n",
       " 'attributal',\n",
       " 'atypical',\n",
       " 'auctorial',\n",
       " 'auditorial',\n",
       " 'auditual',\n",
       " 'augural',\n",
       " 'augurial',\n",
       " 'augustal',\n",
       " 'aural',\n",
       " 'auriculocranial',\n",
       " 'auriculoparietal',\n",
       " 'auriculotemporal',\n",
       " 'auriculovertical',\n",
       " 'aurigal',\n",
       " 'aurinasal',\n",
       " 'auronal',\n",
       " 'auroral',\n",
       " 'auspicial',\n",
       " 'Austral',\n",
       " 'austral',\n",
       " 'autacoidal',\n",
       " 'autarchical',\n",
       " 'autarkical',\n",
       " 'autecological',\n",
       " 'authentical',\n",
       " 'authorial',\n",
       " 'autobiographal',\n",
       " 'autobiographical',\n",
       " 'autochemical',\n",
       " 'autochthonal',\n",
       " 'autocratical',\n",
       " 'autocratorical',\n",
       " 'autogeneal',\n",
       " 'autographal',\n",
       " 'autographical',\n",
       " 'autointellectual',\n",
       " 'autological',\n",
       " 'automanual',\n",
       " 'automatical',\n",
       " 'automechanical',\n",
       " 'autonomical',\n",
       " 'autopsical',\n",
       " 'autoptical',\n",
       " 'autoschediastical',\n",
       " 'autosomal',\n",
       " 'autosymbolical',\n",
       " 'autumnal',\n",
       " 'auxetical',\n",
       " 'aval',\n",
       " 'Avernal',\n",
       " 'averral',\n",
       " 'aviatorial',\n",
       " 'avifaunal',\n",
       " 'avital',\n",
       " 'avolitional',\n",
       " 'avowal',\n",
       " 'Awabakal',\n",
       " 'axal',\n",
       " 'axial',\n",
       " 'axifugal',\n",
       " 'axiological',\n",
       " 'axiomatical',\n",
       " 'axisymmetrical',\n",
       " 'axofugal',\n",
       " 'axonal',\n",
       " 'axopetal',\n",
       " 'azimuthal',\n",
       " 'azocochineal',\n",
       " 'azonal',\n",
       " 'Baal',\n",
       " 'baal',\n",
       " 'Baalitical',\n",
       " 'bacchanal',\n",
       " 'Bacchical',\n",
       " 'bacillicidal',\n",
       " 'backpedal',\n",
       " 'bacterial',\n",
       " 'bactericidal',\n",
       " 'bacterioidal',\n",
       " 'bacteriological',\n",
       " 'bacterioscopical',\n",
       " 'bacteroidal',\n",
       " 'bakal',\n",
       " 'Bal',\n",
       " 'bal',\n",
       " 'Balaamitical',\n",
       " 'balanopreputial',\n",
       " 'balantidial',\n",
       " 'balladeroyal',\n",
       " 'balladical',\n",
       " 'Balmoral',\n",
       " 'balneal',\n",
       " 'balneological',\n",
       " 'balsamical',\n",
       " 'banal',\n",
       " 'bancal',\n",
       " 'bandboxical',\n",
       " 'baptismal',\n",
       " 'barbal',\n",
       " 'barbarical',\n",
       " 'barbital',\n",
       " 'Barmecidal',\n",
       " 'barometrical',\n",
       " 'baronetical',\n",
       " 'baronial',\n",
       " 'baroscopical',\n",
       " 'barristerial',\n",
       " 'barwal',\n",
       " 'basal',\n",
       " 'basial',\n",
       " 'basibranchial',\n",
       " 'basicranial',\n",
       " 'basidial',\n",
       " 'basidigital',\n",
       " 'basidorsal',\n",
       " 'basifacial',\n",
       " 'basifugal',\n",
       " 'basihyal',\n",
       " 'basilateral',\n",
       " 'basilical',\n",
       " 'basinasal',\n",
       " 'basinasial',\n",
       " 'basioccipital',\n",
       " 'basipetal',\n",
       " 'basipterygial',\n",
       " 'basiradial',\n",
       " 'basirhinal',\n",
       " 'basirostral',\n",
       " 'basisphenoidal',\n",
       " 'basitemporal',\n",
       " 'basiventral',\n",
       " 'basivertebral',\n",
       " 'bathyal',\n",
       " 'bathymetrical',\n",
       " 'bathyorographical',\n",
       " 'bathysmal',\n",
       " 'bathysophical',\n",
       " 'battological',\n",
       " 'bayal',\n",
       " 'beal',\n",
       " 'beatifical',\n",
       " 'bedismal',\n",
       " 'bedral',\n",
       " 'begettal',\n",
       " 'behavioral',\n",
       " 'beheadal',\n",
       " 'Belial',\n",
       " 'bemeal',\n",
       " 'benedictional',\n",
       " 'beneficential',\n",
       " 'beneficial',\n",
       " 'Bengal',\n",
       " 'benthal',\n",
       " 'benzal',\n",
       " 'bequeathal',\n",
       " 'berascal',\n",
       " 'bestial',\n",
       " 'bestowal',\n",
       " 'betrayal',\n",
       " 'betrothal',\n",
       " 'beylical',\n",
       " 'bharal',\n",
       " 'biacromial',\n",
       " 'biannual',\n",
       " 'biaxal',\n",
       " 'biaxial',\n",
       " 'Biblical',\n",
       " 'Biblicolegal',\n",
       " 'Biblicopsychological',\n",
       " 'bibliographical',\n",
       " 'bibliological',\n",
       " 'bibliomaniacal',\n",
       " 'bibliopolical',\n",
       " 'bibliothecal',\n",
       " 'bibliothecarial',\n",
       " 'bicameral',\n",
       " 'bicaudal',\n",
       " 'bicentennial',\n",
       " 'bicipital',\n",
       " 'bicollateral',\n",
       " 'biconical',\n",
       " 'biconsonantal',\n",
       " 'bicorporal',\n",
       " 'bicorporeal',\n",
       " 'bicrural',\n",
       " 'bicursal',\n",
       " 'bicylindrical',\n",
       " 'bidental',\n",
       " 'bidential',\n",
       " 'bidimensional',\n",
       " 'bidirectional',\n",
       " 'bidiurnal',\n",
       " 'biennial',\n",
       " 'bifacial',\n",
       " 'bifocal',\n",
       " 'bifrontal',\n",
       " 'bifurcal',\n",
       " 'bigeminal',\n",
       " 'bigential',\n",
       " 'bigonial',\n",
       " 'bijasal',\n",
       " 'bilabial',\n",
       " 'bilateral',\n",
       " 'bilharzial',\n",
       " 'bilingual',\n",
       " 'biliteral',\n",
       " 'bimanal',\n",
       " 'bimanual',\n",
       " 'bimensal',\n",
       " 'bimestrial',\n",
       " 'bimodal',\n",
       " 'binal',\n",
       " 'binational',\n",
       " 'binaural',\n",
       " 'binodal',\n",
       " 'binomial',\n",
       " ...]"
      ]
     },
     "execution_count": 52,
     "metadata": {},
     "output_type": "execute_result"
    }
   ],
   "source": [
    "let_dict['al']"
   ]
  },
  {
   "cell_type": "code",
   "execution_count": 53,
   "metadata": {},
   "outputs": [],
   "source": [
    "anagrams = defaultdict(list)"
   ]
  },
  {
   "cell_type": "code",
   "execution_count": 56,
   "metadata": {},
   "outputs": [],
   "source": [
    "for w in c_words:\n",
    "    key = ''.join(sorted(w))\n",
    "    anagrams[key].append(w)"
   ]
  },
  {
   "cell_type": "code",
   "execution_count": 57,
   "metadata": {},
   "outputs": [
    {
     "data": {
      "text/plain": [
       "defaultdict(list,\n",
       "            {'A': ['A'],\n",
       "             'a': ['a'],\n",
       "             'aa': ['aa'],\n",
       "             'aal': ['aal', 'ala'],\n",
       "             'aaiil': ['aalii'],\n",
       "             'aam': ['aam', 'ama'],\n",
       "             'Aain': ['Aani'],\n",
       "             'aaadkrrv': ['aardvark'],\n",
       "             'aadflorw': ['aardwolf'],\n",
       "             'Aanor': ['Aaron'],\n",
       "             'Aacinor': ['Aaronic'],\n",
       "             'Aaacilnor': ['Aaronical'],\n",
       "             'Aaeinort': ['Aaronite'],\n",
       "             'Aaciinort': ['Aaronitic'],\n",
       "             'Aaru': ['Aaru'],\n",
       "             'Ab': ['Ab'],\n",
       "             'aab': ['aba', 'baa'],\n",
       "             'Aabbdeh': ['Ababdeh'],\n",
       "             'Aaabbu': ['Ababua'],\n",
       "             'aabc': ['abac', 'caba'],\n",
       "             'aaabc': ['abaca'],\n",
       "             'aaabcet': ['abacate'],\n",
       "             'aaabcy': ['abacay'],\n",
       "             'aaabceint': ['abacinate'],\n",
       "             'aaabciinnot': ['abacination'],\n",
       "             'aabccissu': ['abaciscus'],\n",
       "             'aabcist': ['abacist'],\n",
       "             'aabck': ['aback'],\n",
       "             'aaabcilnt': ['abactinal'],\n",
       "             'aaabcillnty': ['abactinally'],\n",
       "             'aabcinot': ['abaction'],\n",
       "             'aabcort': ['abactor', 'acrobat'],\n",
       "             'aabclsuu': ['abaculus'],\n",
       "             'aabcsu': ['abacus'],\n",
       "             'Aabdeit': ['Abadite'],\n",
       "             'aabff': ['abaff'],\n",
       "             'aabft': ['abaft', 'bafta'],\n",
       "             'aaabceins': ['abaisance'],\n",
       "             'aabeirs': ['abaiser'],\n",
       "             'aabdeiss': ['abaissed'],\n",
       "             'aaabeeilnt': ['abalienate'],\n",
       "             'aaabeiilnnot': ['abalienation'],\n",
       "             'aabelno': ['abalone', 'balonea'],\n",
       "             'Aaabm': ['Abama'],\n",
       "             'aabeempr': ['abampere'],\n",
       "             'aabdnno': ['abandon'],\n",
       "             'aaabbdelnno': ['abandonable'],\n",
       "             'aabddenno': ['abandoned'],\n",
       "             'aabddelnnoy': ['abandonedly'],\n",
       "             'aabdeenno': ['abandonee'],\n",
       "             'aabdennor': ['abandoner', 'reabandon'],\n",
       "             'aabdemnnnot': ['abandonment'],\n",
       "             'Aabcin': ['Abanic'],\n",
       "             'Aabenst': ['Abantes'],\n",
       "             'aabinopstt': ['abaptiston'],\n",
       "             'Aaabbmor': ['Abarambo'],\n",
       "             'Aabirs': ['Abaris', 'Arabis'],\n",
       "             'aabhiorrsst': ['abarthrosis'],\n",
       "             'aaabcilrrtu': ['abarticular'],\n",
       "             'aaabciilnorttu': ['abarticulation'],\n",
       "             'aabs': ['abas'],\n",
       "             'aabes': ['abase'],\n",
       "             'aabdes': ['abased'],\n",
       "             'aabdelsy': ['abasedly'],\n",
       "             'aabdeensss': ['abasedness'],\n",
       "             'aabeemnst': ['abasement'],\n",
       "             'aabers': ['abaser', 'abrase'],\n",
       "             'Aabgis': ['Abasgi'],\n",
       "             'aabhs': ['abash'],\n",
       "             'aabdehs': ['abashed'],\n",
       "             'aabdehlsy': ['abashedly'],\n",
       "             'aabdeehnsss': ['abashedness'],\n",
       "             'aabehlsss': ['abashless'],\n",
       "             'aabehllsssy': ['abashlessly'],\n",
       "             'aabehmnst': ['abashment'],\n",
       "             'aaabis': ['abasia'],\n",
       "             'aabcis': ['abasic'],\n",
       "             'aabks': ['abask'],\n",
       "             'Aabinss': ['Abassin'],\n",
       "             'aaabdeirstz': ['abastardize'],\n",
       "             'aaabbelt': ['abatable'],\n",
       "             'aabet': ['abate', 'batea', 'beata'],\n",
       "             'aabeemntt': ['abatement'],\n",
       "             'aabert': ['abater', 'artabe', 'eartab', 'trabea'],\n",
       "             'aabist': ['abatis'],\n",
       "             'aabdeist': ['abatised'],\n",
       "             'aabnot': ['abaton'],\n",
       "             'aabort': ['abator'],\n",
       "             'aabiortt': ['abattoir'],\n",
       "             'Aaabtu': ['Abatua'],\n",
       "             'aabertu': ['abature'],\n",
       "             'aabev': ['abave'],\n",
       "             'aaabilx': ['abaxial'],\n",
       "             'aabeilx': ['abaxile'],\n",
       "             'aabez': ['abaze'],\n",
       "             'abb': ['abb'],\n",
       "             'Aabb': ['Abba'],\n",
       "             'aabbcemos': ['abbacomes'],\n",
       "             'aabbcy': ['abbacy'],\n",
       "             'Aabbddei': ['Abbadide'],\n",
       "             'aabbs': ['abbas'],\n",
       "             'aabbis': ['abbasi'],\n",
       "             'aabbiss': ['abbassi'],\n",
       "             'Aabbdeiss': ['Abbasside'],\n",
       "             'aaabbilt': ['abbatial'],\n",
       "             'aaabbcilt': ['abbatical'],\n",
       "             'abbess': ['abbess'],\n",
       "             'abbey': ['abbey', 'bebay'],\n",
       "             'abbdeeesty': ['abbeystede'],\n",
       "             'Abbei': ['Abbie'],\n",
       "             'abbot': ['abbot'],\n",
       "             'abbcoty': ['abbotcy'],\n",
       "             'abbillnostuu': ['abbotnullius'],\n",
       "             'abbhiopst': ['abbotship'],\n",
       "             'aabbeeirtv': ['abbreviate'],\n",
       "             'aabbeeilrtvy': ['abbreviately'],\n",
       "             'aabbeiinortv': ['abbreviation'],\n",
       "             'aabbeiorrtv': ['abbreviator'],\n",
       "             'aabbeiorrtvy': ['abbreviatory'],\n",
       "             'aabbeeirrtuv': ['abbreviature'],\n",
       "             'Abby': ['Abby'],\n",
       "             'abbclmoou': ['abcoulomb'],\n",
       "             'aabdl': ['abdal'],\n",
       "             'aabdt': ['abdat', 'batad'],\n",
       "             'Aabdeinr': ['Abderian'],\n",
       "             'Abdeeirt': ['Abderite'],\n",
       "             'abdest': ['abdest'],\n",
       "             'aabbcdeil': ['abdicable'],\n",
       "             'aabcdint': ['abdicant'],\n",
       "             'aabcdeit': ['abdicate'],\n",
       "             'aabcdiinot': ['abdication'],\n",
       "             'aabcdeiitv': ['abdicative'],\n",
       "             'aabcdiort': ['abdicator'],\n",
       "             'Abdeil': ['Abdiel'],\n",
       "             'abdeiitv': ['abditive'],\n",
       "             'abdiorty': ['abditory'],\n",
       "             'abdemno': ['abdomen'],\n",
       "             'aabdilmno': ['abdominal'],\n",
       "             'Aabdeilmnos': ['Abdominales'],\n",
       "             'aaabdiilmnno': ['abdominalian'],\n",
       "             'aabdillmnoy': ['abdominally'],\n",
       "             'aabdeiimnnooorrt': ['abdominoanterior'],\n",
       "             'aaabccddiimnoor': ['abdominocardiac'],\n",
       "             'abcdeeiimnnoosst': ['abdominocentesis'],\n",
       "             'abccdiimnoosty': ['abdominocystic'],\n",
       "             'aabdegiilmnnoot': ['abdominogenital'],\n",
       "             'abcdeehimmnooorsttyy': ['abdominohysterectomy'],\n",
       "             'abdehimmnoooorsttyy': ['abdominohysterotomy'],\n",
       "             'abdeiimnooooprrst': ['abdominoposterior'],\n",
       "             'abcdeimnooops': ['abdominoscope'],\n",
       "             'abcdimnooopsy': ['abdominoscopy'],\n",
       "             'aabccdhiimnooort': ['abdominothoracic'],\n",
       "             'abdimnoosu': ['abdominous'],\n",
       "             'aaabdgiilmnnoov': ['abdominovaginal', 'vaginoabdominal'],\n",
       "             'aabcdeiilmnoosv': ['abdominovesical', 'vesicoabdominal'],\n",
       "             'abcdeu': ['abduce'],\n",
       "             'abcdensu': ['abducens'],\n",
       "             'abcdentu': ['abducent'],\n",
       "             'abcdtu': ['abduct'],\n",
       "             'abcdinotu': ['abduction'],\n",
       "             'abcdortu': ['abductor'],\n",
       "             'Abe': ['Abe'],\n",
       "             'aabem': ['abeam'],\n",
       "             'aaber': ['abear'],\n",
       "             'aaabceenr': ['abearance'],\n",
       "             'aaabcdeeinr': ['abecedarian'],\n",
       "             'aabcdeeimru': ['abecedarium'],\n",
       "             'aabcdeery': ['abecedary'],\n",
       "             'abde': ['abed', 'bade', 'bead'],\n",
       "             'abeghi': ['abeigh'],\n",
       "             'Abel': ['Abel'],\n",
       "             'abeel': ['abele', 'albee'],\n",
       "             'Aabeil': ['Abelia'],\n",
       "             'Aabeiln': ['Abelian'],\n",
       "             'Aabceeil': ['Abelicea'],\n",
       "             'Abeeilt': ['Abelite'],\n",
       "             'abeeilt': ['abelite'],\n",
       "             'Abcehlmossu': ['Abelmoschus'],\n",
       "             'abeklmos': ['abelmosk'],\n",
       "             'Aabeilnno': ['Abelonian'],\n",
       "             'abeeelrt': ['abeltree'],\n",
       "             'Aabceeegnrrs': ['Abencerrages'],\n",
       "             'abceeinrt': ['abenteric', 'bicrenate'],\n",
       "             'aabehiimpty': ['abepithymia'],\n",
       "             'Abdeeenr': ['Aberdeen'],\n",
       "             'abdeeeinrv': ['aberdevine'],\n",
       "             'Aabdeinnor': ['Aberdonian'],\n",
       "             'Aabeir': ['Aberia'],\n",
       "             'aabceenrr': ['aberrance'],\n",
       "             'aabcenrry': ['aberrancy'],\n",
       "             'aabenrrt': ['aberrant'],\n",
       "             'aabeerrt': ['aberrate'],\n",
       "             'aabeinorrt': ['aberration'],\n",
       "             'aaabeilnorrt': ['aberrational'],\n",
       "             'aabeorrrt': ['aberrator'],\n",
       "             'abeeemorrrt': ['aberrometer'],\n",
       "             'abceeooprrs': ['aberroscope'],\n",
       "             'aabcenorrtu': ['aberuncator'],\n",
       "             'abet': ['abet', 'bate', 'beat', 'beta'],\n",
       "             'abeemntt': ['abetment', 'batement'],\n",
       "             'aabeltt': ['abettal'],\n",
       "             'abeortt': ['abettor', 'taboret'],\n",
       "             'aaabceinotuv': ['abevacuation'],\n",
       "             'abey': ['abey'],\n",
       "             'aabceeny': ['abeyance'],\n",
       "             'aabcenyy': ['abeyancy'],\n",
       "             'aabenty': ['abeyant'],\n",
       "             'aaabdfr': ['abfarad'],\n",
       "             'abehnry': ['abhenry'],\n",
       "             'aabehiks': ['abhiseka'],\n",
       "             'aabbehilmno': ['abhominable'],\n",
       "             'abhor': ['abhor'],\n",
       "             'abceehnorr': ['abhorrence'],\n",
       "             'abcehnorry': ['abhorrency'],\n",
       "             'abehnorrt': ['abhorrent', 'earthborn'],\n",
       "             'abehlnorrty': ['abhorrently'],\n",
       "             'abehorrr': ['abhorrer', 'harborer'],\n",
       "             'abbehilorr': ['abhorrible'],\n",
       "             'abghinorr': ['abhorring'],\n",
       "             'Abhnoors': ['Abhorson'],\n",
       "             'aabdil': ['abidal'],\n",
       "             'aabcdein': ['abidance'],\n",
       "             'abdei': ['abide'],\n",
       "             'abdeir': ['abider', 'bardie'],\n",
       "             'abdii': ['abidi'],\n",
       "             'abdgiin': ['abiding'],\n",
       "             'abdgiilny': ['abidingly'],\n",
       "             'abdegiinnss': ['abidingness'],\n",
       "             'Abei': ['Abie'],\n",
       "             'Abeis': ['Abies'],\n",
       "             'aabeeitt': ['abietate'],\n",
       "             'abeeeint': ['abietene'],\n",
       "             'abceiit': ['abietic'],\n",
       "             'abeiint': ['abietin'],\n",
       "             'Aabeeeiint': ['Abietineae'],\n",
       "             'abeeiinostu': ['abietineous'],\n",
       "             'abceiiint': ['abietinic'],\n",
       "             'Abeeirz': ['Abiezer'],\n",
       "             'Aabgiil': ['Abigail'],\n",
       "             'aabgiil': ['abigail'],\n",
       "             'aabghiiilps': ['abigailship'],\n",
       "             'aabegit': ['abigeat'],\n",
       "             'abegisu': ['abigeus'],\n",
       "             'aabilo': ['abilao'],\n",
       "             'abiilty': ['ability'],\n",
       "             'aabill': ['abilla', 'labial'],\n",
       "             'abilo': ['abilo', 'aboil'],\n",
       "             'aabeeinsttt': ['abintestate'],\n",
       "             'abeegiinoss': ['abiogenesis'],\n",
       "             'abeegiinosst': ['abiogenesist'],\n",
       "             'abceegiinot': ['abiogenetic'],\n",
       "             'aabceegiilnot': ['abiogenetical'],\n",
       "             'aabceegiillnoty': ['abiogenetically'],\n",
       "             'abegiinost': ['abiogenist'],\n",
       "             'abeginoosu': ['abiogenous'],\n",
       "             'abeginoy': ['abiogeny'],\n",
       "             'aabcgiilloo': ['abiological'],\n",
       "             'aabcgiilllooy': ['abiologically'],\n",
       "             'abgilooy': ['abiology'],\n",
       "             'abiioss': ['abiosis'],\n",
       "             'abciiot': ['abiotic'],\n",
       "             'abchiiooprt': ['abiotrophic'],\n",
       "             'abhiooprty': ['abiotrophy'],\n",
       "             'Abinop': ['Abipon'],\n",
       "             'abir': ['abir', 'bari'],\n",
       "             'aabiinrrtt': ['abirritant'],\n",
       "             'aabeiirrtt': ['abirritate'],\n",
       "             'aabiiinorrtt': ['abirritation'],\n",
       "             'aabeiiirrttv': ['abirritative'],\n",
       "             'abinost': ['abiston', 'bastion'],\n",
       "             'Abbiiit': ['Abitibi'],\n",
       "             'abeirtu': ['abiuret', 'aubrite', 'biurate', 'rubiate'],\n",
       "             'abcejt': ['abject'],\n",
       "             'abcdeeejnsst': ['abjectedness'],\n",
       "             'abceijnot': ['abjection'],\n",
       "             'abceeijtv': ['abjective'],\n",
       "             'abcejlty': ['abjectly'],\n",
       "             'abceejnsst': ['abjectness'],\n",
       "             'abijnot': ['abjoint'],\n",
       "             'abdegju': ['abjudge'],\n",
       "             'aabcdeijtu': ['abjudicate'],\n",
       "             'aabcdiijnotu': ['abjudication'],\n",
       "             'abcijnnotu': ['abjunction'],\n",
       "             'abceijntuv': ['abjunctive'],\n",
       "             'aabijnortu': ['abjuration'],\n",
       "             'aabjorrtuy': ['abjuratory'],\n",
       "             'abejru': ['abjure'],\n",
       "             'abeejmnrtu': ['abjurement'],\n",
       "             'abejrru': ['abjurer'],\n",
       "             'aabkr': ['abkar'],\n",
       "             'aabikr': ['abkari'],\n",
       "             'Aabhks': ['Abkhas'],\n",
       "             'Aaabhikns': ['Abkhasian'],\n",
       "             'aabchl': ['ablach'],\n",
       "             'aaabceltt': ['ablactate', 'cabaletta'],\n",
       "             'aaabcilnott': ['ablactation'],\n",
       "             'aabelr': ['ablare', 'arable'],\n",
       "             'aabceilmst': ['ablastemic', 'masticable'],\n",
       "             'aablosstu': ['ablastous'],\n",
       "             'aabelt': ['ablate'],\n",
       "             'aabilnot': ['ablation', 'obtainal'],\n",
       "             'aabiilosttu': ['ablatitious'],\n",
       "             'aaabilltv': ['ablatival'],\n",
       "             'aabeiltv': ['ablative'],\n",
       "             'aablort': ['ablator'],\n",
       "             'aabltu': ['ablaut', 'tabula'],\n",
       "             'aabelz': ['ablaze'],\n",
       "             'abel': ['able', 'albe', 'bale', 'beal', 'bela', 'blae'],\n",
       "             'abeeelz': ['ableeze'],\n",
       "             'aabeeglt': ['ablegate'],\n",
       "             'abeelnss': ['ableness', 'blaeness', 'sensable'],\n",
       "             'aaabehilpr': ['ablepharia'],\n",
       "             'aabehlnopr': ['ablepharon'],\n",
       "             'aabehloprsu': ['ablepharous'],\n",
       "             'Aabehlprsu': ['Ablepharus'],\n",
       "             'aabeilps': ['ablepsia', 'epibasal'],\n",
       "             'aabceillpt': ['ableptical'],\n",
       "             'aabceilllpty': ['ableptically'],\n",
       "             'abelr': ['abler', 'baler', 'belar', 'blare', 'blear'],\n",
       "             'abelst': ['ablest', 'stable', 'tables'],\n",
       "             'aabceehklstw': ['ablewhackets'],\n",
       "             'abilns': ['ablins'],\n",
       "             'ablmoo': ['abloom', 'mabolo'],\n",
       "             'ablow': ['ablow', 'balow', 'bowla'],\n",
       "             'abdelu': ['ablude', 'belaud'],\n",
       "             'abelntu': ['abluent', 'tunable'],\n",
       "             'abhlsu': ['ablush'],\n",
       "             'abilnotu': ['ablution'],\n",
       "             'aabilnortuy': ['ablutionary'],\n",
       "             'abilnouv': ['abluvion'],\n",
       "             'ably': ['ably', 'blay', 'yalb'],\n",
       "             'abhmo': ['abmho', 'abohm'],\n",
       "             'Aabikn': ['Abnaki'],\n",
       "             'aabeegnt': ['abnegate'],\n",
       "             'aabeginnot': ['abnegation'],\n",
       "             'aabeegintv': ['abnegative'],\n",
       "             'aabegnort': ['abnegator'],\n",
       "             'Abenr': ['Abner', 'Arneb'],\n",
       "             'aabelnrv': ['abnerval'],\n",
       "             'abent': ['abnet', 'beant'],\n",
       "             'aabelnru': ['abneural'],\n",
       "             'aablmnor': ['abnormal'],\n",
       "             'aabilmmnors': ['abnormalism'],\n",
       "             'aabilmnorst': ['abnormalist'],\n",
       "             'aabilmnorty': ['abnormality'],\n",
       "             'aabeilmnorz': ['abnormalize'],\n",
       "             'aabllmnory': ['abnormally'],\n",
       "             'aabelmnnorss': ['abnormalness'],\n",
       "             'abimnorty': ['abnormity'],\n",
       "             'abmnoorsu': ['abnormous'],\n",
       "             'aabbeelmnru': ['abnumerable'],\n",
       "             'Abo': ['Abo'],\n",
       "             'aabdor': ['aboard', 'aborad', 'abroad'],\n",
       "             'Aabbor': ['Abobra'],\n",
       "             'abdeo': ['abode', 'adobe'],\n",
       "             'abdeemnot': ['abodement'],\n",
       "             'abdoy': ['abody'],\n",
       "             'abhilos': ['abolish'],\n",
       "             'abehilors': ['abolisher', 'reabolish'],\n",
       "             'abehilmnost': ['abolishment'],\n",
       "             'abiilnoot': ['abolition'],\n",
       "             'aabiilnoorty': ['abolitionary'],\n",
       "             'abiiilmnoost': ['abolitionism'],\n",
       "             'abiiilnoostt': ['abolitionist'],\n",
       "             'abeiiilnootz': ['abolitionize'],\n",
       "             'aabllo': ['abolla'],\n",
       "             'aabmo': ['aboma'],\n",
       "             'aabmmosu': ['abomasum'],\n",
       "             'aabmossu': ['abomasus'],\n",
       "             'aabbeilmno': ['abominable'],\n",
       "             'aabbeeilmnnoss': ['abominableness'],\n",
       "             'aabbilmnoy': ['abominably'],\n",
       "             'aabeimnot': ['abominate'],\n",
       "             'aabiimnnoot': ['abomination'],\n",
       "             'aabimnoort': ['abominator'],\n",
       "             'abeimno': ['abomine'],\n",
       "             'Abgnoo': ['Abongo'],\n",
       "             'abnoo': ['aboon'],\n",
       "             'aablor': ['aboral', 'arbalo'],\n",
       "             'aabllory': ['aborally'],\n",
       "             'abdor': ['abord', 'bardo', 'board', 'broad', 'dobra', 'dorab'],\n",
       "             'aabgiilnor': ['aboriginal'],\n",
       "             'aabgiiilnorty': ['aboriginality'],\n",
       "             'aabgiillnory': ['aboriginally'],\n",
       "             'aabgiinorry': ['aboriginary'],\n",
       "             'abegiinor': ['aborigine'],\n",
       "             'abort': ['abort', 'tabor'],\n",
       "             'abdeort': ['aborted'],\n",
       "             'abcdeiiort': ['aborticide', 'bacterioid'],\n",
       "             'abeinortt': ['abortient', 'torbanite'],\n",
       "             'aabcefiinortt': ['abortifacient'],\n",
       "             'abinort': ['abortin', 'taborin'],\n",
       "             'abinoort': ['abortion', 'robotian'],\n",
       "             'aabilnoort': ['abortional'],\n",
       "             'abiinoorstt': ['abortionist'],\n",
       "             'abeiortv': ['abortive', 'bravoite'],\n",
       "             'abeilortvy': ['abortively'],\n",
       "             'abeeinorsstv': ['abortiveness'],\n",
       "             'aborstu': ['abortus'],\n",
       "             'abceehmnotu': ['abouchement'],\n",
       "             'abdnou': ['abound'],\n",
       "             'abdenoru': ['abounder'],\n",
       "             'abdginnou': ['abounding'],\n",
       "             'abdgilnnouy': ['aboundingly'],\n",
       "             'abotu': ['about'],\n",
       "             'abostu': ['abouts'],\n",
       "             'abeov': ['above'],\n",
       "             'aabbdeoorv': ['aboveboard'],\n",
       "             'abcdeekov': ['abovedeck'],\n",
       "             'abdegnooruv': ['aboveground'],\n",
       "             'abefoooprv': ['aboveproof'],\n",
       "             'aabeiorsstv': ['abovestairs'],\n",
       "             'abox': ['abox'],\n",
       "             'aaaaabbcdrr': ['abracadabra'],\n",
       "             'aaabchir': ['abrachia'],\n",
       "             'aaabdnrt': ['abradant'],\n",
       "             'aabder': ['abrade'],\n",
       "             'aabderr': ['abrader'],\n",
       "             'Aaabhmr': ['Abraham'],\n",
       "             'Aaabchimr': ['Abrahamic'],\n",
       "             'Aaaabdehimr': ['Abrahamidae'],\n",
       "             'Aaabehimrt': ['Abrahamite'],\n",
       "             'Aaabchiimrt': ['Abrahamitic'],\n",
       "             'aabdir': ['abraid'],\n",
       "             'Aabmr': ['Abram'],\n",
       "             'Aabimrs': ['Abramis', 'Arabism'],\n",
       "             'aaabchilnr': ['abranchial'],\n",
       "             'aaabchiilmnrs': ['abranchialism'],\n",
       "             'aaabchinnr': ['abranchian'],\n",
       "             'Aaaabchinrt': ['Abranchiata'],\n",
       "             'aaabcehinrt': ['abranchiate'],\n",
       "             'aabchinorsu': ['abranchious'],\n",
       "             'aaabrsx': ['abrasax', 'abraxas'],\n",
       "             'aabhrs': ['abrash'],\n",
       "             'aabeeimorrst': ['abrasiometer'],\n",
       "             'aabinors': ['abrasion'],\n",
       "             'aabeirsv': ['abrasive'],\n",
       "             'aablorst': ['abrastol'],\n",
       "             'aabmru': ['abraum'],\n",
       "             'aabcert': ['abreact', 'bractea', 'cabaret'],\n",
       "             'aabceinort': ['abreaction'],\n",
       "             'aaberst': ['abreast'],\n",
       "             'abceennoru': ['abrenounce'],\n",
       "             'abert': ['abret', 'bater', 'berat'],\n",
       "             'abcior': ['abrico'],\n",
       "             'abdegir': ['abridge', 'brigade'],\n",
       "             'aabbdeegilr': ['abridgeable'],\n",
       "             'abddegir': ['abridged'],\n",
       "             'abddegilry': ['abridgedly'],\n",
       "             'abdegirr': ['abridger'],\n",
       "             'abdegimnrt': ['abridgment'],\n",
       "             'abimr': ['abrim', 'birma'],\n",
       "             'abinr': ['abrin', 'bairn', 'brain'],\n",
       "             'abeilrst': ['abristle'],\n",
       "             'aabchor': ['abroach'],\n",
       "             'Aabcmoor': ['Abrocoma'],\n",
       "             'abcemoor': ['abrocome'],\n",
       "             'aabbeglor': ['abrogable'],\n",
       "             'aabegort': ['abrogate'],\n",
       "             'aabginoort': ['abrogation'],\n",
       "             'aabegiortv': ['abrogative'],\n",
       "             'aabgoorrt': ['abrogator'],\n",
       "             'Aabmor': ['Abroma'],\n",
       "             'Aabinor': ['Abronia'],\n",
       "             'abkoor': ['abrook'],\n",
       "             'aabmnortu': ['abrotanum'],\n",
       "             'abeinort': ['abrotine', 'baritone', 'obtainer', 'reobtain'],\n",
       "             'abprtu': ['abrupt'],\n",
       "             'abdelprtuy': ['abruptedly'],\n",
       "             'abinoprtu': ['abruption'],\n",
       "             'ablprtuy': ['abruptly'],\n",
       "             'abenprsstu': ['abruptness'],\n",
       "             'Abrsu': ['Abrus'],\n",
       "             'Aablmos': ['Absalom'],\n",
       "             'aabeemprs': ['absampere'],\n",
       "             'Aaabkors': ['Absaroka'],\n",
       "             'aabeikorst': ['absarokite'],\n",
       "             'abcesss': ['abscess'],\n",
       "             'abcdeesss': ['abscessed'],\n",
       "             'abceinosss': ['abscession'],\n",
       "             'abceoorssst': ['abscessroot'],\n",
       "             'abcdins': ['abscind'],\n",
       "             'abceiss': ['abscise', 'scabies'],\n",
       "             'abciinoss': ['abscision'],\n",
       "             'abcisss': ['absciss'],\n",
       "             'aabcisss': ['abscissa'],\n",
       "             'aabceisss': ['abscissae'],\n",
       "             'abceisss': ['abscisse'],\n",
       "             'abciinosss': ['abscission'],\n",
       "             'abccenos': ['absconce'],\n",
       "             'abcdnos': ['abscond'],\n",
       "             'abcddenos': ['absconded'],\n",
       "             'abcddelnosy': ['abscondedly'],\n",
       "             'abccdeennos': ['abscondence'],\n",
       "             'abcdenors': ['absconder'],\n",
       "             'aabcnoss': ['absconsa'],\n",
       "             'abbclmoosu': ['abscoulomb'],\n",
       "             'abceens': ['absence'],\n",
       "             'abenst': ['absent', 'basten'],\n",
       "             'aabeinnostt': ['absentation'],\n",
       "             'abeeenst': ['absentee'],\n",
       "             'abeeeimnsst': ['absenteeism'],\n",
       "             'abeeehinpsst': ['absenteeship'],\n",
       "             'abeenrst': ['absenter', 'reabsent'],\n",
       "             'abelnsty': ['absently'],\n",
       "             'abeemnnstt': ['absentment'],\n",
       "             'abddeeilmnnsty': ['absentmindedly'],\n",
       "             'abeennssst': ['absentness'],\n",
       "             'aaabdfrs': ['absfarad'],\n",
       "             'abehnrsy': ['abshenry'],\n",
       "             'Abis': ['Absi'],\n",
       "             'abehinst': ['absinthe'],\n",
       "             'aabhiilnst': ['absinthial'],\n",
       "             'aabhiinnst': ['absinthian'],\n",
       "             'aabehiinstt': ['absinthiate'],\n",
       "             'abchiinst': ['absinthic'],\n",
       "             'abhiinnst': ['absinthin'],\n",
       "             'abehiinnst': ['absinthine'],\n",
       "             'abhiimnsst': ['absinthism'],\n",
       "             'abchiiimnsst': ['absinthismic'],\n",
       "             'abhiimnstu': ['absinthium'],\n",
       "             'abhilnost': ['absinthol'],\n",
       "             'abist': ['absit'],\n",
       "             'abhmos': ['absmho', 'absohm'],\n",
       "             'abelostu': ['absolute'],\n",
       "             'abellostuy': ['absolutely'],\n",
       "             'abeelnossstu': ['absoluteness'],\n",
       "             'abilnoostu': ['absolution'],\n",
       "             'abilmosstu': ['absolutism'],\n",
       "             'abilossttu': ['absolutist'],\n",
       "             'abciilossttu': ['absolutistic'],\n",
       "             'aabciilllossttuy': ['absolutistically'],\n",
       "             'abeilostuv': ['absolutive'],\n",
       "             'aabiilnoosttuz': ['absolutization'],\n",
       "             'abeilostuz': ['absolutize'],\n",
       "             'abloorstuy': ['absolutory'],\n",
       "             'aabbellosv': ['absolvable'],\n",
       "             'aabloorstvy': ['absolvatory'],\n",
       "             'abelosv': ['absolve'],\n",
       "             'abelnostv': ['absolvent'],\n",
       "             'abelorsv': ['absolver'],\n",
       "             'abiloorstv': ['absolvitor'],\n",
       "             'abiloorstvy': ['absolvitory'],\n",
       "             'aabnnost': ['absonant'],\n",
       "             'abnoossu': ['absonous'],\n",
       "             'abbors': ['absorb'],\n",
       "             'aabbbiilorsty': ['absorbability'],\n",
       "             'aabbbelors': ['absorbable'],\n",
       "             'abbdeors': ['absorbed'],\n",
       "             'abbdelorsy': ['absorbedly'],\n",
       "             'abbdeenorsss': ['absorbedness'],\n",
       "             'aabbceefinorst': ['absorbefacient'],\n",
       "             'abbcenorsy': ['absorbency'],\n",
       "             'abbenorst': ['absorbent'],\n",
       "             'abbeorrs': ['absorber', 'reabsorb'],\n",
       "             'abbginors': ['absorbing'],\n",
       "             'abbgilnorsy': ['absorbingly'],\n",
       "             'abbiinoorst': ['absorbition'],\n",
       "             'aboprst': ['absorpt', 'barpost'],\n",
       "             'aabcenoprst': ['absorptance'],\n",
       "             'abeeimooprrstt': ['absorptiometer'],\n",
       "             'abceiimooprrstt': ['absorptiometric'],\n",
       "             'abinooprst': ['absorption'],\n",
       "             'abeioprstv': ['absorptive'],\n",
       "             'abeiloprstvy': ['absorptively'],\n",
       "             'abeeinoprssstv': ['absorptiveness'],\n",
       "             'abiioprsttvy': ['absorptivity'],\n",
       "             'aaabelqsttuu': ['absquatulate'],\n",
       "             'aabinst': ['abstain'],\n",
       "             'aabeinrst': ['abstainer'],\n",
       "             'aabeimnnstt': ['abstainment'],\n",
       "             'abeimosstu': ['abstemious'],\n",
       "             'abeilmosstuy': ['abstemiously'],\n",
       "             'abeeimnosssstu': ['abstemiousness'],\n",
       "             'abeinnostt': ['abstention'],\n",
       "             'abeiinnossttt': ['abstentionist'],\n",
       "             'abeinossttu': ['abstentious'],\n",
       "             'abeegrst': ['absterge'],\n",
       "             'abeegnrstt': ['abstergent'],\n",
       "             'abeinorsst': ['abstersion'],\n",
       "             'abeeirsstv': ['abstersive'],\n",
       "             'abeeeinrsssstv': ['abstersiveness'],\n",
       "             'abceeinnst': ['abstinence'],\n",
       "             'abceinnsty': ['abstinency'],\n",
       "             'abeinnstt': ['abstinent'],\n",
       "             'aabeiilnnstt': ['abstinential'],\n",
       "             'abeilnnstty': ['abstinently'],\n",
       "             'aabcrstt': ['abstract'],\n",
       "             'aabcderstt': ['abstracted'],\n",
       "             'aabcdelrstty': ['abstractedly'],\n",
       "             'aabcdeenrssstt': ['abstractedness'],\n",
       "             'aabcerrstt': ['abstracter'],\n",
       "             'aabcinorstt': ['abstraction'],\n",
       "             'aaabcilnorstt': ['abstractional'],\n",
       "             'aabciimnorsstt': ['abstractionism'],\n",
       "             'aabciinorssttt': ['abstractionist'],\n",
       "             'aabciiorsstttu': ['abstractitious'],\n",
       "             'aabceirsttv': ['abstractive'],\n",
       "             'aabceilrsttvy': ['abstractively'],\n",
       "             'aabceeinrsssttv': ['abstractiveness'],\n",
       "             'aabclrstty': ['abstractly'],\n",
       "             'aabcenrssstt': ['abstractness'],\n",
       "             'aabcorrstt': ['abstractor'],\n",
       "             'aabehnrstt': ['abstrahent'],\n",
       "             'abcdeirstt': ['abstricted'],\n",
       "             'abciinorstt': ['abstriction'],\n",
       "             'abersstu': ['abstruse'],\n",
       "             'abelrsstuy': ['abstrusely'],\n",
       "             'abeenrsssstu': ['abstruseness'],\n",
       "             'abinorsstu': ['abstrusion'],\n",
       "             'abirssttuy': ['abstrusity'],\n",
       "             'abemsu': ['absume'],\n",
       "             'abimnopstu': ['absumption'],\n",
       "             'abdrsu': ['absurd'],\n",
       "             'abdirstuy': ['absurdity'],\n",
       "             'abdlrsuy': ['absurdly'],\n",
       "             'abdenrsssu': ['absurdness'],\n",
       "             'ablostv': ['absvolt'],\n",
       "             'Abrsstuy': ['Absyrtus'],\n",
       "             'aabeilmnrt': ['abterminal'],\n",
       "             'aabhint': ['abthain', 'habitan'],\n",
       "             'aabehiinrt': ['abthainrie'],\n",
       "             'aabhinrty': ['abthainry'],\n",
       "             'aaabeghnt': ['abthanage'],\n",
       "             'Abu': ['Abu'],\n",
       "             'abu': ['abu'],\n",
       "             'abccou': ['abucco'],\n",
       "             'aabilu': ['abulia'],\n",
       "             'abcilu': ['abulic', 'baculi'],\n",
       "             'aaabilmnou': ['abulomania'],\n",
       "             'aabnu': ['abuna'],\n",
       "             'aabcdennu': ['abundance'],\n",
       "             'aabcdnnuy': ['abundancy'],\n",
       "             'aabdnntu': ['abundant'],\n",
       "             'Aaabdinntu': ['Abundantia'],\n",
       "             'aabdlnntuy': ['abundantly'],\n",
       "             'aabru': ['abura'],\n",
       "             'aabboruuz': ['aburabozu'],\n",
       "             'aabbnru': ['aburban'],\n",
       "             'abrstu': ['aburst'],\n",
       "             'abnortu': ['aburton'],\n",
       "             'aabbelsu': ['abusable'],\n",
       "             'abesu': ['abuse'],\n",
       "             'abdelsuy': ['abusedly'],\n",
       "             'abeesu': ['abusee'],\n",
       "             'abeflsuu': ['abuseful'],\n",
       "             'abefllsuuy': ['abusefully'],\n",
       "             'abeeflnsssuu': ['abusefulness'],\n",
       "             'abersu': ['abuser'],\n",
       "             'abinosu': ['abusion'],\n",
       "             'abiossuu': ['abusious'],\n",
       "             'abeisuv': ['abusive'],\n",
       "             'abeilsuvy': ['abusively'],\n",
       "             'abeeinsssuv': ['abusiveness'],\n",
       "             'abtu': ['abut', 'tabu', 'tuba'],\n",
       "             'Aabtu': ['Abuta'],\n",
       "             'Abilnotu': ['Abutilon'],\n",
       "             'abemnttu': ['abutment'],\n",
       "             'aablttu': ['abuttal'],\n",
       "             'aberttu': ['abutter'],\n",
       "             'abginttu': ['abutting'],\n",
       "             'abuzz': ['abuzz'],\n",
       "             'ablotv': ['abvolt'],\n",
       "             'aabbw': ['abwab'],\n",
       "             'aby': ['aby', 'bay'],\n",
       "             'abmsy': ['abysm'],\n",
       "             'aablmsy': ['abysmal', 'balsamy'],\n",
       "             'aabllmsyy': ['abysmally'],\n",
       "             'abssy': ['abyss'],\n",
       "             'aablssy': ['abyssal'],\n",
       "             'Aabiinnssy': ['Abyssinian'],\n",
       "             'abbcehinnoossty': ['abyssobenthonic'],\n",
       "             'abhilossty': ['abyssolith'],\n",
       "             'aabcegilopssy': ['abyssopelagic'],\n",
       "             'aaacccehint': ['acacatechin'],\n",
       "             'aaacccehlot': ['acacatechol'],\n",
       "             'aacceint': ['acacetin'],\n",
       "             'Aaacci': ['Acacia'],\n",
       "             'Aaaccin': ['Acacian'],\n",
       "             'aacciin': ['acaciin'],\n",
       "             'aaccin': ['acacin'],\n",
       "             'aacdeem': ['academe'],\n",
       "             'aaacdeilm': ['academial'],\n",
       "             'aaacdeimn': ['academian'],\n",
       "             'Aaccdeim': ['Academic'],\n",
       "             'aaccdeim': ['academic'],\n",
       "             'aaaccdeilm': ['academical'],\n",
       "             'aaaccdeillmy': ['academically'],\n",
       "             'aaaccdeilms': ['academicals'],\n",
       "             'aaaccdeiimn': ['academician'],\n",
       "             'aaccdeiimms': ['academicism'],\n",
       "             'aacdeimms': ['academism'],\n",
       "             'aacdeimst': ['academist'],\n",
       "             'aacdeeimt': ['academite', 'acetamide'],\n",
       "             'aaacdeiimnotz': ['academization'],\n",
       "             'aacdeeimz': ['academize'],\n",
       "             'Aacdemsu': ['Academus'],\n",
       "             'aacdemy': ['academy'],\n",
       "             'Aaacdi': ['Acadia'],\n",
       "             'aaacdeiilt': ['acadialite'],\n",
       "             'Aaacdin': ['Acadian'],\n",
       "             'Aacdei': ['Acadie', 'Adicea'],\n",
       "             'Aaacen': ['Acaena'],\n",
       "             'aacjou': ['acajou'],\n",
       "             'aacehlp': ['acaleph', 'acephal'],\n",
       "             'Aaacehlp': ['Acalepha', 'Acephala'],\n",
       "             'Aaaceehlp': ['Acalephae', 'Apalachee'],\n",
       "             'aaacehlnp': ['acalephan', 'acephalan'],\n",
       "             'aacdehilop': ['acalephoid'],\n",
       "             'aaacclly': ['acalycal'],\n",
       "             'aacceilny': ['acalycine'],\n",
       "             'aaccilnosuy': ['acalycinous'],\n",
       "             'aaaccelltuy': ['acalyculate'],\n",
       "             'Aaachlpy': ['Acalypha'],\n",
       "             'Aaaceelprty': ['Acalypterae'],\n",
       "             'Aaaaclprtty': ['Acalyptrata'],\n",
       "             'Aaaacelprtty': ['Acalyptratae'],\n",
       "             'aaacelprtty': ['acalyptrate'],\n",
       "             'Aaacmr': ['Acamar'],\n",
       "             'aaacimps': ['acampsia'],\n",
       "             'aaacn': ['acana'],\n",
       "             'aaaccenosu': ['acanaceous'],\n",
       "             'aaaccilnno': ['acanonical'],\n",
       "             'aachnt': ['acanth', 'tanach'],\n",
       "             'aaachnt': ['acantha'],\n",
       "             'Aaaacceehnt': ['Acanthaceae'],\n",
       "             'aaaccehnostu': ['acanthaceous'],\n",
       "             'aaacdhnt': ['acanthad'],\n",
       "             'Aaaachinrt': ['Acantharia'],\n",
       "             'Aaachint': ['Acanthia', 'Achatina'],\n",
       "             'aaachilnt': ['acanthial', 'calathian'],\n",
       "             'aachinnt': ['acanthin', 'chinanta'],\n",
       "             'aacehinnt': ['acanthine'],\n",
       "             'aachinnot': ['acanthion'],\n",
       "             'aacehintt': ['acanthite'],\n",
       "             'aaacchnooprstu': ['acanthocarpous'],\n",
       "             'Aaaaccehhlnopt': ['Acanthocephala'],\n",
       "             'aaaaccehhlnnopt': ['acanthocephalan'],\n",
       "             'Aaaccehhilnopt': ['Acanthocephali'],\n",
       "             'aaaccehhlnoopstu': ['acanthocephalous'],\n",
       "             'Aacceehnorstu': ['Acanthocereus'],\n",
       "             'aaaccdhlnoostu': ['acanthocladous'],\n",
       "             'Aaacdehnot': ['Acanthodea'],\n",
       "             'aaacdehnnot': ['acanthodean'],\n",
       "             'Aacdehinot': ['Acanthodei'],\n",
       "             'Aacdehnost': ['Acanthodes'],\n",
       "             'aaacdhinnot': ['acanthodian'],\n",
       "             'Aaacddehinot': ['Acanthodidae'],\n",
       "             'Aacdhiinot': ['Acanthodii'],\n",
       "             'Aacdhiinnot': ['Acanthodini'],\n",
       "             'aacdhinot': ['acanthoid'],\n",
       "             'Aachilmnnoot': ['Acantholimon'],\n",
       "             'aaaccghillnoot': ['acanthological'],\n",
       "             'aacghlnooty': ['acanthology'],\n",
       "             'aachilnossty': ['acantholysis'],\n",
       "             'aaachmnot': ['acanthoma'],\n",
       "             'Aaacdeehimnort': ['Acanthomeridae'],\n",
       "             'aachnnot': ['acanthon'],\n",
       "             'Aaaachnnoptx': ['Acanthopanax'],\n",
       "             'Aachhinopst': ['Acanthophis'],\n",
       "             'aachhnoooprstu': ['acanthophorous'],\n",
       "             'aacdhnoopt': ['acanthopod'],\n",
       "             'aacdhnooopstu': ['acanthopodous'],\n",
       "             'aaachmnooopsttu': ['acanthopomatous'],\n",
       "             'aacehnooprt': ['acanthopore'],\n",
       "             'aaacehnnoprtt': ['acanthopteran'],\n",
       "             'Aacehinoprtt': ['Acanthopteri'],\n",
       "             'aacehnooprsttu': ['acanthopterous'],\n",
       "             'aaaceghinnoprtty': ['acanthopterygian'],\n",
       "             'Aaceghiinoprtty': ['Acanthopterygii'],\n",
       "             'aachinosst': ['acanthosis'],\n",
       "             'aachnostu': ['acanthous'],\n",
       "             'Aaacdehinrtu': ['Acanthuridae'],\n",
       "             'Aachnrstuu': ['Acanthurus'],\n",
       "             'aachnstu': ['acanthus'],\n",
       "             'aaacinp': ['acapnia'],\n",
       "             'aaacilnp': ['acapnial'],\n",
       "             'aaaclprsu': ['acapsular'],\n",
       "             'aacpu': ['acapu'],\n",
       "             'aacclopu': ['acapulco'],\n",
       "             'aaacr': ['acara', 'araca'],\n",
       "             'Aaaciprs': ['Acarapis'],\n",
       "             'aaacdir': ['acardia'],\n",
       "             'aaaccdir': ['acardiac'],\n",
       "             'aacir': ['acari'],\n",
       "             'aaacinr': ['acarian'],\n",
       "             'aaaciirss': ['acariasis'],\n",
       "             'aaaccdiilr': ['acaricidal'],\n",
       "             'aaccdeiir': ['acaricide'],\n",
       "             'aacdir': ['acarid', 'cardia'],\n",
       "             'Aaacdir': ['Acarida', 'Arcadia'],\n",
       "             'Aaacdeir': ['Acaridea'],\n",
       "             'aaacdeinr': ['acaridean'],\n",
       "             'aaacdiimmortu': ['acaridomatium'],\n",
       "             'aacfimorr': ['acariform'],\n",
       "             'Aaacinr': ['Acarina', 'Acrania'],\n",
       "             'aaceinr': ['acarine', 'acraein', 'arecain'],\n",
       "             'aaciinorss': ['acarinosis'],\n",
       "             'aacccdeiimoru': ['acarocecidium'],\n",
       "             'aaacdeiimorrstt': ['acarodermatitis'],\n",
       "             'aacdior': ['acaroid'],\n",
       "             'aaclor': ['acarol'],\n",
       "             'aacgiloorst': ['acarologist'],\n",
       "             'aacgloory': ['acarology'],\n",
       "             'aachilooprsu': ['acarophilous'],\n",
       "             'aaabchioopr': ['acarophobia'],\n",
       "             'aaccioortx': ['acarotoxic'],\n",
       "             'aaceloprsu': ['acarpelous'],\n",
       "             'aacoprsu': ['acarpous'],\n",
       "             'Aacrsu': ['Acarus'],\n",
       "             'Aacsstu': ['Acastus', 'Astacus'],\n",
       "             'aaaccceiltt': ['acatalectic'],\n",
       "             'aaaaceilpst': ['acatalepsia'],\n",
       "             'aaacelpsty': ['acatalepsy'],\n",
       "             'aaacceilptt': ['acataleptic'],\n",
       "             'aaaacccilltt': ['acatallactic'],\n",
       "             'aaaaacehimstt': ['acatamathesia'],\n",
       "             'aaaaachipst': ['acataphasia'],\n",
       "             'aaaciopsst': ['acataposis'],\n",
       "             'aaaaacisstt': ['acatastasia'],\n",
       "             'aaaaccisttt': ['acatastatic'],\n",
       "             'aacet': ['acate'],\n",
       "             'aaaccegilort': ['acategorical'],\n",
       "             'aacerty': ['acatery'],\n",
       "             'aaaachirst': ['acatharsia'],\n",
       "             'aaachrsty': ['acatharsy'],\n",
       "             'aacchilot': ['acatholic', 'chaotical'],\n",
       "             'aaacdlu': ['acaudal'],\n",
       "             'aaacdetu': ['acaudate'],\n",
       "             'aacceelnstu': ['acaulescent'],\n",
       "             'aaceilnu': ['acauline'],\n",
       "             'aacelosu': ['acaulose'],\n",
       "             'aaclosuu': ['acaulous'],\n",
       "             'aacc': ['acca'],\n",
       "             'accdee': ['accede'],\n",
       "             'acccdeeen': ['accedence'],\n",
       "             'accdeer': ['acceder'],\n",
       "             'aabcceeellr': ['accelerable'],\n",
       "             'aaccdeelnor': ['accelerando'],\n",
       "             'aacceelnrt': ['accelerant'],\n",
       "             'aacceeelrt': ['accelerate'],\n",
       "             'aaccdeeelrt': ['accelerated'],\n",
       "             'aaccdeeellrty': ['acceleratedly'],\n",
       "             'aacceeilnort': ['acceleration'],\n",
       "             'aacceeeilrtv': ['accelerative'],\n",
       "             'aacceelorrt': ['accelerator', 'retrocaecal'],\n",
       "             'aacceelorrty': ['acceleratory'],\n",
       "             'aacceeghloprr': ['accelerograph'],\n",
       "             'acceeeelmorrt': ['accelerometer'],\n",
       "             'accden': ['accend'],\n",
       "             'abccdeiiilnty': ['accendibility'],\n",
       "             'abccdeeiln': ['accendible'],\n",
       "             'acceinnos': ['accension'],\n",
       "             'accenors': ['accensor'],\n",
       "             'accent': ['accent'],\n",
       "             'acceelnsst': ['accentless'],\n",
       "             'accenort': ['accentor'],\n",
       "             'aabcceelntu': ['accentuable'],\n",
       "             'aaccelntu': ['accentual'],\n",
       "             'aacceilnttuy': ['accentuality'],\n",
       "             'aaccellntuy': ['accentually'],\n",
       "             'aacceenttu': ['accentuate'],\n",
       "             'aacceinnottu': ['accentuation'],\n",
       "             'aaccenorttu': ['accentuator'],\n",
       "             'accenstu': ['accentus'],\n",
       "             'accept': ['accept'],\n",
       "             'aabcceiilptty': ['acceptability'],\n",
       "             'aabcceelpt': ['acceptable'],\n",
       "             'aabcceeelnpsst': ['acceptableness'],\n",
       "             'aabccelpty': ['acceptably'],\n",
       "             'aaccceenpt': ['acceptance'],\n",
       "             'aacccenpty': ['acceptancy'],\n",
       "             'aaccenptt': ['acceptant'],\n",
       "             'aacceinoptt': ['acceptation'],\n",
       "             'accdeept': ['accepted'],\n",
       "             'accdeelpty': ['acceptedly'],\n",
       "             'acceeprt': ['accepter'],\n",
       "             'aacceeilptt': ['acceptilate'],\n",
       "             'aacceiilnoptt': ['acceptilation'],\n",
       "             'acceinopt': ['acception', 'peccation'],\n",
       "             'acceeiptv': ['acceptive'],\n",
       "             'acceoprt': ['acceptor'],\n",
       "             'acceeprsst': ['acceptress'],\n",
       "             'acceers': ['accerse'],\n",
       "             'acceiinorst': ['accersition'],\n",
       "             'acceiorrst': ['accersitor'],\n",
       "             'access': ['access'],\n",
       "             'aacceilrssy': ['accessarily'],\n",
       "             'aacceeinrssss': ['accessariness'],\n",
       "             'aaccerssy': ['accessary'],\n",
       "             'aaccehiprsssy': ['accessaryship'],\n",
       "             'abcceiiilssty': ['accessibility'],\n",
       "             'abcceeilss': ['accessible'],\n",
       "             'abcceilssy': ['accessibly'],\n",
       "             'acceinoss': ['accession'],\n",
       "             'aacceilnoss': ['accessional'],\n",
       "             'acceeinorss': ['accessioner', 'reaccession'],\n",
       "             'acceeissv': ['accessive'],\n",
       "             'acceeilssvy': ['accessively'],\n",
       "             'acceelssss': ['accessless'],\n",
       "             'aacceilorss': ['accessorial'],\n",
       "             'acceilorssy': ['accessorily'],\n",
       "             'acceeinorssss': ['accessoriness'],\n",
       "             'acceiorsssu': ['accessorius'],\n",
       "             'acceorssy': ['accessory'],\n",
       "             'acccdeein': ['accidence'],\n",
       "             'acccdeiny': ['accidency'],\n",
       "             'accdeint': ['accident'],\n",
       "             'aaccdeilnt': ['accidental'],\n",
       "             'aaccdeiilmnst': ['accidentalism'],\n",
       "             'aaccdeiilnstt': ['accidentalist'],\n",
       "             'aaccdeiilntty': ['accidentality'],\n",
       "             'aaccdeillnty': ['accidentally'],\n",
       "             'aaccdeeilnnsst': ['accidentalness'],\n",
       "             'accddeeint': ['accidented'],\n",
       "             'aaccdeiilnt': ['accidential'],\n",
       "             'aaccdeiiilntty': ['accidentiality'],\n",
       "             'accdeilnty': ['accidently'],\n",
       "             'aaccdii': ['accidia'],\n",
       "             'accdeii': ['accidie'],\n",
       "             'accegin': ['accinge'],\n",
       "             'acceiinpt': ['accipient'],\n",
       "             'Acceiiprt': ['Accipiter'],\n",
       "             'aacciilprt': ['accipitral'],\n",
       "             'aacciiprrty': ['accipitrary'],\n",
       "             'Acceiiprst': ['Accipitres'],\n",
       "             'acceiiinprt': ['accipitrine'],\n",
       "             'accimssu': ['accismus'],\n",
       "             'acceit': ['accite', 'acetic'],\n",
       "             'aaccilm': ['acclaim'],\n",
       "             'aaabcceillm': ['acclaimable'],\n",
       "             'aacceilmr': ['acclaimer'],\n",
       "             'aaaccilmnot': ['acclamation'],\n",
       "             'aaacclmort': ['acclamator'],\n",
       "             'aaacclmorty': ['acclamatory'],\n",
       "             'aaabcceillmt': ['acclimatable'],\n",
       "             'aaacciilmnott': ['acclimatation'],\n",
       "             'aacceilmt': ['acclimate'],\n",
       "             'aacceeilmmntt': ['acclimatement'],\n",
       "             'aacciilmnot': ['acclimation'],\n",
       "             'aaabcceiillmtz': ['acclimatizable'],\n",
       "             'aaacciiilmnottz': ['acclimatization'],\n",
       "             'aacceiilmtz': ['acclimatize'],\n",
       "             'aacceiilmrtz': ['acclimatizer'],\n",
       "             'aacceilmrtu': ['acclimature'],\n",
       "             'aaccilln': ['acclinal'],\n",
       "             'aacceilnt': ['acclinate', 'analectic'],\n",
       "             'acciilostuv': ['acclivitous'],\n",
       "             'acciiltvy': ['acclivity'],\n",
       "             'accilosuv': ['acclivous'],\n",
       "             'accloy': ['accloy'],\n",
       "             'aaccost': ['accoast'],\n",
       "             'accilo': ['accoil', 'calico'],\n",
       "             'aaccdelo': ['accolade'],\n",
       "             'aaccddelo': ['accoladed'],\n",
       "             'aaccdelot': ['accolated'],\n",
       "             'accelnot': ['accolent'],\n",
       "             'accello': ['accolle'],\n",
       "             'aabcciimnnoot': ['accombination'],\n",
       "             'aabccdelmmoo': ['accommodable'],\n",
       "             'aabccdeelmmnooss': ['accommodableness'],\n",
       "             'aaccdemmoot': ['accommodate'],\n",
       "             'aaccdelmmooty': ['accommodately'],\n",
       "             'aaccdeemmnoosst': ['accommodateness'],\n",
       "             'aaccdgimmnoot': ['accommodating'],\n",
       "             'aaccdgilmmnooty': ['accommodatingly'],\n",
       "             'aaccdimmnooot': ['accommodation'],\n",
       "             'aaaccdilmmnooot': ['accommodational'],\n",
       "             'aaccdeimmootv': ['accommodative'],\n",
       "             'aaccdeeimmnoosstv': ['accommodativeness'],\n",
       "             'aaccdmmooort': ['accommodator'],\n",
       "             'aacceimnopr': ['accompanier'],\n",
       "             'aacceimmnnopt': ['accompaniment'],\n",
       "             'aaacceilmmnnopt': ['accompanimental'],\n",
       "             'aaccimnopst': ['accompanist'],\n",
       "             'aaccmnopy': ['accompany'],\n",
       "             'aaccimnopsty': ['accompanyist'],\n",
       "             'acceeilmoptv': ['accompletive'],\n",
       "             'accceilmop': ['accomplice'],\n",
       "             'acccehiilmopps': ['accompliceship'],\n",
       "             'accciilmopty': ['accomplicity'],\n",
       "             'acchilmops': ['accomplish'],\n",
       "             'aabccehillmops': ['accomplishable'],\n",
       "             'accdehilmops': ['accomplished'],\n",
       "             'accehilmoprs': ['accomplisher', 'reaccomplish'],\n",
       "             'accehilmmnopst': ['accomplishment'],\n",
       "             'acchilmopst': ['accomplisht'],\n",
       "             'accmopt': ['accompt', 'compact'],\n",
       "             'accdor': ['accord'],\n",
       "             'aabccdelor': ['accordable'],\n",
       "             'aacccdenor': ['accordance'],\n",
       "             'aacccdnory': ['accordancy'],\n",
       "             'aaccdnort': ['accordant'],\n",
       "             'aaccdlnorty': ['accordantly'],\n",
       "             'accdeorr': ['accorder', 'reaccord'],\n",
       "             'accdginor': ['according'],\n",
       "             'accdgilnory': ['accordingly'],\n",
       "             'accdinoor': ['accordion'],\n",
       "             'accdiinoorst': ['accordionist'],\n",
       "             'aacceooprrt': ['accorporate'],\n",
       "             ...})"
      ]
     },
     "execution_count": 57,
     "metadata": {},
     "output_type": "execute_result"
    }
   ],
   "source": [
    "anagrams"
   ]
  },
  {
   "cell_type": "code",
   "execution_count": 58,
   "metadata": {},
   "outputs": [],
   "source": [
    "anagrams2 = nltk.Index((''.join(sorted(w)),w) for w in c_words)"
   ]
  },
  {
   "cell_type": "code",
   "execution_count": 60,
   "metadata": {},
   "outputs": [
    {
     "data": {
      "text/plain": [
       "['cad']"
      ]
     },
     "execution_count": 60,
     "metadata": {},
     "output_type": "execute_result"
    }
   ],
   "source": [
    "anagrams2['acd']"
   ]
  },
  {
   "cell_type": "code",
   "execution_count": 61,
   "metadata": {},
   "outputs": [],
   "source": [
    "pos_hard = defaultdict(lambda: defaultdict(int))"
   ]
  },
  {
   "cell_type": "code",
   "execution_count": 62,
   "metadata": {},
   "outputs": [],
   "source": [
    "brown_news_tagged = brown.tagged_words(categories='news', tagset='universal')"
   ]
  },
  {
   "cell_type": "code",
   "execution_count": 64,
   "metadata": {},
   "outputs": [],
   "source": [
    "for ((w1, t1), (w2, t2)) in nltk.bigrams(brown_news_tagged):\n",
    "    pos_hard[(t1, w2)][t2] += 1"
   ]
  },
  {
   "cell_type": "code",
   "execution_count": 65,
   "metadata": {},
   "outputs": [
    {
     "data": {
      "text/plain": [
       "defaultdict(int, {'NOUN': 5, 'ADJ': 11})"
      ]
     },
     "execution_count": 65,
     "metadata": {},
     "output_type": "execute_result"
    }
   ],
   "source": [
    "pos_hard[('DET', 'right')]"
   ]
  },
  {
   "cell_type": "markdown",
   "metadata": {},
   "source": [
    "### Inverting a Dictionary"
   ]
  },
  {
   "cell_type": "code",
   "execution_count": 66,
   "metadata": {},
   "outputs": [],
   "source": [
    "pos.update({'cats': 'N', 'scratch': 'V', 'peacefully': 'ADV', 'old': 'ADJ'})"
   ]
  },
  {
   "cell_type": "code",
   "execution_count": 67,
   "metadata": {},
   "outputs": [
    {
     "data": {
      "text/plain": [
       "{'colorless': 'ADJ',\n",
       " 'sleep': 'V',\n",
       " 'cats': 'N',\n",
       " 'scratch': 'V',\n",
       " 'peacefully': 'ADV',\n",
       " 'old': 'ADJ'}"
      ]
     },
     "execution_count": 67,
     "metadata": {},
     "output_type": "execute_result"
    }
   ],
   "source": [
    "pos"
   ]
  },
  {
   "cell_type": "code",
   "execution_count": 68,
   "metadata": {},
   "outputs": [],
   "source": [
    "inv_dict = defaultdict(list)"
   ]
  },
  {
   "cell_type": "code",
   "execution_count": 70,
   "metadata": {},
   "outputs": [],
   "source": [
    "for k, v in pos.items():\n",
    "    inv_dict[v].append(k)"
   ]
  },
  {
   "cell_type": "code",
   "execution_count": 71,
   "metadata": {},
   "outputs": [
    {
     "data": {
      "text/plain": [
       "defaultdict(list,\n",
       "            {'ADJ': ['colorless', 'old'],\n",
       "             'V': ['sleep', 'scratch'],\n",
       "             'N': ['cats'],\n",
       "             'ADV': ['peacefully']})"
      ]
     },
     "execution_count": 71,
     "metadata": {},
     "output_type": "execute_result"
    }
   ],
   "source": [
    "inv_dict"
   ]
  },
  {
   "cell_type": "markdown",
   "metadata": {},
   "source": [
    "## Automatic Tagging"
   ]
  },
  {
   "cell_type": "code",
   "execution_count": null,
   "metadata": {},
   "outputs": [],
   "source": []
  }
 ],
 "metadata": {
  "kernelspec": {
   "display_name": "Python 3",
   "language": "python",
   "name": "python3"
  },
  "language_info": {
   "codemirror_mode": {
    "name": "ipython",
    "version": 3
   },
   "file_extension": ".py",
   "mimetype": "text/x-python",
   "name": "python",
   "nbconvert_exporter": "python",
   "pygments_lexer": "ipython3",
   "version": "3.7.1"
  }
 },
 "nbformat": 4,
 "nbformat_minor": 4
}

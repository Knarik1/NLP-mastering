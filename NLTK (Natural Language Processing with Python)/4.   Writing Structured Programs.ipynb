{
 "cells": [
  {
   "cell_type": "code",
   "execution_count": 1,
   "metadata": {},
   "outputs": [],
   "source": [
    "import nltk"
   ]
  },
  {
   "cell_type": "markdown",
   "metadata": {},
   "source": [
    "### Contents\n",
    "<pre>\n",
    "1. Back to the Basics\n",
    "    Assignment\n",
    "    Equality\n",
    "    Conditionals\n",
    "2. Sequences\n",
    "    Operating on Sequence Types\n",
    "    Combining Different Sequence Types\n",
    "    Generator Expressions\n",
    "3. Questions of Style    \n",
    "    Python Coding Style\n",
    "    Procedural vs Declarative Style\n",
    "    Some Legitimate Uses for Counters\n",
    "4. Functions: The Foundation of Structured Programming\n",
    "    Function Inputs and Outputs\n",
    "    Parameter Passing\n",
    "    Variable Scope\n",
    "    Checking Parameter Types\n",
    "    Functional Decomposition\n",
    "    Documenting Functions\n",
    "5. Doing More with Function\n",
    "    Functions as Arguments\n",
    "    Accumulative Functions\n",
    "    Higher-Order Functions\n",
    "    Named Arguments\n",
    "6. Program Development\n",
    "    Structure of a Python Module\n",
    "    Multi-Module Programs\n",
    "    Sources of Error\n",
    "    Debugging Techniques\n",
    "    Defensive Programming\n",
    "7. Algorithm Design\n",
    "    Recursion\n",
    "    Space-Time Tradeoffs\n",
    "    Dynamic Programming\n",
    "8. A Sample of Python Libraries\n",
    "    Matplotlib\n",
    "    NetworkX\n",
    "    csv\n",
    "    NumPy\n",
    "    Other Python Libraries\n",
    "9. Summary    \n",
    "</pre>"
   ]
  },
  {
   "cell_type": "markdown",
   "metadata": {},
   "source": [
    "## 4.1   Back to the Basics"
   ]
  },
  {
   "cell_type": "markdown",
   "metadata": {},
   "source": [
    "### Assignment"
   ]
  },
  {
   "cell_type": "markdown",
   "metadata": {},
   "source": [
    "<img src='http://www.nltk.org/images/array-memory.png'>"
   ]
  },
  {
   "cell_type": "code",
   "execution_count": 17,
   "metadata": {},
   "outputs": [],
   "source": [
    "empty = []\n",
    "empty_list = [empty, empty, empty]"
   ]
  },
  {
   "cell_type": "code",
   "execution_count": 18,
   "metadata": {},
   "outputs": [],
   "source": [
    "empty_list[1].append('bro')"
   ]
  },
  {
   "cell_type": "code",
   "execution_count": 19,
   "metadata": {},
   "outputs": [
    {
     "data": {
      "text/plain": [
       "[['bro'], ['bro'], ['bro']]"
      ]
     },
     "execution_count": 19,
     "metadata": {},
     "output_type": "execute_result"
    }
   ],
   "source": [
    "empty_list"
   ]
  },
  {
   "cell_type": "code",
   "execution_count": 20,
   "metadata": {},
   "outputs": [],
   "source": [
    "new_list = empty_list[:]"
   ]
  },
  {
   "cell_type": "code",
   "execution_count": 21,
   "metadata": {},
   "outputs": [],
   "source": [
    "new_list[0].append('hi')"
   ]
  },
  {
   "cell_type": "code",
   "execution_count": 22,
   "metadata": {},
   "outputs": [
    {
     "data": {
      "text/plain": [
       "[['bro', 'hi'], ['bro', 'hi'], ['bro', 'hi']]"
      ]
     },
     "execution_count": 22,
     "metadata": {},
     "output_type": "execute_result"
    }
   ],
   "source": [
    "empty_list"
   ]
  },
  {
   "cell_type": "markdown",
   "metadata": {},
   "source": [
    "### Equality"
   ]
  },
  {
   "cell_type": "markdown",
   "metadata": {},
   "source": [
    "there are two ways to check that a pair of items are the same.\n",
    "1. <b>is</b> tests for object identity\n",
    "2. <b>==</b> tests for object value"
   ]
  },
  {
   "cell_type": "code",
   "execution_count": 31,
   "metadata": {},
   "outputs": [
    {
     "data": {
      "text/plain": [
       "[['python'], ['python'], ['python'], ['python'], ['python']]"
      ]
     },
     "execution_count": 31,
     "metadata": {},
     "output_type": "execute_result"
    }
   ],
   "source": [
    "obj = ['python']\n",
    "obj_list = [obj] * 5\n",
    "obj_list"
   ]
  },
  {
   "cell_type": "code",
   "execution_count": 32,
   "metadata": {
    "scrolled": true
   },
   "outputs": [
    {
     "data": {
      "text/plain": [
       "[2807615148, 2807615148, 2807615148, 2807615148, 2807615148]"
      ]
     },
     "execution_count": 32,
     "metadata": {},
     "output_type": "execute_result"
    }
   ],
   "source": [
    "[id(o) for o in obj_list]"
   ]
  },
  {
   "cell_type": "code",
   "execution_count": 33,
   "metadata": {},
   "outputs": [
    {
     "data": {
      "text/plain": [
       "[['python'], ['python'], ['python'], ['python'], ['python']]"
      ]
     },
     "execution_count": 33,
     "metadata": {},
     "output_type": "execute_result"
    }
   ],
   "source": [
    "obj_list[1] = ['python']\n",
    "obj_list"
   ]
  },
  {
   "cell_type": "code",
   "execution_count": 34,
   "metadata": {},
   "outputs": [
    {
     "data": {
      "text/plain": [
       "[2807615148, 2807978092, 2807615148, 2807615148, 2807615148]"
      ]
     },
     "execution_count": 34,
     "metadata": {},
     "output_type": "execute_result"
    }
   ],
   "source": [
    "[id(o) for o in obj_list]"
   ]
  },
  {
   "cell_type": "code",
   "execution_count": 35,
   "metadata": {},
   "outputs": [
    {
     "data": {
      "text/plain": [
       "True"
      ]
     },
     "execution_count": 35,
     "metadata": {},
     "output_type": "execute_result"
    }
   ],
   "source": [
    "obj_list[0]==obj_list[1]"
   ]
  },
  {
   "cell_type": "code",
   "execution_count": 36,
   "metadata": {},
   "outputs": [
    {
     "data": {
      "text/plain": [
       "False"
      ]
     },
     "execution_count": 36,
     "metadata": {},
     "output_type": "execute_result"
    }
   ],
   "source": [
    "obj_list[0] is obj_list[1]"
   ]
  },
  {
   "cell_type": "markdown",
   "metadata": {},
   "source": [
    "### Conditionals"
   ]
  },
  {
   "cell_type": "markdown",
   "metadata": {},
   "source": [
    "#### Truthy statements"
   ]
  },
  {
   "cell_type": "code",
   "execution_count": 37,
   "metadata": {},
   "outputs": [],
   "source": [
    "mixed = ['cat', '', ['dog'], []]"
   ]
  },
  {
   "cell_type": "code",
   "execution_count": 41,
   "metadata": {},
   "outputs": [
    {
     "data": {
      "text/plain": [
       "[True, False, True, False]"
      ]
     },
     "execution_count": 41,
     "metadata": {},
     "output_type": "execute_result"
    }
   ],
   "source": [
    "[bool(t)==True for t in mixed]"
   ]
  },
  {
   "cell_type": "code",
   "execution_count": 42,
   "metadata": {},
   "outputs": [
    {
     "name": "stdout",
     "output_type": "stream",
     "text": [
      "cat is truthy\n",
      "['dog'] is truthy\n"
     ]
    }
   ],
   "source": [
    "for el in mixed:\n",
    "    if el:\n",
    "        print(el, 'is truthy')"
   ]
  },
  {
   "cell_type": "markdown",
   "metadata": {},
   "source": [
    "#### if...if vs elif"
   ]
  },
  {
   "cell_type": "code",
   "execution_count": 44,
   "metadata": {},
   "outputs": [
    {
     "name": "stdout",
     "output_type": "stream",
     "text": [
      "cat\n"
     ]
    }
   ],
   "source": [
    "animals = ['cat', 'dog']\n",
    "if 'cat' in animals:\n",
    "    print('cat')\n",
    "elif 'dog' in animals:\n",
    "    print('dog')"
   ]
  },
  {
   "cell_type": "code",
   "execution_count": 45,
   "metadata": {},
   "outputs": [
    {
     "name": "stdout",
     "output_type": "stream",
     "text": [
      "cat\n",
      "dog\n"
     ]
    }
   ],
   "source": [
    "if 'cat' in animals:\n",
    "    print('cat')\n",
    "if 'dog' in animals:\n",
    "    print('dog')"
   ]
  },
  {
   "cell_type": "markdown",
   "metadata": {},
   "source": [
    "#### all(), any()"
   ]
  },
  {
   "cell_type": "code",
   "execution_count": 48,
   "metadata": {},
   "outputs": [
    {
     "name": "stdout",
     "output_type": "stream",
     "text": [
      "False\n",
      "True\n"
     ]
    }
   ],
   "source": [
    "sent = ['No', 'good', 'fish', 'goes', 'anywhere', 'without', 'a', 'porpoise', '.']\n",
    "print(all(len(s)>4 for s in sent))\n",
    "print(any(len(s)>4 for s in sent))"
   ]
  },
  {
   "cell_type": "markdown",
   "metadata": {},
   "source": [
    "## Sequences"
   ]
  },
  {
   "cell_type": "markdown",
   "metadata": {},
   "source": [
    "sequence types\n",
    "1. string\n",
    "2. list  ->  same type, arbitrary length, mutable\n",
    "3. tuple ->  diff type, fixed length, unmutable"
   ]
  },
  {
   "cell_type": "code",
   "execution_count": 54,
   "metadata": {},
   "outputs": [
    {
     "data": {
      "text/plain": [
       "('I', 'turned')"
      ]
     },
     "execution_count": 54,
     "metadata": {},
     "output_type": "execute_result"
    }
   ],
   "source": [
    "#tuples\n",
    "text = ['I', 'turned']\n",
    "a, b = text\n",
    "a, b"
   ]
  },
  {
   "cell_type": "markdown",
   "metadata": {},
   "source": [
    "Various ways to iterate over sequences\n",
    "<pre>\n",
    "for item in s\t                   iterate over the items of s\n",
    "for item in sorted(s)\t            iterate over the items of s in order\n",
    "for item in set(s)\t                iterate over unique elements of s\n",
    "for item in reversed(s)\t            iterate over elements of s in reverse\n",
    "for item in set(s).difference(t)\titerate over elements of s not in t\n",
    "for item1,item2 in zip(arr1,arr2)   takes 2 or more seqs and \"zips\" them into a single list of tuples\n",
    "</pre>"
   ]
  },
  {
   "cell_type": "code",
   "execution_count": 76,
   "metadata": {},
   "outputs": [
    {
     "data": {
      "text/plain": [
       "[' ', ' ', ' ', ' ', ' ', ' ', ' ', ',', ',', ',', '.', 'R']"
      ]
     },
     "execution_count": 76,
     "metadata": {},
     "output_type": "execute_result"
    }
   ],
   "source": [
    "raw = 'Red lorry, yellow lorry, red lorry, yellow lorry.'\n",
    "sorted(raw)[:12]"
   ]
  },
  {
   "cell_type": "code",
   "execution_count": 66,
   "metadata": {},
   "outputs": [
    {
     "data": {
      "text/plain": [
       "[' ', ',', '.', 'R', 'd', 'e', 'l', 'o', 'r', 'w', 'y']"
      ]
     },
     "execution_count": 66,
     "metadata": {},
     "output_type": "execute_result"
    }
   ],
   "source": [
    "sorted(set(raw))[:15]"
   ]
  },
  {
   "cell_type": "code",
   "execution_count": 71,
   "metadata": {},
   "outputs": [
    {
     "data": {
      "text/plain": [
       "FreqDist({'lorry': 4, ',': 3, 'yellow': 2, 'Red': 1, 'red': 1, '.': 1})"
      ]
     },
     "execution_count": 71,
     "metadata": {},
     "output_type": "execute_result"
    }
   ],
   "source": [
    "tokens = nltk.word_tokenize(raw)\n",
    "fdist = nltk.FreqDist(tokens)\n",
    "fdist"
   ]
  },
  {
   "cell_type": "code",
   "execution_count": 74,
   "metadata": {},
   "outputs": [
    {
     "data": {
      "text/plain": [
       "[',', '.', 'Red', 'lorry', 'red', 'yellow']"
      ]
     },
     "execution_count": 74,
     "metadata": {},
     "output_type": "execute_result"
    }
   ],
   "source": [
    "sorted(item for item in fdist)"
   ]
  },
  {
   "cell_type": "markdown",
   "metadata": {},
   "source": [
    "#### switch"
   ]
  },
  {
   "cell_type": "code",
   "execution_count": 75,
   "metadata": {},
   "outputs": [
    {
     "data": {
      "text/plain": [
       "['I', 'turned', 'the', 'spectroroute', 'off']"
      ]
     },
     "execution_count": 75,
     "metadata": {},
     "output_type": "execute_result"
    }
   ],
   "source": [
    "words = ['I', 'turned', 'off', 'the', 'spectroroute']\n",
    "words[2], words[3], words[4] = words[3], words[4], words[2]\n",
    "words"
   ]
  },
  {
   "cell_type": "markdown",
   "metadata": {},
   "source": [
    "#### zip()"
   ]
  },
  {
   "cell_type": "code",
   "execution_count": 78,
   "metadata": {
    "scrolled": true
   },
   "outputs": [
    {
     "data": {
      "text/plain": [
       "[('I', 'noun'),\n",
       " ('turned', 'verb'),\n",
       " ('off', 'prep'),\n",
       " ('the', 'det'),\n",
       " ('spectroroute', 'noun')]"
      ]
     },
     "execution_count": 78,
     "metadata": {},
     "output_type": "execute_result"
    }
   ],
   "source": [
    "words = ['I', 'turned', 'off', 'the', 'spectroroute']\n",
    "tags = ['noun', 'verb', 'prep', 'det', 'noun']\n",
    "[pair for pair in zip(words, tags)]"
   ]
  },
  {
   "cell_type": "code",
   "execution_count": 101,
   "metadata": {},
   "outputs": [
    {
     "data": {
      "text/plain": [
       "[('I', 'noun'),\n",
       " ('turned', 'verb'),\n",
       " ('off', 'prep'),\n",
       " ('the', 'det'),\n",
       " ('spectroroute', 'noun')]"
      ]
     },
     "execution_count": 101,
     "metadata": {},
     "output_type": "execute_result"
    }
   ],
   "source": [
    "[(p,a) for p,a in zip(words, tags)]"
   ]
  },
  {
   "cell_type": "code",
   "execution_count": 86,
   "metadata": {},
   "outputs": [
    {
     "data": {
      "text/plain": [
       "[('I', 'noun'),\n",
       " ('turned', 'verb'),\n",
       " ('off', 'prep'),\n",
       " ('the', 'det'),\n",
       " ('spectroroute', 'noun')]"
      ]
     },
     "execution_count": 86,
     "metadata": {},
     "output_type": "execute_result"
    }
   ],
   "source": [
    "# Attention NEW -> put in list() or [i for i in arr] to evaluate \n",
    "list(zip(words, tags))"
   ]
  },
  {
   "cell_type": "code",
   "execution_count": 84,
   "metadata": {},
   "outputs": [
    {
     "data": {
      "text/plain": [
       "[(0, 'I'), (1, 'turned'), (2, 'off'), (3, 'the'), (4, 'spectroroute')]"
      ]
     },
     "execution_count": 84,
     "metadata": {},
     "output_type": "execute_result"
    }
   ],
   "source": [
    "list(enumerate(words))"
   ]
  },
  {
   "cell_type": "markdown",
   "metadata": {},
   "source": [
    "#### spliting train/test 90%"
   ]
  },
  {
   "cell_type": "code",
   "execution_count": 95,
   "metadata": {},
   "outputs": [
    {
     "name": "stdout",
     "output_type": "stream",
     "text": [
      "equal length?  True\n",
      "proportion 9 : 1\n"
     ]
    }
   ],
   "source": [
    "text = nltk.corpus.nps_chat.words()\n",
    "amount = int(0.9*len(text))\n",
    "train, test = text[:amount], text[amount:]\n",
    "print('equal length? ', len(text) == len(train)+len(test))\n",
    "print('proportion {} : 1'.format(int(len(train)/len(test))))"
   ]
  },
  {
   "cell_type": "markdown",
   "metadata": {},
   "source": [
    "### Combining Different Sequence Types"
   ]
  },
  {
   "cell_type": "markdown",
   "metadata": {},
   "source": [
    "#### 'text'.split(), ' '.join([list])"
   ]
  },
  {
   "cell_type": "code",
   "execution_count": 102,
   "metadata": {},
   "outputs": [
    {
     "data": {
      "text/plain": [
       "[(1, 'I'), (6, 'turned'), (3, 'off'), (3, 'the'), (12, 'spectroroute')]"
      ]
     },
     "execution_count": 102,
     "metadata": {},
     "output_type": "execute_result"
    }
   ],
   "source": [
    "words = 'I turned off the spectroroute'.split()\n",
    "wordlens = [(len(word), word) for word in words] \n",
    "wordlens"
   ]
  },
  {
   "cell_type": "code",
   "execution_count": 103,
   "metadata": {},
   "outputs": [
    {
     "data": {
      "text/plain": [
       "[(1, 'I'), (3, 'off'), (3, 'the'), (6, 'turned'), (12, 'spectroroute')]"
      ]
     },
     "execution_count": 103,
     "metadata": {},
     "output_type": "execute_result"
    }
   ],
   "source": [
    "sorted(wordlens)"
   ]
  },
  {
   "cell_type": "code",
   "execution_count": 106,
   "metadata": {},
   "outputs": [
    {
     "data": {
      "text/plain": [
       "[(1, 'I'), (3, 'off'), (3, 'the'), (6, 'turned'), (12, 'spectroroute')]"
      ]
     },
     "execution_count": 106,
     "metadata": {},
     "output_type": "execute_result"
    }
   ],
   "source": [
    "wordlens.sort()\n",
    "wordlens"
   ]
  },
  {
   "cell_type": "code",
   "execution_count": 109,
   "metadata": {},
   "outputs": [
    {
     "data": {
      "text/plain": [
       "'I off the turned spectroroute'"
      ]
     },
     "execution_count": 109,
     "metadata": {},
     "output_type": "execute_result"
    }
   ],
   "source": [
    "' '.join(w for _,w in wordlens)"
   ]
  },
  {
   "cell_type": "code",
   "execution_count": 110,
   "metadata": {},
   "outputs": [],
   "source": [
    "lexicon = [\n",
    "     ('the', 'det', ['Di:', 'D@']),\n",
    "     ('off', 'prep', ['Qf', 'O:f'])\n",
    " ]"
   ]
  },
  {
   "cell_type": "code",
   "execution_count": 111,
   "metadata": {},
   "outputs": [
    {
     "data": {
      "text/plain": [
       "[('the', 'det', ['Di:', 'D@']), ('turned', 'VBD', ['t3:nd', 't3`nd'])]"
      ]
     },
     "execution_count": 111,
     "metadata": {},
     "output_type": "execute_result"
    }
   ],
   "source": [
    "lexicon[1] = ('turned', 'VBD', ['t3:nd', 't3`nd'])\n",
    "lexicon"
   ]
  },
  {
   "cell_type": "code",
   "execution_count": 112,
   "metadata": {},
   "outputs": [
    {
     "data": {
      "text/plain": [
       "[('turned', 'VBD', ['t3:nd', 't3`nd'])]"
      ]
     },
     "execution_count": 112,
     "metadata": {},
     "output_type": "execute_result"
    }
   ],
   "source": [
    "del lexicon[0]\n",
    "lexicon"
   ]
  },
  {
   "cell_type": "code",
   "execution_count": 113,
   "metadata": {},
   "outputs": [
    {
     "data": {
      "text/plain": [
       "'turned'"
      ]
     },
     "execution_count": 113,
     "metadata": {},
     "output_type": "execute_result"
    }
   ],
   "source": [
    "lexicon[0][0]"
   ]
  },
  {
   "cell_type": "code",
   "execution_count": 117,
   "metadata": {},
   "outputs": [
    {
     "ename": "TypeError",
     "evalue": "'tuple' object does not support item assignment",
     "output_type": "error",
     "traceback": [
      "\u001b[0;31m---------------------------------------------------------------------------\u001b[0m",
      "\u001b[0;31mTypeError\u001b[0m                                 Traceback (most recent call last)",
      "\u001b[0;32m<ipython-input-117-07dc0b7e2a50>\u001b[0m in \u001b[0;36m<module>\u001b[0;34m\u001b[0m\n\u001b[0;32m----> 1\u001b[0;31m \u001b[0mlexicon\u001b[0m\u001b[0;34m[\u001b[0m\u001b[0;36m0\u001b[0m\u001b[0;34m]\u001b[0m\u001b[0;34m[\u001b[0m\u001b[0;36m0\u001b[0m\u001b[0;34m]\u001b[0m \u001b[0;34m=\u001b[0m \u001b[0;34m'changed'\u001b[0m\u001b[0;34m\u001b[0m\u001b[0;34m\u001b[0m\u001b[0m\n\u001b[0m",
      "\u001b[0;31mTypeError\u001b[0m: 'tuple' object does not support item assignment"
     ]
    }
   ],
   "source": [
    "lexicon[0][0] = 'changed'"
   ]
  },
  {
   "cell_type": "code",
   "execution_count": 118,
   "metadata": {},
   "outputs": [
    {
     "data": {
      "text/plain": [
       "['now', 'im', 'left', 'with', 'this', 'gay', 'name', ...]"
      ]
     },
     "execution_count": 118,
     "metadata": {},
     "output_type": "execute_result"
    }
   ],
   "source": [
    "text"
   ]
  },
  {
   "cell_type": "code",
   "execution_count": 119,
   "metadata": {},
   "outputs": [
    {
     "data": {
      "text/plain": [
       "45010"
      ]
     },
     "execution_count": 119,
     "metadata": {},
     "output_type": "execute_result"
    }
   ],
   "source": [
    "len(text)"
   ]
  },
  {
   "cell_type": "code",
   "execution_count": 120,
   "metadata": {},
   "outputs": [
    {
     "data": {
      "text/plain": [
       "'~winkz~'"
      ]
     },
     "execution_count": 120,
     "metadata": {},
     "output_type": "execute_result"
    }
   ],
   "source": [
    "max(t.lower() for t in text)"
   ]
  },
  {
   "cell_type": "code",
   "execution_count": 123,
   "metadata": {},
   "outputs": [
    {
     "data": {
      "text/plain": [
       "<generator object <genexpr> at 0xa78b902c>"
      ]
     },
     "execution_count": 123,
     "metadata": {},
     "output_type": "execute_result"
    }
   ],
   "source": [
    "g = (i for i in words)\n",
    "g"
   ]
  },
  {
   "cell_type": "code",
   "execution_count": 122,
   "metadata": {},
   "outputs": [
    {
     "data": {
      "text/plain": [
       "['I', 'turned', 'off', 'the', 'spectroroute']"
      ]
     },
     "execution_count": 122,
     "metadata": {},
     "output_type": "execute_result"
    }
   ],
   "source": [
    "[i for i in words]"
   ]
  },
  {
   "cell_type": "code",
   "execution_count": 124,
   "metadata": {},
   "outputs": [
    {
     "data": {
      "text/plain": [
       "'I'"
      ]
     },
     "execution_count": 124,
     "metadata": {},
     "output_type": "execute_result"
    }
   ],
   "source": [
    "next(g)"
   ]
  },
  {
   "cell_type": "code",
   "execution_count": 125,
   "metadata": {},
   "outputs": [
    {
     "data": {
      "text/plain": [
       "'turned'"
      ]
     },
     "execution_count": 125,
     "metadata": {},
     "output_type": "execute_result"
    }
   ],
   "source": [
    "next(g)"
   ]
  },
  {
   "cell_type": "markdown",
   "metadata": {},
   "source": [
    "## Questions of Style"
   ]
  },
  {
   "cell_type": "markdown",
   "metadata": {},
   "source": [
    "### Procedural vs Declarative Style"
   ]
  },
  {
   "cell_type": "code",
   "execution_count": 126,
   "metadata": {},
   "outputs": [],
   "source": [
    "brouwn_tokens = nltk.corpus.brown.words(categories='news')"
   ]
  },
  {
   "cell_type": "code",
   "execution_count": 143,
   "metadata": {},
   "outputs": [
    {
     "data": {
      "text/plain": [
       "4.401545438271973"
      ]
     },
     "execution_count": 143,
     "metadata": {},
     "output_type": "execute_result"
    }
   ],
   "source": [
    "# proceduarl style: dictating the machine operations step by step\n",
    "count = 0\n",
    "total_len = 0\n",
    "for w in brouwn_tokens:\n",
    "    count+=1\n",
    "    total_len+=len(w)\n",
    "    \n",
    "# avg len of words\n",
    "total_len/count    "
   ]
  },
  {
   "cell_type": "code",
   "execution_count": 144,
   "metadata": {},
   "outputs": [
    {
     "data": {
      "text/plain": [
       "4.401545438271973"
      ]
     },
     "execution_count": 144,
     "metadata": {},
     "output_type": "execute_result"
    }
   ],
   "source": [
    "# declarative style\n",
    "sum(len(w) for w in brouwn_tokens) / len(brouwn_tokens)"
   ]
  },
  {
   "cell_type": "markdown",
   "metadata": {},
   "source": [
    "### generating n-grams"
   ]
  },
  {
   "cell_type": "code",
   "execution_count": 145,
   "metadata": {},
   "outputs": [],
   "source": [
    "sent = ['The', 'dog', 'gave', 'John', 'the', 'newspaper']"
   ]
  },
  {
   "cell_type": "code",
   "execution_count": 148,
   "metadata": {},
   "outputs": [
    {
     "data": {
      "text/plain": [
       "[['The', 'dog', 'gave'],\n",
       " ['dog', 'gave', 'John'],\n",
       " ['gave', 'John', 'the'],\n",
       " ['John', 'the', 'newspaper']]"
      ]
     },
     "execution_count": 148,
     "metadata": {},
     "output_type": "execute_result"
    }
   ],
   "source": [
    "n = 3\n",
    "[sent[i:i+3] for i in range(len(sent)-n+1)]"
   ]
  },
  {
   "cell_type": "markdown",
   "metadata": {},
   "source": [
    "### building multidimensional structures"
   ]
  },
  {
   "cell_type": "code",
   "execution_count": 150,
   "metadata": {},
   "outputs": [
    {
     "data": {
      "text/plain": [
       "[[set(), set(), set()],\n",
       " [set(), set(), set()],\n",
       " [set(), set(), set()],\n",
       " [set(), set(), set()],\n",
       " [set(), set(), set()],\n",
       " [set(), set(), set()],\n",
       " [set(), set(), set()]]"
      ]
     },
     "execution_count": 150,
     "metadata": {},
     "output_type": "execute_result"
    }
   ],
   "source": [
    "m, n = 3,7\n",
    "[[set() for i in range(m)] for j in range(n)]"
   ]
  },
  {
   "cell_type": "markdown",
   "metadata": {},
   "source": [
    "## Functions: The Foundation of Structured Programming\n"
   ]
  },
  {
   "cell_type": "code",
   "execution_count": 152,
   "metadata": {},
   "outputs": [],
   "source": [
    "import re\n",
    "\n",
    "def clean_text_from_html(file):\n",
    "    \"\"\"Read text from a file, normalizing whitespace and stripping HTML markup.\"\"\"\n",
    "    text = open(file).read()\n",
    "    text = re.sub('<.*?>', ' ', text)\n",
    "    text = re.sub('\\s+', ' ', text)\n",
    "    return text"
   ]
  },
  {
   "cell_type": "code",
   "execution_count": 153,
   "metadata": {},
   "outputs": [
    {
     "name": "stdout",
     "output_type": "stream",
     "text": [
      "Help on function clean_text_from_html in module __main__:\n",
      "\n",
      "clean_text_from_html(file)\n",
      "    Read text from a file, normalizing whitespace and stripping HTML markup.\n",
      "\n"
     ]
    }
   ],
   "source": [
    "help(clean_text_from_html)"
   ]
  },
  {
   "cell_type": "markdown",
   "metadata": {},
   "source": [
    "### Checking Parameter Types"
   ]
  },
  {
   "cell_type": "code",
   "execution_count": 159,
   "metadata": {},
   "outputs": [],
   "source": [
    "def tag(word):\n",
    "    assert isinstance(word, str),  \"argument to tag() must be a string\"\n",
    "    if word in ['a', 'the', 'all']:\n",
    "        return True\n",
    "    else:\n",
    "        return False"
   ]
  },
  {
   "cell_type": "code",
   "execution_count": 160,
   "metadata": {},
   "outputs": [
    {
     "data": {
      "text/plain": [
       "True"
      ]
     },
     "execution_count": 160,
     "metadata": {},
     "output_type": "execute_result"
    }
   ],
   "source": [
    "tag(\"the\")"
   ]
  },
  {
   "cell_type": "markdown",
   "metadata": {},
   "source": [
    "#### Functional Decomposition"
   ]
  },
  {
   "cell_type": "code",
   "execution_count": 165,
   "metadata": {},
   "outputs": [],
   "source": [
    "from urllib.request import urlopen\n",
    "from bs4 import BeautifulSoup"
   ]
  },
  {
   "cell_type": "code",
   "execution_count": 182,
   "metadata": {},
   "outputs": [],
   "source": [
    "def freq_words(url, n):\n",
    "    html = urlopen(url).read().decode('utf8')\n",
    "    text = BeautifulSoup(html, 'html.parser').get_text()\n",
    "    freqdist = nltk.FreqDist(w.lower() for w in nltk.word_tokenize(text))\n",
    "    results = []\n",
    "    return [w for (w, _) in freqdist.most_common(n)]\n",
    "        "
   ]
  },
  {
   "cell_type": "code",
   "execution_count": 183,
   "metadata": {},
   "outputs": [],
   "source": [
    "constitution = \"http://www.archives.gov/exhibits/charters/constitution_transcript.html\"\n"
   ]
  },
  {
   "cell_type": "code",
   "execution_count": 185,
   "metadata": {},
   "outputs": [
    {
     "data": {
      "text/plain": [
       "['the', 'of', 'archives', ',', 'and']"
      ]
     },
     "execution_count": 185,
     "metadata": {},
     "output_type": "execute_result"
    }
   ],
   "source": [
    "freq_words(constitution, 5)"
   ]
  },
  {
   "cell_type": "code",
   "execution_count": 192,
   "metadata": {},
   "outputs": [],
   "source": [
    "#boj@ moy\n",
    "def freq_words_2(url, freqdist, n):\n",
    "    html = request.urlopen(url).read().decode('utf8')\n",
    "    raw = BeautifulSoup(html, 'html.parser').get_text()\n",
    "    for word in nltk.word_tokenize(raw):\n",
    "        freqdist[word.lower()] += 1\n",
    "    result = []\n",
    "    for word, count in freqdist.most_common(n):\n",
    "        result = result + [word]\n",
    "    print(result)"
   ]
  },
  {
   "cell_type": "code",
   "execution_count": 193,
   "metadata": {},
   "outputs": [
    {
     "name": "stdout",
     "output_type": "stream",
     "text": [
      "['the', 'of', 'archives', ',', 'and']\n"
     ]
    }
   ],
   "source": [
    "fd = nltk.FreqDist()\n",
    "freq_words_2(constitution, fd, 5)"
   ]
  },
  {
   "cell_type": "markdown",
   "metadata": {},
   "source": [
    "## Doing More with Functions"
   ]
  },
  {
   "cell_type": "code",
   "execution_count": 195,
   "metadata": {},
   "outputs": [],
   "source": [
    "sent_tokens = ['Take', 'care', 'of', 'the', 'sense', ',', 'and', 'the',\n",
    "      'sounds', 'will', 'take', 'care', 'of', 'themselves', '.']"
   ]
  },
  {
   "cell_type": "code",
   "execution_count": 196,
   "metadata": {},
   "outputs": [],
   "source": [
    "def extract_prop(prop, arr):\n",
    "    return [prop(w) for w in arr]"
   ]
  },
  {
   "cell_type": "code",
   "execution_count": 197,
   "metadata": {},
   "outputs": [
    {
     "data": {
      "text/plain": [
       "[4, 4, 2, 3, 5, 1, 3, 3, 6, 4, 4, 4, 2, 10, 1]"
      ]
     },
     "execution_count": 197,
     "metadata": {},
     "output_type": "execute_result"
    }
   ],
   "source": [
    "extract_prop(len, sent_tokens)"
   ]
  },
  {
   "cell_type": "code",
   "execution_count": 198,
   "metadata": {},
   "outputs": [],
   "source": [
    "def last_letter(word):\n",
    "    return word[-1]"
   ]
  },
  {
   "cell_type": "code",
   "execution_count": 199,
   "metadata": {},
   "outputs": [
    {
     "data": {
      "text/plain": [
       "['e', 'e', 'f', 'e', 'e', ',', 'd', 'e', 's', 'l', 'e', 'e', 'f', 's', '.']"
      ]
     },
     "execution_count": 199,
     "metadata": {},
     "output_type": "execute_result"
    }
   ],
   "source": [
    "extract_prop(last_letter, sent_tokens)"
   ]
  },
  {
   "cell_type": "code",
   "execution_count": 200,
   "metadata": {},
   "outputs": [
    {
     "data": {
      "text/plain": [
       "['TAKE',\n",
       " 'CARE',\n",
       " 'OF',\n",
       " 'THE',\n",
       " 'SENSE',\n",
       " ',',\n",
       " 'AND',\n",
       " 'THE',\n",
       " 'SOUNDS',\n",
       " 'WILL',\n",
       " 'TAKE',\n",
       " 'CARE',\n",
       " 'OF',\n",
       " 'THEMSELVES',\n",
       " '.']"
      ]
     },
     "execution_count": 200,
     "metadata": {},
     "output_type": "execute_result"
    }
   ],
   "source": [
    "extract_prop(lambda a: a.upper(), sent_tokens)"
   ]
  },
  {
   "cell_type": "code",
   "execution_count": 211,
   "metadata": {
    "scrolled": true
   },
   "outputs": [
    {
     "data": {
      "text/plain": [
       "[',',\n",
       " '.',\n",
       " 'of',\n",
       " 'of',\n",
       " 'and',\n",
       " 'the',\n",
       " 'the',\n",
       " 'Take',\n",
       " 'care',\n",
       " 'care',\n",
       " 'take',\n",
       " 'will',\n",
       " 'sense',\n",
       " 'sounds',\n",
       " 'themselves']"
      ]
     },
     "execution_count": 211,
     "metadata": {},
     "output_type": "execute_result"
    }
   ],
   "source": [
    "sent_tokens.sort(key=len)\n",
    "sent_tokens"
   ]
  },
  {
   "cell_type": "markdown",
   "metadata": {},
   "source": [
    "#### Accumulative Functions"
   ]
  },
  {
   "cell_type": "code",
   "execution_count": 212,
   "metadata": {},
   "outputs": [],
   "source": [
    "def search1(substr, words):\n",
    "    results = [w for w in words if substr in w]\n",
    "    return results"
   ]
  },
  {
   "cell_type": "code",
   "execution_count": 213,
   "metadata": {},
   "outputs": [
    {
     "data": {
      "text/plain": [
       "[\"Grizzlies'\",\n",
       " 'fizzled',\n",
       " 'Rizzuto',\n",
       " 'huzzahs',\n",
       " 'dazzler',\n",
       " 'jazz',\n",
       " 'Pezza',\n",
       " 'Pezza',\n",
       " 'Pezza',\n",
       " 'embezzling',\n",
       " 'embezzlement',\n",
       " 'pizza',\n",
       " 'jazz',\n",
       " 'Ozzie',\n",
       " 'nozzle',\n",
       " 'drizzly',\n",
       " 'puzzle',\n",
       " 'puzzle',\n",
       " 'dazzling',\n",
       " 'Sizzling',\n",
       " 'guzzle',\n",
       " 'puzzles',\n",
       " 'dazzling',\n",
       " 'jazz',\n",
       " 'jazz',\n",
       " 'Jazz',\n",
       " 'jazz',\n",
       " 'Jazz',\n",
       " 'jazz',\n",
       " 'jazz',\n",
       " 'Jazz',\n",
       " 'jazz',\n",
       " 'jazz',\n",
       " 'jazz',\n",
       " 'Jazz',\n",
       " 'jazz',\n",
       " 'dizzy',\n",
       " 'jazz',\n",
       " 'Jazz',\n",
       " 'puzzler',\n",
       " 'jazz',\n",
       " 'jazzmen',\n",
       " 'jazz',\n",
       " 'jazz',\n",
       " 'Jazz',\n",
       " 'Jazz',\n",
       " 'Jazz',\n",
       " 'jazz',\n",
       " 'Jazz',\n",
       " 'jazz',\n",
       " 'jazz',\n",
       " 'jazz',\n",
       " 'Jazz',\n",
       " 'jazz',\n",
       " 'jazz',\n",
       " 'jazz',\n",
       " 'jazz',\n",
       " 'jazz',\n",
       " 'jazz',\n",
       " 'jazz',\n",
       " 'jazz',\n",
       " 'jazz',\n",
       " 'Jazz',\n",
       " 'Jazz',\n",
       " 'jazz',\n",
       " 'jazz',\n",
       " 'nozzles',\n",
       " 'nozzle',\n",
       " 'puzzle',\n",
       " 'buzz',\n",
       " 'puzzle',\n",
       " 'blizzard',\n",
       " 'blizzard',\n",
       " 'sizzling',\n",
       " 'puzzled',\n",
       " 'puzzle',\n",
       " 'puzzle',\n",
       " 'muzzle',\n",
       " 'muzzle',\n",
       " 'muezzin',\n",
       " 'blizzard',\n",
       " 'Neo-Jazz',\n",
       " 'jazz',\n",
       " 'muzzle',\n",
       " 'piazzas',\n",
       " 'puzzles',\n",
       " 'puzzles',\n",
       " 'embezzle',\n",
       " 'buzzed',\n",
       " 'snazzy',\n",
       " 'buzzes',\n",
       " 'puzzled',\n",
       " 'puzzled',\n",
       " 'muzzle',\n",
       " 'whizzing',\n",
       " 'jazz',\n",
       " 'Belshazzar',\n",
       " 'Lizzie',\n",
       " 'Lizzie',\n",
       " 'Lizzie',\n",
       " 'Lizzie',\n",
       " 'Lizzie',\n",
       " 'Lizzie',\n",
       " 'Lizzie',\n",
       " 'Lizzie',\n",
       " \"Lizzie's\",\n",
       " 'Lizzie',\n",
       " 'Lizzie',\n",
       " 'Lizzie',\n",
       " 'Lizzie',\n",
       " 'Lizzie',\n",
       " 'Lizzie',\n",
       " 'Lizzie',\n",
       " 'Lizzie',\n",
       " 'Lizzie',\n",
       " 'blizzard',\n",
       " 'blizzards',\n",
       " 'blizzard',\n",
       " 'blizzard',\n",
       " 'fuzzy',\n",
       " 'Lazzeri',\n",
       " 'Piazza',\n",
       " 'piazza',\n",
       " 'palazzi',\n",
       " 'Piazza',\n",
       " 'Piazza',\n",
       " 'Palazzo',\n",
       " 'Palazzo',\n",
       " 'Palazzo',\n",
       " 'Piazza',\n",
       " 'Piazza',\n",
       " 'Palazzo',\n",
       " 'palazzo',\n",
       " 'palazzo',\n",
       " 'Palazzo',\n",
       " 'Palazzo',\n",
       " 'Piazza',\n",
       " 'piazza',\n",
       " 'piazza',\n",
       " 'piazza',\n",
       " 'Piazza',\n",
       " 'Piazza',\n",
       " 'Palazzo',\n",
       " 'palazzo',\n",
       " 'Piazza',\n",
       " 'piazza',\n",
       " 'pizza',\n",
       " 'Piazza',\n",
       " 'Palazzo',\n",
       " 'palazzo',\n",
       " 'dazzling',\n",
       " 'puzzling',\n",
       " 'Wozzek',\n",
       " 'dazzling',\n",
       " 'dazzling',\n",
       " 'buzzing',\n",
       " 'Jazz',\n",
       " 'jazz',\n",
       " 'Jazz',\n",
       " 'Jazz',\n",
       " 'jazz',\n",
       " 'jazz',\n",
       " 'jazz',\n",
       " 'jazz',\n",
       " 'Jazz',\n",
       " 'jazz',\n",
       " 'jazz',\n",
       " 'jazz',\n",
       " 'Fuzzy',\n",
       " 'Lizzy',\n",
       " 'Lizzy',\n",
       " 'jazz',\n",
       " 'fuzzy',\n",
       " 'puzzles',\n",
       " 'puzzling',\n",
       " 'puzzling',\n",
       " 'dazzle',\n",
       " 'puzzle',\n",
       " 'dazzling',\n",
       " 'puzzled',\n",
       " 'jazz',\n",
       " 'jazz',\n",
       " 'jazz',\n",
       " 'jazzy',\n",
       " 'whizzed',\n",
       " 'frazzled',\n",
       " 'quizzical',\n",
       " 'puzzling',\n",
       " 'poetry-and-jazz',\n",
       " 'poetry-and-jazz',\n",
       " 'jazz',\n",
       " 'jazz',\n",
       " 'jazz',\n",
       " 'jazz',\n",
       " 'jazz',\n",
       " 'jazz',\n",
       " 'jazz',\n",
       " 'Jazz',\n",
       " 'jazz',\n",
       " 'jazz',\n",
       " 'jazz',\n",
       " 'poetry-and-jazz',\n",
       " 'jazz',\n",
       " 'jazz',\n",
       " 'jazz',\n",
       " 'Dizzy',\n",
       " 'jazz',\n",
       " 'jazz',\n",
       " 'jazz',\n",
       " 'jazz',\n",
       " 'jazz',\n",
       " 'poetry-and-jazz',\n",
       " 'jazz',\n",
       " 'jazz',\n",
       " 'jazz',\n",
       " 'jazz',\n",
       " 'jazz',\n",
       " 'jazz',\n",
       " 'jazz',\n",
       " 'jazz',\n",
       " 'jazz',\n",
       " 'jazz',\n",
       " 'jazz',\n",
       " 'jazz',\n",
       " 'dazzled',\n",
       " 'bedazzlement',\n",
       " 'bedazzled',\n",
       " 'Piazzo',\n",
       " 'nozzles',\n",
       " 'nozzles',\n",
       " 'buzzing',\n",
       " 'dazzles',\n",
       " 'dizzy',\n",
       " 'puzzling',\n",
       " 'puzzling',\n",
       " 'puzzling',\n",
       " 'puzzle',\n",
       " 'muzzle',\n",
       " 'puzzled',\n",
       " 'nozzle',\n",
       " 'Pozzatti',\n",
       " 'Pozzatti',\n",
       " 'Pozzatti',\n",
       " 'puzzled',\n",
       " 'Pozzatti',\n",
       " 'Pozzatti',\n",
       " 'dazzling',\n",
       " 'pizzicato',\n",
       " 'Jazz',\n",
       " 'jazz',\n",
       " 'jazz',\n",
       " 'jazz',\n",
       " 'jazz',\n",
       " 'nozzle',\n",
       " 'grizzled',\n",
       " 'fuzzy',\n",
       " 'muzzle',\n",
       " 'puzzled',\n",
       " 'puzzle',\n",
       " 'muzzle',\n",
       " 'blizzard',\n",
       " 'buzz',\n",
       " 'dizzily',\n",
       " 'drizzle',\n",
       " 'drizzle',\n",
       " 'drizzle',\n",
       " 'sizzled',\n",
       " 'puzzled',\n",
       " 'puzzled',\n",
       " 'puzzled',\n",
       " 'fuzzed',\n",
       " 'buzz',\n",
       " 'buzz',\n",
       " 'buzz',\n",
       " 'buzz-buzz-buzz',\n",
       " 'buzzes',\n",
       " 'fuzzy',\n",
       " 'frizzled',\n",
       " 'drizzle',\n",
       " 'drizzle',\n",
       " 'drizzling',\n",
       " 'drizzling',\n",
       " 'fuzz',\n",
       " 'jazz',\n",
       " 'jazz',\n",
       " 'fuzz',\n",
       " 'puzzle',\n",
       " 'puzzling',\n",
       " 'Nozze',\n",
       " 'mezzo',\n",
       " 'puzzled',\n",
       " 'puzzled',\n",
       " 'dazzling',\n",
       " 'muzzle',\n",
       " 'muzzle',\n",
       " 'muzzle',\n",
       " 'buzzed',\n",
       " 'whizzed',\n",
       " 'sizzled',\n",
       " 'palazzos',\n",
       " 'puzzlement',\n",
       " 'frizzling',\n",
       " 'puzzled',\n",
       " 'puzzled',\n",
       " 'puzzled',\n",
       " 'dazzling',\n",
       " 'muzzles',\n",
       " 'fuzzy',\n",
       " 'jazz',\n",
       " 'ex-jazz',\n",
       " 'sizzle',\n",
       " 'grizzly',\n",
       " 'guzzled',\n",
       " 'buzzing',\n",
       " 'fuzz',\n",
       " 'nuzzled',\n",
       " 'Kizzie',\n",
       " 'Kizzie',\n",
       " 'Kizzie',\n",
       " 'Kezziah',\n",
       " 'Kizzie',\n",
       " 'Kizzie',\n",
       " \"Buzz's\",\n",
       " 'Buzz',\n",
       " 'Buzz',\n",
       " 'Buzz',\n",
       " 'Buzz',\n",
       " 'Buzz',\n",
       " 'Buzz',\n",
       " 'Buzz',\n",
       " 'Buzz',\n",
       " 'dizzy',\n",
       " 'piazza',\n",
       " 'buzzing',\n",
       " 'Puzzled',\n",
       " 'dizziness',\n",
       " 'dazzled',\n",
       " 'Piazza',\n",
       " 'Carrozza',\n",
       " 'fuzzy',\n",
       " 'dizzy',\n",
       " 'buzzing',\n",
       " 'buzzing',\n",
       " 'puzzled',\n",
       " 'puzzling',\n",
       " 'puzzled',\n",
       " 'puzzled',\n",
       " 'Quizzical',\n",
       " 'pizza']"
      ]
     },
     "execution_count": 213,
     "metadata": {},
     "output_type": "execute_result"
    }
   ],
   "source": [
    "search1('zz', nltk.corpus.brown.words())"
   ]
  },
  {
   "cell_type": "code",
   "execution_count": 214,
   "metadata": {},
   "outputs": [],
   "source": [
    "def search2(substr, words):\n",
    "    results = []\n",
    "    for w in words:\n",
    "        if substr in w:\n",
    "            results.append(w)\n",
    "    return results        "
   ]
  },
  {
   "cell_type": "code",
   "execution_count": 216,
   "metadata": {},
   "outputs": [
    {
     "data": {
      "text/plain": [
       "[\"Grizzlies'\",\n",
       " 'fizzled',\n",
       " 'Rizzuto',\n",
       " 'huzzahs',\n",
       " 'dazzler',\n",
       " 'jazz',\n",
       " 'Pezza',\n",
       " 'Pezza',\n",
       " 'Pezza',\n",
       " 'embezzling',\n",
       " 'embezzlement',\n",
       " 'pizza',\n",
       " 'jazz',\n",
       " 'Ozzie',\n",
       " 'nozzle',\n",
       " 'drizzly',\n",
       " 'puzzle',\n",
       " 'puzzle',\n",
       " 'dazzling',\n",
       " 'Sizzling',\n",
       " 'guzzle',\n",
       " 'puzzles',\n",
       " 'dazzling',\n",
       " 'jazz',\n",
       " 'jazz',\n",
       " 'Jazz',\n",
       " 'jazz',\n",
       " 'Jazz',\n",
       " 'jazz',\n",
       " 'jazz',\n",
       " 'Jazz',\n",
       " 'jazz',\n",
       " 'jazz',\n",
       " 'jazz',\n",
       " 'Jazz',\n",
       " 'jazz',\n",
       " 'dizzy',\n",
       " 'jazz',\n",
       " 'Jazz',\n",
       " 'puzzler',\n",
       " 'jazz',\n",
       " 'jazzmen',\n",
       " 'jazz',\n",
       " 'jazz',\n",
       " 'Jazz',\n",
       " 'Jazz',\n",
       " 'Jazz',\n",
       " 'jazz',\n",
       " 'Jazz',\n",
       " 'jazz',\n",
       " 'jazz',\n",
       " 'jazz',\n",
       " 'Jazz',\n",
       " 'jazz',\n",
       " 'jazz',\n",
       " 'jazz',\n",
       " 'jazz',\n",
       " 'jazz',\n",
       " 'jazz',\n",
       " 'jazz',\n",
       " 'jazz',\n",
       " 'jazz',\n",
       " 'Jazz',\n",
       " 'Jazz',\n",
       " 'jazz',\n",
       " 'jazz',\n",
       " 'nozzles',\n",
       " 'nozzle',\n",
       " 'puzzle',\n",
       " 'buzz',\n",
       " 'puzzle',\n",
       " 'blizzard',\n",
       " 'blizzard',\n",
       " 'sizzling',\n",
       " 'puzzled',\n",
       " 'puzzle',\n",
       " 'puzzle',\n",
       " 'muzzle',\n",
       " 'muzzle',\n",
       " 'muezzin',\n",
       " 'blizzard',\n",
       " 'Neo-Jazz',\n",
       " 'jazz',\n",
       " 'muzzle',\n",
       " 'piazzas',\n",
       " 'puzzles',\n",
       " 'puzzles',\n",
       " 'embezzle',\n",
       " 'buzzed',\n",
       " 'snazzy',\n",
       " 'buzzes',\n",
       " 'puzzled',\n",
       " 'puzzled',\n",
       " 'muzzle',\n",
       " 'whizzing',\n",
       " 'jazz',\n",
       " 'Belshazzar',\n",
       " 'Lizzie',\n",
       " 'Lizzie',\n",
       " 'Lizzie',\n",
       " 'Lizzie',\n",
       " 'Lizzie',\n",
       " 'Lizzie',\n",
       " 'Lizzie',\n",
       " 'Lizzie',\n",
       " \"Lizzie's\",\n",
       " 'Lizzie',\n",
       " 'Lizzie',\n",
       " 'Lizzie',\n",
       " 'Lizzie',\n",
       " 'Lizzie',\n",
       " 'Lizzie',\n",
       " 'Lizzie',\n",
       " 'Lizzie',\n",
       " 'Lizzie',\n",
       " 'blizzard',\n",
       " 'blizzards',\n",
       " 'blizzard',\n",
       " 'blizzard',\n",
       " 'fuzzy',\n",
       " 'Lazzeri',\n",
       " 'Piazza',\n",
       " 'piazza',\n",
       " 'palazzi',\n",
       " 'Piazza',\n",
       " 'Piazza',\n",
       " 'Palazzo',\n",
       " 'Palazzo',\n",
       " 'Palazzo',\n",
       " 'Piazza',\n",
       " 'Piazza',\n",
       " 'Palazzo',\n",
       " 'palazzo',\n",
       " 'palazzo',\n",
       " 'Palazzo',\n",
       " 'Palazzo',\n",
       " 'Piazza',\n",
       " 'piazza',\n",
       " 'piazza',\n",
       " 'piazza',\n",
       " 'Piazza',\n",
       " 'Piazza',\n",
       " 'Palazzo',\n",
       " 'palazzo',\n",
       " 'Piazza',\n",
       " 'piazza',\n",
       " 'pizza',\n",
       " 'Piazza',\n",
       " 'Palazzo',\n",
       " 'palazzo',\n",
       " 'dazzling',\n",
       " 'puzzling',\n",
       " 'Wozzek',\n",
       " 'dazzling',\n",
       " 'dazzling',\n",
       " 'buzzing',\n",
       " 'Jazz',\n",
       " 'jazz',\n",
       " 'Jazz',\n",
       " 'Jazz',\n",
       " 'jazz',\n",
       " 'jazz',\n",
       " 'jazz',\n",
       " 'jazz',\n",
       " 'Jazz',\n",
       " 'jazz',\n",
       " 'jazz',\n",
       " 'jazz',\n",
       " 'Fuzzy',\n",
       " 'Lizzy',\n",
       " 'Lizzy',\n",
       " 'jazz',\n",
       " 'fuzzy',\n",
       " 'puzzles',\n",
       " 'puzzling',\n",
       " 'puzzling',\n",
       " 'dazzle',\n",
       " 'puzzle',\n",
       " 'dazzling',\n",
       " 'puzzled',\n",
       " 'jazz',\n",
       " 'jazz',\n",
       " 'jazz',\n",
       " 'jazzy',\n",
       " 'whizzed',\n",
       " 'frazzled',\n",
       " 'quizzical',\n",
       " 'puzzling',\n",
       " 'poetry-and-jazz',\n",
       " 'poetry-and-jazz',\n",
       " 'jazz',\n",
       " 'jazz',\n",
       " 'jazz',\n",
       " 'jazz',\n",
       " 'jazz',\n",
       " 'jazz',\n",
       " 'jazz',\n",
       " 'Jazz',\n",
       " 'jazz',\n",
       " 'jazz',\n",
       " 'jazz',\n",
       " 'poetry-and-jazz',\n",
       " 'jazz',\n",
       " 'jazz',\n",
       " 'jazz',\n",
       " 'Dizzy',\n",
       " 'jazz',\n",
       " 'jazz',\n",
       " 'jazz',\n",
       " 'jazz',\n",
       " 'jazz',\n",
       " 'poetry-and-jazz',\n",
       " 'jazz',\n",
       " 'jazz',\n",
       " 'jazz',\n",
       " 'jazz',\n",
       " 'jazz',\n",
       " 'jazz',\n",
       " 'jazz',\n",
       " 'jazz',\n",
       " 'jazz',\n",
       " 'jazz',\n",
       " 'jazz',\n",
       " 'jazz',\n",
       " 'dazzled',\n",
       " 'bedazzlement',\n",
       " 'bedazzled',\n",
       " 'Piazzo',\n",
       " 'nozzles',\n",
       " 'nozzles',\n",
       " 'buzzing',\n",
       " 'dazzles',\n",
       " 'dizzy',\n",
       " 'puzzling',\n",
       " 'puzzling',\n",
       " 'puzzling',\n",
       " 'puzzle',\n",
       " 'muzzle',\n",
       " 'puzzled',\n",
       " 'nozzle',\n",
       " 'Pozzatti',\n",
       " 'Pozzatti',\n",
       " 'Pozzatti',\n",
       " 'puzzled',\n",
       " 'Pozzatti',\n",
       " 'Pozzatti',\n",
       " 'dazzling',\n",
       " 'pizzicato',\n",
       " 'Jazz',\n",
       " 'jazz',\n",
       " 'jazz',\n",
       " 'jazz',\n",
       " 'jazz',\n",
       " 'nozzle',\n",
       " 'grizzled',\n",
       " 'fuzzy',\n",
       " 'muzzle',\n",
       " 'puzzled',\n",
       " 'puzzle',\n",
       " 'muzzle',\n",
       " 'blizzard',\n",
       " 'buzz',\n",
       " 'dizzily',\n",
       " 'drizzle',\n",
       " 'drizzle',\n",
       " 'drizzle',\n",
       " 'sizzled',\n",
       " 'puzzled',\n",
       " 'puzzled',\n",
       " 'puzzled',\n",
       " 'fuzzed',\n",
       " 'buzz',\n",
       " 'buzz',\n",
       " 'buzz',\n",
       " 'buzz-buzz-buzz',\n",
       " 'buzzes',\n",
       " 'fuzzy',\n",
       " 'frizzled',\n",
       " 'drizzle',\n",
       " 'drizzle',\n",
       " 'drizzling',\n",
       " 'drizzling',\n",
       " 'fuzz',\n",
       " 'jazz',\n",
       " 'jazz',\n",
       " 'fuzz',\n",
       " 'puzzle',\n",
       " 'puzzling',\n",
       " 'Nozze',\n",
       " 'mezzo',\n",
       " 'puzzled',\n",
       " 'puzzled',\n",
       " 'dazzling',\n",
       " 'muzzle',\n",
       " 'muzzle',\n",
       " 'muzzle',\n",
       " 'buzzed',\n",
       " 'whizzed',\n",
       " 'sizzled',\n",
       " 'palazzos',\n",
       " 'puzzlement',\n",
       " 'frizzling',\n",
       " 'puzzled',\n",
       " 'puzzled',\n",
       " 'puzzled',\n",
       " 'dazzling',\n",
       " 'muzzles',\n",
       " 'fuzzy',\n",
       " 'jazz',\n",
       " 'ex-jazz',\n",
       " 'sizzle',\n",
       " 'grizzly',\n",
       " 'guzzled',\n",
       " 'buzzing',\n",
       " 'fuzz',\n",
       " 'nuzzled',\n",
       " 'Kizzie',\n",
       " 'Kizzie',\n",
       " 'Kizzie',\n",
       " 'Kezziah',\n",
       " 'Kizzie',\n",
       " 'Kizzie',\n",
       " \"Buzz's\",\n",
       " 'Buzz',\n",
       " 'Buzz',\n",
       " 'Buzz',\n",
       " 'Buzz',\n",
       " 'Buzz',\n",
       " 'Buzz',\n",
       " 'Buzz',\n",
       " 'Buzz',\n",
       " 'dizzy',\n",
       " 'piazza',\n",
       " 'buzzing',\n",
       " 'Puzzled',\n",
       " 'dizziness',\n",
       " 'dazzled',\n",
       " 'Piazza',\n",
       " 'Carrozza',\n",
       " 'fuzzy',\n",
       " 'dizzy',\n",
       " 'buzzing',\n",
       " 'buzzing',\n",
       " 'puzzled',\n",
       " 'puzzling',\n",
       " 'puzzled',\n",
       " 'puzzled',\n",
       " 'Quizzical',\n",
       " 'pizza']"
      ]
     },
     "execution_count": 216,
     "metadata": {},
     "output_type": "execute_result"
    }
   ],
   "source": [
    "search2('zz', nltk.corpus.brown.words())"
   ]
  },
  {
   "cell_type": "code",
   "execution_count": 223,
   "metadata": {},
   "outputs": [],
   "source": [
    "def search3(substr, words):\n",
    "    for w in words:\n",
    "        # no need to store data in results(allocate memory)\n",
    "        if substr in w:\n",
    "            yield w"
   ]
  },
  {
   "cell_type": "code",
   "execution_count": 222,
   "metadata": {},
   "outputs": [
    {
     "name": "stdout",
     "output_type": "stream",
     "text": [
      "Grizzlies'\n",
      "fizzled\n",
      "Rizzuto\n",
      "huzzahs\n",
      "dazzler\n",
      "jazz\n",
      "Pezza\n",
      "Pezza\n",
      "Pezza\n",
      "embezzling\n",
      "embezzlement\n",
      "pizza\n",
      "jazz\n",
      "Ozzie\n",
      "nozzle\n",
      "drizzly\n",
      "puzzle\n",
      "puzzle\n",
      "dazzling\n",
      "Sizzling\n",
      "guzzle\n",
      "puzzles\n",
      "dazzling\n",
      "jazz\n",
      "jazz\n",
      "Jazz\n",
      "jazz\n",
      "Jazz\n",
      "jazz\n",
      "jazz\n",
      "Jazz\n",
      "jazz\n",
      "jazz\n",
      "jazz\n",
      "Jazz\n",
      "jazz\n",
      "dizzy\n",
      "jazz\n",
      "Jazz\n",
      "puzzler\n",
      "jazz\n",
      "jazzmen\n",
      "jazz\n",
      "jazz\n",
      "Jazz\n",
      "Jazz\n",
      "Jazz\n",
      "jazz\n",
      "Jazz\n",
      "jazz\n",
      "jazz\n",
      "jazz\n",
      "Jazz\n",
      "jazz\n",
      "jazz\n",
      "jazz\n",
      "jazz\n",
      "jazz\n",
      "jazz\n",
      "jazz\n",
      "jazz\n",
      "jazz\n",
      "Jazz\n",
      "Jazz\n",
      "jazz\n",
      "jazz\n",
      "nozzles\n",
      "nozzle\n",
      "puzzle\n",
      "buzz\n",
      "puzzle\n",
      "blizzard\n",
      "blizzard\n",
      "sizzling\n",
      "puzzled\n",
      "puzzle\n",
      "puzzle\n",
      "muzzle\n",
      "muzzle\n",
      "muezzin\n",
      "blizzard\n",
      "Neo-Jazz\n",
      "jazz\n",
      "muzzle\n",
      "piazzas\n",
      "puzzles\n",
      "puzzles\n",
      "embezzle\n",
      "buzzed\n",
      "snazzy\n",
      "buzzes\n",
      "puzzled\n",
      "puzzled\n",
      "muzzle\n",
      "whizzing\n",
      "jazz\n",
      "Belshazzar\n",
      "Lizzie\n",
      "Lizzie\n",
      "Lizzie\n",
      "Lizzie\n",
      "Lizzie\n",
      "Lizzie\n",
      "Lizzie\n",
      "Lizzie\n",
      "Lizzie's\n",
      "Lizzie\n",
      "Lizzie\n",
      "Lizzie\n",
      "Lizzie\n",
      "Lizzie\n",
      "Lizzie\n",
      "Lizzie\n",
      "Lizzie\n",
      "Lizzie\n",
      "blizzard\n",
      "blizzards\n",
      "blizzard\n",
      "blizzard\n",
      "fuzzy\n",
      "Lazzeri\n",
      "Piazza\n",
      "piazza\n",
      "palazzi\n",
      "Piazza\n",
      "Piazza\n",
      "Palazzo\n",
      "Palazzo\n",
      "Palazzo\n",
      "Piazza\n",
      "Piazza\n",
      "Palazzo\n",
      "palazzo\n",
      "palazzo\n",
      "Palazzo\n",
      "Palazzo\n",
      "Piazza\n",
      "piazza\n",
      "piazza\n",
      "piazza\n",
      "Piazza\n",
      "Piazza\n",
      "Palazzo\n",
      "palazzo\n",
      "Piazza\n",
      "piazza\n",
      "pizza\n",
      "Piazza\n",
      "Palazzo\n",
      "palazzo\n",
      "dazzling\n",
      "puzzling\n",
      "Wozzek\n",
      "dazzling\n",
      "dazzling\n",
      "buzzing\n",
      "Jazz\n",
      "jazz\n",
      "Jazz\n",
      "Jazz\n",
      "jazz\n",
      "jazz\n",
      "jazz\n",
      "jazz\n",
      "Jazz\n",
      "jazz\n",
      "jazz\n",
      "jazz\n",
      "Fuzzy\n",
      "Lizzy\n",
      "Lizzy\n",
      "jazz\n",
      "fuzzy\n",
      "puzzles\n",
      "puzzling\n",
      "puzzling\n",
      "dazzle\n",
      "puzzle\n",
      "dazzling\n",
      "puzzled\n",
      "jazz\n",
      "jazz\n",
      "jazz\n",
      "jazzy\n",
      "whizzed\n",
      "frazzled\n",
      "quizzical\n",
      "puzzling\n",
      "poetry-and-jazz\n",
      "poetry-and-jazz\n",
      "jazz\n",
      "jazz\n",
      "jazz\n",
      "jazz\n",
      "jazz\n",
      "jazz\n",
      "jazz\n",
      "Jazz\n",
      "jazz\n",
      "jazz\n",
      "jazz\n",
      "poetry-and-jazz\n",
      "jazz\n",
      "jazz\n",
      "jazz\n",
      "Dizzy\n",
      "jazz\n",
      "jazz\n",
      "jazz\n",
      "jazz\n",
      "jazz\n",
      "poetry-and-jazz\n",
      "jazz\n",
      "jazz\n",
      "jazz\n",
      "jazz\n",
      "jazz\n",
      "jazz\n",
      "jazz\n",
      "jazz\n",
      "jazz\n",
      "jazz\n",
      "jazz\n",
      "jazz\n",
      "dazzled\n",
      "bedazzlement\n",
      "bedazzled\n",
      "Piazzo\n",
      "nozzles\n",
      "nozzles\n",
      "buzzing\n",
      "dazzles\n",
      "dizzy\n",
      "puzzling\n",
      "puzzling\n",
      "puzzling\n",
      "puzzle\n",
      "muzzle\n",
      "puzzled\n",
      "nozzle\n",
      "Pozzatti\n",
      "Pozzatti\n",
      "Pozzatti\n",
      "puzzled\n",
      "Pozzatti\n",
      "Pozzatti\n",
      "dazzling\n",
      "pizzicato\n",
      "Jazz\n",
      "jazz\n",
      "jazz\n",
      "jazz\n",
      "jazz\n",
      "nozzle\n",
      "grizzled\n",
      "fuzzy\n",
      "muzzle\n",
      "puzzled\n",
      "puzzle\n",
      "muzzle\n",
      "blizzard\n",
      "buzz\n",
      "dizzily\n",
      "drizzle\n",
      "drizzle\n",
      "drizzle\n",
      "sizzled\n",
      "puzzled\n",
      "puzzled\n",
      "puzzled\n",
      "fuzzed\n",
      "buzz\n",
      "buzz\n",
      "buzz\n",
      "buzz-buzz-buzz\n",
      "buzzes\n",
      "fuzzy\n",
      "frizzled\n",
      "drizzle\n",
      "drizzle\n",
      "drizzling\n",
      "drizzling\n",
      "fuzz\n",
      "jazz\n",
      "jazz\n",
      "fuzz\n",
      "puzzle\n",
      "puzzling\n",
      "Nozze\n",
      "mezzo\n",
      "puzzled\n",
      "puzzled\n",
      "dazzling\n",
      "muzzle\n",
      "muzzle\n",
      "muzzle\n",
      "buzzed\n",
      "whizzed\n",
      "sizzled\n",
      "palazzos\n",
      "puzzlement\n",
      "frizzling\n",
      "puzzled\n",
      "puzzled\n",
      "puzzled\n",
      "dazzling\n",
      "muzzles\n",
      "fuzzy\n",
      "jazz\n",
      "ex-jazz\n",
      "sizzle\n",
      "grizzly\n",
      "guzzled\n",
      "buzzing\n",
      "fuzz\n",
      "nuzzled\n",
      "Kizzie\n",
      "Kizzie\n",
      "Kizzie\n",
      "Kezziah\n",
      "Kizzie\n",
      "Kizzie\n",
      "Buzz's\n",
      "Buzz\n",
      "Buzz\n",
      "Buzz\n",
      "Buzz\n",
      "Buzz\n",
      "Buzz\n",
      "Buzz\n",
      "Buzz\n",
      "dizzy\n",
      "piazza\n",
      "buzzing\n",
      "Puzzled\n",
      "dizziness\n",
      "dazzled\n",
      "Piazza\n",
      "Carrozza\n",
      "fuzzy\n",
      "dizzy\n",
      "buzzing\n",
      "buzzing\n",
      "puzzled\n",
      "puzzling\n",
      "puzzled\n",
      "puzzled\n",
      "Quizzical\n",
      "pizza\n"
     ]
    }
   ],
   "source": [
    "for item in search3('zz', nltk.corpus.brown.words()):\n",
    "    print(item)"
   ]
  },
  {
   "cell_type": "code",
   "execution_count": 234,
   "metadata": {},
   "outputs": [],
   "source": [
    "def permutations(seq):\n",
    "    if len(seq) <= 1:\n",
    "        yield seq\n",
    "    else: \n",
    "        for perm in permutations(seq[1:]):\n",
    "            for i in range(len(perm)+1):\n",
    "                yield perm[:i] + seq[0:1] + perm[i:]"
   ]
  },
  {
   "cell_type": "code",
   "execution_count": 235,
   "metadata": {},
   "outputs": [
    {
     "name": "stdout",
     "output_type": "stream",
     "text": [
      "['police', 'fish', 'buffalo']\n",
      "['fish', 'police', 'buffalo']\n",
      "['fish', 'buffalo', 'police']\n",
      "['police', 'buffalo', 'fish']\n",
      "['buffalo', 'police', 'fish']\n",
      "['buffalo', 'fish', 'police']\n"
     ]
    }
   ],
   "source": [
    "for i in permutations(['police', 'fish', 'buffalo']):\n",
    "    print(i)"
   ]
  },
  {
   "cell_type": "markdown",
   "metadata": {},
   "source": [
    "### Higher-Order Functions\n"
   ]
  },
  {
   "cell_type": "code",
   "execution_count": 238,
   "metadata": {},
   "outputs": [],
   "source": [
    "def is_content_word(word):\n",
    "    # Attention!   NEW\n",
    "    return word.lower() not in ['a', 'of', 'the', 'and', 'will', ',', '.'] "
   ]
  },
  {
   "cell_type": "code",
   "execution_count": 239,
   "metadata": {},
   "outputs": [
    {
     "data": {
      "text/plain": [
       "True"
      ]
     },
     "execution_count": 239,
     "metadata": {},
     "output_type": "execute_result"
    }
   ],
   "source": [
    "is_content_word('they')"
   ]
  },
  {
   "cell_type": "code",
   "execution_count": 240,
   "metadata": {},
   "outputs": [
    {
     "data": {
      "text/plain": [
       "False"
      ]
     },
     "execution_count": 240,
     "metadata": {},
     "output_type": "execute_result"
    }
   ],
   "source": [
    "is_content_word('will')"
   ]
  },
  {
   "cell_type": "code",
   "execution_count": 242,
   "metadata": {},
   "outputs": [
    {
     "data": {
      "text/plain": [
       "['Take', 'care', 'sense']"
      ]
     },
     "execution_count": 242,
     "metadata": {},
     "output_type": "execute_result"
    }
   ],
   "source": [
    "list(filter(is_content_word, ['Take', 'care', 'of', 'the', 'sense', ',', 'and', 'the']))"
   ]
  },
  {
   "cell_type": "code",
   "execution_count": 243,
   "metadata": {},
   "outputs": [
    {
     "data": {
      "text/plain": [
       "['Take', 'care', 'sense']"
      ]
     },
     "execution_count": 243,
     "metadata": {},
     "output_type": "execute_result"
    }
   ],
   "source": [
    "[w for w in ['Take', 'care', 'of', 'the', 'sense', ',', 'and', 'the'] if is_content_word(w)]"
   ]
  },
  {
   "cell_type": "code",
   "execution_count": 246,
   "metadata": {},
   "outputs": [
    {
     "data": {
      "text/plain": [
       "[25,\n",
       " 43,\n",
       " 35,\n",
       " 37,\n",
       " 24,\n",
       " 24,\n",
       " 43,\n",
       " 2,\n",
       " 26,\n",
       " 25,\n",
       " 14,\n",
       " 14,\n",
       " 28,\n",
       " 24,\n",
       " 59,\n",
       " 23,\n",
       " 25,\n",
       " 17,\n",
       " 34,\n",
       " 2,\n",
       " 33,\n",
       " 33,\n",
       " 33,\n",
       " 33,\n",
       " 3,\n",
       " 12,\n",
       " 31,\n",
       " 3,\n",
       " 28,\n",
       " 34,\n",
       " 22,\n",
       " 6,\n",
       " 9,\n",
       " 20,\n",
       " 15,\n",
       " 16,\n",
       " 16,\n",
       " 20,\n",
       " 11,\n",
       " 13,\n",
       " 17,\n",
       " 14,\n",
       " 10,\n",
       " 30,\n",
       " 22,\n",
       " 23,\n",
       " 37,\n",
       " 34,\n",
       " 20,\n",
       " 28,\n",
       " 32,\n",
       " 31,\n",
       " 22,\n",
       " 21,\n",
       " 9,\n",
       " 20,\n",
       " 17,\n",
       " 28,\n",
       " 32,\n",
       " 18,\n",
       " 21,\n",
       " 2,\n",
       " 26,\n",
       " 43,\n",
       " 31,\n",
       " 3,\n",
       " 35,\n",
       " 33,\n",
       " 28,\n",
       " 33,\n",
       " 41,\n",
       " 30,\n",
       " 13,\n",
       " 20,\n",
       " 25,\n",
       " 27,\n",
       " 36,\n",
       " 37,\n",
       " 16,\n",
       " 18,\n",
       " 35,\n",
       " 1,\n",
       " 37,\n",
       " 31,\n",
       " 13,\n",
       " 18,\n",
       " 19,\n",
       " 12,\n",
       " 18,\n",
       " 13,\n",
       " 16,\n",
       " 33,\n",
       " 18,\n",
       " 19,\n",
       " 29,\n",
       " 12,\n",
       " 11,\n",
       " 9,\n",
       " 3,\n",
       " 23,\n",
       " 36,\n",
       " 14,\n",
       " 22,\n",
       " 37,\n",
       " 29,\n",
       " 24,\n",
       " 31,\n",
       " 20,\n",
       " 38,\n",
       " 19,\n",
       " 12,\n",
       " 39,\n",
       " 31,\n",
       " 20,\n",
       " 22,\n",
       " 3,\n",
       " 30,\n",
       " 24,\n",
       " 15,\n",
       " 53,\n",
       " 49,\n",
       " 31,\n",
       " 24,\n",
       " 30,\n",
       " 21,\n",
       " 21,\n",
       " 11,\n",
       " 20,\n",
       " 26,\n",
       " 26,\n",
       " 22,\n",
       " 7,\n",
       " 9,\n",
       " 25,\n",
       " 32,\n",
       " 26,\n",
       " 7,\n",
       " 34,\n",
       " 30,\n",
       " 14,\n",
       " 42,\n",
       " 37,\n",
       " 36,\n",
       " 36,\n",
       " 3,\n",
       " 20,\n",
       " 34,\n",
       " 24,\n",
       " 25,\n",
       " 29,\n",
       " 22,\n",
       " 16,\n",
       " 3,\n",
       " 14,\n",
       " 44,\n",
       " 33,\n",
       " 14,\n",
       " 21,\n",
       " 31,\n",
       " 36,\n",
       " 36,\n",
       " 12,\n",
       " 9,\n",
       " 9,\n",
       " 3,\n",
       " 25,\n",
       " 41,\n",
       " 11,\n",
       " 22,\n",
       " 13,\n",
       " 38,\n",
       " 13,\n",
       " 14,\n",
       " 6,\n",
       " 25,\n",
       " 21,\n",
       " 15,\n",
       " 29,\n",
       " 18,\n",
       " 19,\n",
       " 51,\n",
       " 18,\n",
       " 6,\n",
       " 28,\n",
       " 32,\n",
       " 38,\n",
       " 25,\n",
       " 5,\n",
       " 34,\n",
       " 22,\n",
       " 34,\n",
       " 21,\n",
       " 3,\n",
       " 8,\n",
       " 27,\n",
       " 16,\n",
       " 31,\n",
       " 34,\n",
       " 23,\n",
       " 14,\n",
       " 3,\n",
       " 17,\n",
       " 15,\n",
       " 21,\n",
       " 23,\n",
       " 10,\n",
       " 21,\n",
       " 9,\n",
       " 4,\n",
       " 39,\n",
       " 39,\n",
       " 36,\n",
       " 3,\n",
       " 28,\n",
       " 48,\n",
       " 38,\n",
       " 24,\n",
       " 16,\n",
       " 10,\n",
       " 20,\n",
       " 20,\n",
       " 3,\n",
       " 41,\n",
       " 22,\n",
       " 11,\n",
       " 25,\n",
       " 16,\n",
       " 56,\n",
       " 3,\n",
       " 14,\n",
       " 32,\n",
       " 45,\n",
       " 24,\n",
       " 8,\n",
       " 3,\n",
       " 34,\n",
       " 4,\n",
       " 49,\n",
       " 49,\n",
       " 23,\n",
       " 8,\n",
       " 6,\n",
       " 28,\n",
       " 29,\n",
       " 26,\n",
       " 15,\n",
       " 46,\n",
       " 3,\n",
       " 35,\n",
       " 9,\n",
       " 24,\n",
       " 14,\n",
       " 3,\n",
       " 23,\n",
       " 33,\n",
       " 1,\n",
       " 17,\n",
       " 36,\n",
       " 1,\n",
       " 15,\n",
       " 1,\n",
       " 14,\n",
       " 24,\n",
       " 3,\n",
       " 52,\n",
       " 37,\n",
       " 10,\n",
       " 16,\n",
       " 11,\n",
       " 3,\n",
       " 8,\n",
       " 9,\n",
       " 29,\n",
       " 27,\n",
       " 24,\n",
       " 3,\n",
       " 26,\n",
       " 24,\n",
       " 25,\n",
       " 23,\n",
       " 30,\n",
       " 4,\n",
       " 29,\n",
       " 23,\n",
       " 12,\n",
       " 24,\n",
       " 14,\n",
       " 3,\n",
       " 16,\n",
       " 8,\n",
       " 27,\n",
       " 29,\n",
       " 33,\n",
       " 3,\n",
       " 10,\n",
       " 17,\n",
       " 12,\n",
       " 32,\n",
       " 17,\n",
       " 31,\n",
       " 4,\n",
       " 22,\n",
       " 14,\n",
       " 14,\n",
       " 24,\n",
       " 41,\n",
       " 3,\n",
       " 30,\n",
       " 1,\n",
       " 39,\n",
       " 30,\n",
       " 27,\n",
       " 35,\n",
       " 49,\n",
       " 2,\n",
       " 39,\n",
       " 23,\n",
       " 45,\n",
       " 27,\n",
       " 30,\n",
       " 29,\n",
       " 17,\n",
       " 47,\n",
       " 2,\n",
       " 32,\n",
       " 58,\n",
       " 38,\n",
       " 51,\n",
       " 40,\n",
       " 2,\n",
       " 52,\n",
       " 68,\n",
       " 31,\n",
       " 18,\n",
       " 1,\n",
       " 25,\n",
       " 29,\n",
       " 41,\n",
       " 17,\n",
       " 15,\n",
       " 17,\n",
       " 2,\n",
       " 36,\n",
       " 20,\n",
       " 18,\n",
       " 24,\n",
       " 26,\n",
       " 17,\n",
       " 19,\n",
       " 16,\n",
       " 2,\n",
       " 25,\n",
       " 32,\n",
       " 23,\n",
       " 20,\n",
       " 20,\n",
       " 47,\n",
       " 27,\n",
       " 2,\n",
       " 22,\n",
       " 32,\n",
       " 23,\n",
       " 16,\n",
       " 26,\n",
       " 41,\n",
       " 3,\n",
       " 40,\n",
       " 12,\n",
       " 11,\n",
       " 11,\n",
       " 21,\n",
       " 28,\n",
       " 17,\n",
       " 13,\n",
       " 37,\n",
       " 17,\n",
       " 28,\n",
       " 8,\n",
       " 1,\n",
       " 34,\n",
       " 11,\n",
       " 36,\n",
       " 25,\n",
       " 35,\n",
       " 24,\n",
       " 27,\n",
       " 1,\n",
       " 20,\n",
       " 20,\n",
       " 44,\n",
       " 33,\n",
       " 2,\n",
       " 53,\n",
       " 34,\n",
       " 32,\n",
       " 26,\n",
       " 28,\n",
       " 30,\n",
       " 9,\n",
       " 23,\n",
       " 11,\n",
       " 36,\n",
       " 37,\n",
       " 24,\n",
       " 15,\n",
       " 24,\n",
       " 4,\n",
       " 44,\n",
       " 22,\n",
       " 31,\n",
       " 23,\n",
       " 47,\n",
       " 23,\n",
       " 10,\n",
       " 27,\n",
       " 25,\n",
       " 39,\n",
       " 21,\n",
       " 18,\n",
       " 16,\n",
       " 34,\n",
       " 31,\n",
       " 8,\n",
       " 27,\n",
       " 30,\n",
       " 41,\n",
       " 16,\n",
       " 39,\n",
       " 38,\n",
       " 18,\n",
       " 21,\n",
       " 26,\n",
       " 36,\n",
       " 32,\n",
       " 23,\n",
       " 41,\n",
       " 16,\n",
       " 25,\n",
       " 32,\n",
       " 33,\n",
       " 42,\n",
       " 25,\n",
       " 19,\n",
       " 22,\n",
       " 8,\n",
       " 16,\n",
       " 14,\n",
       " 14,\n",
       " 27,\n",
       " 27,\n",
       " 50,\n",
       " 37,\n",
       " 36,\n",
       " 16,\n",
       " 38,\n",
       " 40,\n",
       " 39,\n",
       " 36,\n",
       " 28,\n",
       " 27,\n",
       " 37,\n",
       " 22,\n",
       " 25,\n",
       " 24,\n",
       " 29,\n",
       " 19,\n",
       " 19,\n",
       " 34,\n",
       " 32,\n",
       " 21,\n",
       " 37,\n",
       " 13,\n",
       " 33,\n",
       " 49,\n",
       " 34,\n",
       " 24,\n",
       " 30,\n",
       " 13,\n",
       " 14,\n",
       " 20,\n",
       " 1,\n",
       " 48,\n",
       " 37,\n",
       " 24,\n",
       " 25,\n",
       " 39,\n",
       " 26,\n",
       " 35,\n",
       " 17,\n",
       " 16,\n",
       " 3,\n",
       " 29,\n",
       " 23,\n",
       " 2,\n",
       " 15,\n",
       " 39,\n",
       " 18,\n",
       " 11,\n",
       " 13,\n",
       " 35,\n",
       " 2,\n",
       " 29,\n",
       " 28,\n",
       " 22,\n",
       " 25,\n",
       " 28,\n",
       " 24,\n",
       " 44,\n",
       " 2,\n",
       " 8,\n",
       " 20,\n",
       " 73,\n",
       " 24,\n",
       " 33,\n",
       " 10,\n",
       " 3,\n",
       " 24,\n",
       " 30,\n",
       " 37,\n",
       " 29,\n",
       " 24,\n",
       " 23,\n",
       " 3,\n",
       " 24,\n",
       " 8,\n",
       " 27,\n",
       " 17,\n",
       " 35,\n",
       " 30,\n",
       " 33,\n",
       " 20,\n",
       " 28,\n",
       " 35,\n",
       " 42,\n",
       " 40,\n",
       " 7,\n",
       " 1,\n",
       " 25,\n",
       " 24,\n",
       " 32,\n",
       " 17,\n",
       " 30,\n",
       " 14,\n",
       " 17,\n",
       " 24,\n",
       " 1,\n",
       " 36,\n",
       " 46,\n",
       " 30,\n",
       " 2,\n",
       " 31,\n",
       " 15,\n",
       " 22,\n",
       " 26,\n",
       " 18,\n",
       " 18,\n",
       " 19,\n",
       " 31,\n",
       " 19,\n",
       " 21,\n",
       " 40,\n",
       " 23,\n",
       " 20,\n",
       " 2,\n",
       " 15,\n",
       " 16,\n",
       " 32,\n",
       " 29,\n",
       " 18,\n",
       " 25,\n",
       " 26,\n",
       " 11,\n",
       " 1,\n",
       " 23,\n",
       " 35,\n",
       " 24,\n",
       " 24,\n",
       " 23,\n",
       " 10,\n",
       " 36,\n",
       " 23,\n",
       " 30,\n",
       " 29,\n",
       " 17,\n",
       " 2,\n",
       " 32,\n",
       " 25,\n",
       " 26,\n",
       " 41,\n",
       " 3,\n",
       " 21,\n",
       " 20,\n",
       " 19,\n",
       " 23,\n",
       " 36,\n",
       " 19,\n",
       " 4,\n",
       " 67,\n",
       " 19,\n",
       " 22,\n",
       " 4,\n",
       " 7,\n",
       " 25,\n",
       " 4,\n",
       " 15,\n",
       " 13,\n",
       " 22,\n",
       " 14,\n",
       " 7,\n",
       " 36,\n",
       " 21,\n",
       " 29,\n",
       " 12,\n",
       " 15,\n",
       " 18,\n",
       " 19,\n",
       " 26,\n",
       " 9,\n",
       " 25,\n",
       " 9,\n",
       " 4,\n",
       " 15,\n",
       " 17,\n",
       " 36,\n",
       " 11,\n",
       " 16,\n",
       " 37,\n",
       " 13,\n",
       " 3,\n",
       " 19,\n",
       " 14,\n",
       " 24,\n",
       " 14,\n",
       " 32,\n",
       " 15,\n",
       " 4,\n",
       " 22,\n",
       " 23,\n",
       " 27,\n",
       " 27,\n",
       " 23,\n",
       " 29,\n",
       " 9,\n",
       " 23,\n",
       " 2,\n",
       " 35,\n",
       " 21,\n",
       " 24,\n",
       " 9,\n",
       " 7,\n",
       " 9,\n",
       " 12,\n",
       " 2,\n",
       " 13,\n",
       " 6,\n",
       " 5,\n",
       " 8,\n",
       " 15,\n",
       " 27,\n",
       " 16,\n",
       " 26,\n",
       " 4,\n",
       " 36,\n",
       " 13,\n",
       " 21,\n",
       " 25,\n",
       " 19,\n",
       " 21,\n",
       " 13,\n",
       " 8,\n",
       " 24,\n",
       " 30,\n",
       " 39,\n",
       " 14,\n",
       " 30,\n",
       " 21,\n",
       " 5,\n",
       " 17,\n",
       " 10,\n",
       " 28,\n",
       " 24,\n",
       " 24,\n",
       " 4,\n",
       " 24,\n",
       " 19,\n",
       " 30,\n",
       " 6,\n",
       " 27,\n",
       " 17,\n",
       " 7,\n",
       " 4,\n",
       " 49,\n",
       " 12,\n",
       " 14,\n",
       " 20,\n",
       " 19,\n",
       " 22,\n",
       " 4,\n",
       " 28,\n",
       " 30,\n",
       " 8,\n",
       " 24,\n",
       " 21,\n",
       " 18,\n",
       " 16,\n",
       " 23,\n",
       " 17,\n",
       " 7,\n",
       " 1,\n",
       " 27,\n",
       " 45,\n",
       " 29,\n",
       " 10,\n",
       " 2,\n",
       " 20,\n",
       " 20,\n",
       " 34,\n",
       " 17,\n",
       " 19,\n",
       " 10,\n",
       " 20,\n",
       " 3,\n",
       " 34,\n",
       " 20,\n",
       " 17,\n",
       " 18,\n",
       " 32,\n",
       " 17,\n",
       " 18,\n",
       " 11,\n",
       " 24,\n",
       " 16,\n",
       " 14,\n",
       " 15,\n",
       " 12,\n",
       " 42,\n",
       " 3,\n",
       " 14,\n",
       " 32,\n",
       " 33,\n",
       " 32,\n",
       " 24,\n",
       " 3,\n",
       " 22,\n",
       " 38,\n",
       " 28,\n",
       " 37,\n",
       " 32,\n",
       " 15,\n",
       " 2,\n",
       " 28,\n",
       " 12,\n",
       " 32,\n",
       " 49,\n",
       " 28,\n",
       " 28,\n",
       " 15,\n",
       " 2,\n",
       " 42,\n",
       " 26,\n",
       " 32,\n",
       " 33,\n",
       " 4,\n",
       " 29,\n",
       " 14,\n",
       " 18,\n",
       " 34,\n",
       " 32,\n",
       " 32,\n",
       " 2,\n",
       " 20,\n",
       " 15,\n",
       " 33,\n",
       " 17,\n",
       " 22,\n",
       " 27,\n",
       " 9,\n",
       " 13,\n",
       " 17,\n",
       " 15,\n",
       " 23,\n",
       " 2,\n",
       " 17,\n",
       " 17,\n",
       " 37,\n",
       " 32,\n",
       " 38,\n",
       " 19,\n",
       " 12,\n",
       " 39,\n",
       " 31,\n",
       " 2,\n",
       " 29,\n",
       " 14,\n",
       " 22,\n",
       " 32,\n",
       " 37,\n",
       " 26,\n",
       " 23,\n",
       " 29,\n",
       " 36,\n",
       " 16,\n",
       " 2,\n",
       " 35,\n",
       " 19,\n",
       " 19,\n",
       " 17,\n",
       " 16,\n",
       " 30,\n",
       " 13,\n",
       " 22,\n",
       " 62,\n",
       " 2,\n",
       " 26,\n",
       " 24,\n",
       " 22,\n",
       " 3,\n",
       " 22,\n",
       " 9,\n",
       " 28,\n",
       " 17,\n",
       " 18,\n",
       " 9,\n",
       " 20,\n",
       " 4,\n",
       " 19,\n",
       " 25,\n",
       " 17,\n",
       " 22,\n",
       " 12,\n",
       " 18,\n",
       " 16,\n",
       " 20,\n",
       " 6,\n",
       " 15,\n",
       " 26,\n",
       " 15,\n",
       " 10,\n",
       " 13,\n",
       " 41,\n",
       " 10,\n",
       " 22,\n",
       " 3,\n",
       " 23,\n",
       " 23,\n",
       " 19,\n",
       " 17,\n",
       " 16,\n",
       " 2,\n",
       " 22,\n",
       " 28,\n",
       " 21,\n",
       " 20,\n",
       " 2,\n",
       " 20,\n",
       " 30,\n",
       " 17,\n",
       " 16,\n",
       " 3,\n",
       " 26,\n",
       " 17,\n",
       " 22,\n",
       " 47,\n",
       " 18,\n",
       " 36,\n",
       " 16,\n",
       " 11,\n",
       " 16,\n",
       " 28,\n",
       " 18,\n",
       " 19,\n",
       " 18,\n",
       " 3,\n",
       " 40,\n",
       " 29,\n",
       " 41,\n",
       " 3,\n",
       " 32,\n",
       " 18,\n",
       " 28,\n",
       " 18,\n",
       " 12,\n",
       " 10,\n",
       " 33,\n",
       " 32,\n",
       " 7,\n",
       " 4,\n",
       " 33,\n",
       " 25,\n",
       " 22,\n",
       " 16,\n",
       " 4,\n",
       " 16,\n",
       " 9,\n",
       " 23,\n",
       " 13,\n",
       " 19,\n",
       " 27,\n",
       " 4,\n",
       " 28,\n",
       " 25,\n",
       " 15,\n",
       " 22,\n",
       " 16,\n",
       " 8,\n",
       " 9,\n",
       " 25,\n",
       " 33,\n",
       " 45,\n",
       " 27,\n",
       " 12,\n",
       " 33,\n",
       " 43,\n",
       " 23,\n",
       " 25,\n",
       " 14,\n",
       " 14,\n",
       " 10,\n",
       " 38,\n",
       " 27,\n",
       " 27,\n",
       " 47,\n",
       " 2,\n",
       " 22,\n",
       " 42,\n",
       " 10,\n",
       " 25,\n",
       " 23,\n",
       " 3,\n",
       " 22,\n",
       " 19,\n",
       " 23,\n",
       " 24,\n",
       " 24,\n",
       " 31,\n",
       " 25,\n",
       " 29,\n",
       " 46,\n",
       " 62,\n",
       " 22,\n",
       " 7,\n",
       " 32,\n",
       " 50,\n",
       " 35,\n",
       " 19,\n",
       " 27,\n",
       " 33,\n",
       " 4,\n",
       " 19,\n",
       " 19,\n",
       " 17,\n",
       " 13,\n",
       " 20,\n",
       " 21,\n",
       " 24,\n",
       " 25,\n",
       " 32,\n",
       " 37,\n",
       " 25,\n",
       " 14,\n",
       " 35,\n",
       " 26,\n",
       " 5,\n",
       " 17,\n",
       " 13,\n",
       " 8,\n",
       " 16,\n",
       " 20,\n",
       " 12,\n",
       " 23,\n",
       " 36,\n",
       " 19,\n",
       " 20,\n",
       " 17,\n",
       " 59,\n",
       " 3,\n",
       " 9,\n",
       " 19,\n",
       " 12,\n",
       " 35,\n",
       " 19,\n",
       " 5,\n",
       " 6,\n",
       " 3,\n",
       " 7,\n",
       " 7,\n",
       " 11,\n",
       " 3,\n",
       " 23,\n",
       " 8,\n",
       " 7,\n",
       " 26,\n",
       " 32,\n",
       " 24,\n",
       " 16,\n",
       " 24,\n",
       " 3,\n",
       " 40,\n",
       " 33,\n",
       " 17,\n",
       " ...]"
      ]
     },
     "execution_count": 246,
     "metadata": {},
     "output_type": "execute_result"
    }
   ],
   "source": [
    "list(map(len, nltk.corpus.brown.sents(categories='news')))"
   ]
  },
  {
   "cell_type": "markdown",
   "metadata": {},
   "source": [
    "### Named Arguments"
   ]
  },
  {
   "cell_type": "code",
   "execution_count": 247,
   "metadata": {},
   "outputs": [],
   "source": [
    "def generic(*args, **kwargs):\n",
    "    print(args)\n",
    "    print(kwargs)"
   ]
  },
  {
   "cell_type": "code",
   "execution_count": 249,
   "metadata": {},
   "outputs": [
    {
     "name": "stdout",
     "output_type": "stream",
     "text": [
      "('sss', 56)\n",
      "{'k': 'dsd'}\n"
     ]
    }
   ],
   "source": [
    "generic('sss', 56, k='dsd')"
   ]
  },
  {
   "cell_type": "code",
   "execution_count": 250,
   "metadata": {},
   "outputs": [],
   "source": [
    "song = [['four', 'calling', 'birds'],\n",
    "        ['three', 'French', 'hens'],\n",
    "        ['two', 'turtle', 'doves']]"
   ]
  },
  {
   "cell_type": "code",
   "execution_count": 251,
   "metadata": {},
   "outputs": [
    {
     "data": {
      "text/plain": [
       "[['four', 'calling', 'birds'],\n",
       " ['three', 'French', 'hens'],\n",
       " ['two', 'turtle', 'doves']]"
      ]
     },
     "execution_count": 251,
     "metadata": {},
     "output_type": "execute_result"
    }
   ],
   "source": [
    "song"
   ]
  },
  {
   "cell_type": "code",
   "execution_count": 252,
   "metadata": {},
   "outputs": [
    {
     "data": {
      "text/plain": [
       "[('four', 'three', 'two'),\n",
       " ('calling', 'French', 'turtle'),\n",
       " ('birds', 'hens', 'doves')]"
      ]
     },
     "execution_count": 252,
     "metadata": {},
     "output_type": "execute_result"
    }
   ],
   "source": [
    "list(zip(song[0], song[1], song[2]))"
   ]
  },
  {
   "cell_type": "code",
   "execution_count": 253,
   "metadata": {},
   "outputs": [
    {
     "data": {
      "text/plain": [
       "[('four', 'three', 'two'),\n",
       " ('calling', 'French', 'turtle'),\n",
       " ('birds', 'hens', 'doves')]"
      ]
     },
     "execution_count": 253,
     "metadata": {},
     "output_type": "execute_result"
    }
   ],
   "source": [
    "list(zip(*song))"
   ]
  },
  {
   "cell_type": "code",
   "execution_count": 254,
   "metadata": {},
   "outputs": [],
   "source": [
    "import pdb"
   ]
  },
  {
   "cell_type": "code",
   "execution_count": 255,
   "metadata": {},
   "outputs": [],
   "source": [
    "def find_words(text, wordlength, result=[]):\n",
    "    for word in text:\n",
    "        if len(word) == wordlength:\n",
    "             result.append(word)\n",
    "    return result"
   ]
  },
  {
   "cell_type": "code",
   "execution_count": 256,
   "metadata": {},
   "outputs": [
    {
     "data": {
      "text/plain": [
       "['omg', 'teh', 'teh', 'mat']"
      ]
     },
     "execution_count": 256,
     "metadata": {},
     "output_type": "execute_result"
    }
   ],
   "source": [
    "find_words(['omg', 'teh', 'lolcat', 'sitted', 'on', 'teh', 'mat'], 3)"
   ]
  },
  {
   "cell_type": "code",
   "execution_count": 257,
   "metadata": {},
   "outputs": [
    {
     "data": {
      "text/plain": [
       "['omg', 'teh', 'teh', 'mat', 'cat']"
      ]
     },
     "execution_count": 257,
     "metadata": {},
     "output_type": "execute_result"
    }
   ],
   "source": [
    "find_words(['cat'], 3)"
   ]
  },
  {
   "cell_type": "code",
   "execution_count": null,
   "metadata": {},
   "outputs": [
    {
     "name": "stdout",
     "output_type": "stream",
     "text": [
      "> \u001b[0;32m<string>\u001b[0m(1)\u001b[0;36m<module>\u001b[0;34m()\u001b[0m\n",
      "\n",
      "ipdb> ds\n",
      "*** NameError: name 'ds' is not defined\n"
     ]
    }
   ],
   "source": [
    "pdb.run(\"find_words(['dog'], 3)\")"
   ]
  },
  {
   "cell_type": "code",
   "execution_count": null,
   "metadata": {},
   "outputs": [],
   "source": []
  }
 ],
 "metadata": {
  "kernelspec": {
   "display_name": "Python 3",
   "language": "python",
   "name": "python3"
  },
  "language_info": {
   "codemirror_mode": {
    "name": "ipython",
    "version": 3
   },
   "file_extension": ".py",
   "mimetype": "text/x-python",
   "name": "python",
   "nbconvert_exporter": "python",
   "pygments_lexer": "ipython3",
   "version": "3.7.1"
  }
 },
 "nbformat": 4,
 "nbformat_minor": 4
}
